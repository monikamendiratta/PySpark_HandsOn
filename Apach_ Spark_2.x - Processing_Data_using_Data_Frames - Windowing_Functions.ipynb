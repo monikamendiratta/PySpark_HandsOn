{
 "cells": [
  {
   "cell_type": "markdown",
   "metadata": {},
   "source": [
    "### <div class=\"alert alert-success\" style=\"background:#2C3E50;color:white\">Data Frame Operations - Window Functions - Overview & APIs</div>"
   ]
  },
  {
   "cell_type": "markdown",
   "metadata": {},
   "source": [
    "This section will show advanced operations on Data Frames such as -\n",
    "* Windowing functions\n",
    "\n",
    "Windowing functions comprise APIs for -\n",
    "* Aggregations\n",
    "* Rankings\n",
    "* Analytics"
   ]
  },
  {
   "cell_type": "markdown",
   "metadata": {},
   "source": [
    "<p style=\"background:#F1C40F\"><b>Example Problem : </b>To compute and compare individual salary with department wise salary expense. </p>"
   ]
  },
  {
   "cell_type": "markdown",
   "metadata": {},
   "source": [
    "<p style=\"background:#AED6F1\"><b>Windowing Aggregation Example</p>"
   ]
  },
  {
   "cell_type": "markdown",
   "metadata": {},
   "source": [
    "<p style=\"background :#d0d5db\"><b> Approaches:</b></p>\n",
    "\n",
    "* First approach requires self join.\n",
    "    - Compute department wise expense using groupBy and agg.\n",
    "    - Join with employees again on department_id."
   ]
  },
  {
   "cell_type": "markdown",
   "metadata": {},
   "source": [
    "<p style=\"background :#d0d5db\"><b> Example</p>"
   ]
  },
  {
   "cell_type": "code",
   "execution_count": null,
   "metadata": {},
   "outputs": [],
   "source": [
    ">>> employeesDF = spark.read. \\\n",
    "...                     format('csv'). \\\n",
    "...                     option('sep', '\\t'). \\\n",
    "...                     schema('''emp_id int,\n",
    "...                             fname string,\n",
    "...                             lname string,\n",
    "...                             email string,\n",
    "...                             phone string,\n",
    "...                             hiredt string,\n",
    "...                             job_id string,\n",
    "...                             salary float,\n",
    "...                             commission_pct string,\n",
    "...                             manager_id string,\n",
    "...                             department_id int'''). \\\n",
    "...                     load('/user/monahadoop/hr_db/employees')"
   ]
  },
  {
   "cell_type": "code",
   "execution_count": null,
   "metadata": {},
   "outputs": [],
   "source": [
    ">>> employeesDF.show()"
   ]
  },
  {
   "cell_type": "raw",
   "metadata": {},
   "source": [
    "+------+-------+----------+--------+------------------+----------+--------+-------+--------------+----------+-------------+\n",
    "|emp_id|  fname|     lname|   email|             phone|    hiredt|  job_id| salary|commission_pct|manager_id|department_id|\n",
    "+------+-------+----------+--------+------------------+----------+--------+-------+--------------+----------+-------------+\n",
    "|   127|  James|    Landry| JLANDRY|      650.124.1334|1999-01-14|ST_CLERK| 2400.0|          null|       120|           50|\n",
    "|   128| Steven|    Markle| SMARKLE|      650.124.1434|2000-03-08|ST_CLERK| 2200.0|          null|       120|           50|\n",
    "|   129|  Laura|    Bissot| LBISSOT|      650.124.5234|1997-08-20|ST_CLERK| 3300.0|          null|       121|           50|\n",
    "|   130|  Mozhe|  Atkinson|MATKINSO|      650.124.6234|1997-10-30|ST_CLERK| 2800.0|          null|       121|           50|\n",
    "|   131|  James|    Marlow| JAMRLOW|      650.124.7234|1997-02-16|ST_CLERK| 2500.0|          null|       121|           50|\n",
    "|   132|     TJ|     Olson| TJOLSON|      650.124.8234|1999-04-10|ST_CLERK| 2100.0|          null|       121|           50|\n",
    "|   133|  Jason|    Mallin| JMALLIN|      650.127.1934|1996-06-14|ST_CLERK| 3300.0|          null|       122|           50|\n",
    "|   134|Michael|    Rogers| MROGERS|      650.127.1834|1998-08-26|ST_CLERK| 2900.0|          null|       122|           50|\n",
    "|   135|     Ki|       Gee|    KGEE|      650.127.1734|1999-12-12|ST_CLERK| 2400.0|          null|       122|           50|\n",
    "|   136|  Hazel|Philtanker|HPHILTAN|      650.127.1634|2000-02-06|ST_CLERK| 2200.0|          null|       122|           50|\n",
    "|   137| Renske|    Ladwig| RLADWIG|      650.121.1234|1995-07-14|ST_CLERK| 3600.0|          null|       123|           50|\n",
    "|   138|Stephen|    Stiles| SSTILES|      650.121.2034|1997-10-26|ST_CLERK| 3200.0|          null|       123|           50|\n",
    "|   139|   John|       Seo|    JSEO|      650.121.2019|1998-02-12|ST_CLERK| 2700.0|          null|       123|           50|\n",
    "|   140| Joshua|     Patel|  JPATEL|      650.121.1834|1998-04-06|ST_CLERK| 2500.0|          null|       123|           50|\n",
    "|   141| Trenna|      Rajs|   TRAJS|      650.121.8009|1995-10-17|ST_CLERK| 3500.0|          null|       124|           50|\n",
    "|   142| Curtis|    Davies| CDAVIES|      650.121.2994|1997-01-29|ST_CLERK| 3100.0|          null|       124|           50|\n",
    "|   143|Randall|     Matos|  RMATOS|      650.121.2874|1998-03-15|ST_CLERK| 2600.0|          null|       124|           50|\n",
    "|   144|  Peter|    Vargas| PVARGAS|      650.121.2004|1998-07-09|ST_CLERK| 2500.0|          null|       124|           50|\n",
    "|   145|   John|   Russell| JRUSSEL|011.44.1344.429268|1996-10-01|  SA_MAN|14000.0|          0.40|       100|           80|\n",
    "|   146|  Karen|  Partners|KPARTNER|011.44.1344.467268|1997-01-05|  SA_MAN|13500.0|          0.30|       100|           80|\n",
    "+------+-------+----------+--------+------------------+----------+--------+-------+--------------+----------+-------------+\n",
    "only showing top 20 rows"
   ]
  },
  {
   "cell_type": "code",
   "execution_count": null,
   "metadata": {},
   "outputs": [],
   "source": [
    ">>> employeesDF.select('emp_id', 'department_id', 'salary'). \\\n",
    "...             groupBy('department_id'). \\\n",
    "...             agg(round(sum('salary'),2).alias('salary_expense')).show()"
   ]
  },
  {
   "cell_type": "raw",
   "metadata": {},
   "source": [
    "+-------------+--------------+\n",
    "|department_id|salary_expense|\n",
    "+-------------+--------------+\n",
    "|         null|          null|\n",
    "|           20|       19000.0|\n",
    "|           40|        6500.0|\n",
    "|          100|       51600.0|\n",
    "|           10|        4400.0|\n",
    "|           50|      156400.0|\n",
    "|           80|      304500.0|\n",
    "|           70|       10000.0|\n",
    "|           90|       58000.0|\n",
    "|           60|       28800.0|\n",
    "|          110|       20300.0|\n",
    "|           30|       24900.0|\n",
    "+-------------+--------------+"
   ]
  },
  {
   "cell_type": "markdown",
   "metadata": {},
   "source": [
    "* <p style=\"background :#d0d5db\"><b> Second approach Aggreagtion with windowing functions.</p>\n",
    "\n",
    "**However, using the first approach is not very efficient and also overly complicated. Windowing functions actually simplify the logic and also runs efficiently.**\n",
    "\n",
    "The details related to Windowing functions are as follows:\n",
    "- Main package pyspark.sql.window\n",
    "- It has classes such as Window and WindowSpec\n",
    "- Window have APIs such as partitionBy, orderBy etc\n",
    "- These APIs (such as partitionBy) return WindowSpec object. We can pass WindowSpec object to over on functions such as rank(), dense_rank(), sum() etc\n",
    " - Syntax:<code>sum().over(spec) where spec = Window.partitionBy('ColumnName')</code>\n",
    "\n",
    "The following is the lst of different windowing functions -\n",
    "\n",
    "\n",
    "<table align=left><tr><td>Functions</td><td>API or Function</td></tr>\n",
    "<tr><td>Aggregate Functions</td><td>sum</td></tr>\n",
    "<tr><td></td><td>avg</td></tr>\n",
    "<tr><td></td><td>min</td></tr>\n",
    "<tr><td></td><td>max</td></tr>\n",
    "<tr><td>Ranking Functions</td><td>rank</td></tr>   \n",
    "<tr><td></td><td>dense_rank</td></tr>\n",
    "<tr><td></td><td>percent_rank</td></tr>\n",
    "<tr><td></td><td>row_number</td></tr>\n",
    "<tr><td></td><td>ntile</td></tr>\n",
    "<tr><td>Analytic Functions</td><td></td></tr>\n",
    "<tr><td></td><td>cume_dist</td></tr>\n",
    "<tr><td></td><td>first</td></tr>\n",
    "<tr><td></td><td>last</td></tr>\n",
    "<tr><td></td><td>lead</td></tr>\n",
    "<tr><td></td><td>lag</td></tr>    \n",
    "</table>"
   ]
  },
  {
   "cell_type": "markdown",
   "metadata": {},
   "source": [
    "<p style=\"background :#d0d5db\"><b> Example</p>"
   ]
  },
  {
   "cell_type": "code",
   "execution_count": null,
   "metadata": {},
   "outputs": [],
   "source": [
    ">>> from pyspark.sql.window import *"
   ]
  },
  {
   "cell_type": "code",
   "execution_count": null,
   "metadata": {},
   "outputs": [],
   "source": [
    ">>> from pyspark.sql.functions import *"
   ]
  },
  {
   "cell_type": "code",
   "execution_count": null,
   "metadata": {},
   "outputs": [],
   "source": [
    ">>> employeesDF = spark.read. \\\n",
    "...                      format('csv'). \\\n",
    "...                      option('sep', '\\t'). \\\n",
    "...                      schema('''emp_id int,\n",
    "...                              fname string,\n",
    "...                              lname string,\n",
    "...                              email string,\n",
    "...                              phone string,\n",
    "...                              hiredt string,\n",
    "...                              job_id string,\n",
    "...                              salary float,\n",
    "...                              commission_pct string,\n",
    "...                              manager_id string,\n",
    "...                             department_id string'''). \\\n",
    "...                     load('/user/monahadoop/hr_db/employees')\n",
    ">>> employeesDF.show()"
   ]
  },
  {
   "cell_type": "raw",
   "metadata": {},
   "source": [
    "+------+-------+----------+--------+------------------+----------+--------+-------+--------------+----------+-------------+\n",
    "|emp_id|  fname|     lname|   email|             phone|    hiredt|  job_id| salary|commission_pct|manager_id|department_id|\n",
    "+------+-------+----------+--------+------------------+----------+--------+-------+--------------+----------+-------------+\n",
    "|   127|  James|    Landry| JLANDRY|      650.124.1334|1999-01-14|ST_CLERK| 2400.0|          null|       120|           50|\n",
    "|   128| Steven|    Markle| SMARKLE|      650.124.1434|2000-03-08|ST_CLERK| 2200.0|          null|       120|           50|\n",
    "|   129|  Laura|    Bissot| LBISSOT|      650.124.5234|1997-08-20|ST_CLERK| 3300.0|          null|       121|           50|\n",
    "|   130|  Mozhe|  Atkinson|MATKINSO|      650.124.6234|1997-10-30|ST_CLERK| 2800.0|          null|       121|           50|\n",
    "|   131|  James|    Marlow| JAMRLOW|      650.124.7234|1997-02-16|ST_CLERK| 2500.0|          null|       121|           50|\n",
    "|   132|     TJ|     Olson| TJOLSON|      650.124.8234|1999-04-10|ST_CLERK| 2100.0|          null|       121|           50|\n",
    "|   133|  Jason|    Mallin| JMALLIN|      650.127.1934|1996-06-14|ST_CLERK| 3300.0|          null|       122|           50|\n",
    "|   134|Michael|    Rogers| MROGERS|      650.127.1834|1998-08-26|ST_CLERK| 2900.0|          null|       122|           50|\n",
    "|   135|     Ki|       Gee|    KGEE|      650.127.1734|1999-12-12|ST_CLERK| 2400.0|          null|       122|           50|\n",
    "|   136|  Hazel|Philtanker|HPHILTAN|      650.127.1634|2000-02-06|ST_CLERK| 2200.0|          null|       122|           50|\n",
    "|   137| Renske|    Ladwig| RLADWIG|      650.121.1234|1995-07-14|ST_CLERK| 3600.0|          null|       123|           50|\n",
    "|   138|Stephen|    Stiles| SSTILES|      650.121.2034|1997-10-26|ST_CLERK| 3200.0|          null|       123|           50|\n",
    "|   139|   John|       Seo|    JSEO|      650.121.2019|1998-02-12|ST_CLERK| 2700.0|          null|       123|           50|\n",
    "|   140| Joshua|     Patel|  JPATEL|      650.121.1834|1998-04-06|ST_CLERK| 2500.0|          null|       123|           50|\n",
    "|   141| Trenna|      Rajs|   TRAJS|      650.121.8009|1995-10-17|ST_CLERK| 3500.0|          null|       124|           50|\n",
    "|   142| Curtis|    Davies| CDAVIES|      650.121.2994|1997-01-29|ST_CLERK| 3100.0|          null|       124|           50|\n",
    "|   143|Randall|     Matos|  RMATOS|      650.121.2874|1998-03-15|ST_CLERK| 2600.0|          null|       124|           50|\n",
    "|   144|  Peter|    Vargas| PVARGAS|      650.121.2004|1998-07-09|ST_CLERK| 2500.0|          null|       124|           50|\n",
    "|   145|   John|   Russell| JRUSSEL|011.44.1344.429268|1996-10-01|  SA_MAN|14000.0|          0.40|       100|           80|\n",
    "|   146|  Karen|  Partners|KPARTNER|011.44.1344.467268|1997-01-05|  SA_MAN|13500.0|          0.30|       100|           80|\n",
    "+------+-------+----------+--------+------------------+----------+--------+-------+--------------+----------+-------------+"
   ]
  },
  {
   "cell_type": "raw",
   "metadata": {},
   "source": [
    ">>> employeesDF.select('emp_id', 'salary', 'department_id').show()\n",
    "+------+-------+-------------+\n",
    "|emp_id| salary|department_id|\n",
    "+------+-------+-------------+\n",
    "|   127| 2400.0|           50|\n",
    "|   128| 2200.0|           50|\n",
    "|   129| 3300.0|           50|\n",
    "|   130| 2800.0|           50|\n",
    "|   131| 2500.0|           50|\n",
    "|   132| 2100.0|           50|\n",
    "|   133| 3300.0|           50|\n",
    "|   134| 2900.0|           50|\n",
    "|   135| 2400.0|           50|\n",
    "|   136| 2200.0|           50|\n",
    "|   137| 3600.0|           50|\n",
    "|   138| 3200.0|           50|\n",
    "|   139| 2700.0|           50|\n",
    "|   140| 2500.0|           50|\n",
    "|   141| 3500.0|           50|\n",
    "|   142| 3100.0|           50|\n",
    "|   143| 2600.0|           50|\n",
    "|   144| 2500.0|           50|\n",
    "|   145|14000.0|           80|\n",
    "|   146|13500.0|           80|\n",
    "+------+-------+-------------+\n",
    "only showing top 20 rows"
   ]
  },
  {
   "cell_type": "code",
   "execution_count": null,
   "metadata": {},
   "outputs": [],
   "source": [
    ">>> spec = Window.partitionBy('department_id')"
   ]
  },
  {
   "cell_type": "code",
   "execution_count": null,
   "metadata": {},
   "outputs": [],
   "source": [
    ">>> employeesDF.select('emp_id', 'salary', 'department_id').\\\n",
    "...             withColumn('salary_expense', sum('salary').over(spec)). \\\n",
    "...             show()"
   ]
  },
  {
   "cell_type": "raw",
   "metadata": {},
   "source": [
    "+------+-------+-------------+--------------+\n",
    "|emp_id| salary|department_id|salary_expense|\n",
    "+------+-------+-------------+--------------+\n",
    "|   200| 4400.0|           10|        4400.0|\n",
    "|   110| 8200.0|          100|       51600.0|\n",
    "|   111| 7700.0|          100|       51600.0|\n",
    "|   112| 7800.0|          100|       51600.0|\n",
    "|   113| 6900.0|          100|       51600.0|\n",
    "|   108|12000.0|          100|       51600.0|\n",
    "|   109| 9000.0|          100|       51600.0|\n",
    "|   205|12000.0|          110|       20300.0|\n",
    "|   206| 8300.0|          110|       20300.0|\n",
    "|   202| 6000.0|           20|       19000.0|\n",
    "|   201|13000.0|           20|       19000.0|\n",
    "|   114|11000.0|           30|       24900.0|\n",
    "|   119| 2500.0|           30|       24900.0|\n",
    "|   116| 2900.0|           30|       24900.0|\n",
    "|   115| 3100.0|           30|       24900.0|\n",
    "|   118| 2600.0|           30|       24900.0|\n",
    "|   117| 2800.0|           30|       24900.0|\n",
    "|   203| 6500.0|           40|        6500.0|\n",
    "|   127| 2400.0|           50|      156400.0|\n",
    "|   128| 2200.0|           50|      156400.0|\n",
    "+------+-------+-------------+--------------+\n",
    "only showing top 20 rows"
   ]
  },
  {
   "cell_type": "markdown",
   "metadata": {},
   "source": [
    "<p style=\"background :#d0d5db\"><b>Windowing Aggregation Example using spark sql</b> </p>"
   ]
  },
  {
   "cell_type": "code",
   "execution_count": null,
   "metadata": {},
   "outputs": [],
   "source": [
    ">>> employeesDF.createOrReplaceTempView('empvw')"
   ]
  },
  {
   "cell_type": "code",
   "execution_count": null,
   "metadata": {},
   "outputs": [],
   "source": [
    ">>> salaryExpense = spark.sql(\"select _c0, _c7, _c10, sum(_c7)\n",
    "                              over(partition by _c10) salary_exp \n",
    "                              from empvw order by _c10, _c7 desc\")"
   ]
  },
  {
   "cell_type": "raw",
   "metadata": {},
   "source": [
    ">>> salaryExpense.show()\n",
    "+---+--------+----+----------+\n",
    "|_c0|     _c7|_c10|salary_exp|\n",
    "+---+--------+----+----------+\n",
    "|200| 4400.00|  10|    4400.0|\n",
    "|109| 9000.00| 100|   51600.0|\n",
    "|110| 8200.00| 100|   51600.0|\n",
    "|112| 7800.00| 100|   51600.0|\n",
    "|111| 7700.00| 100|   51600.0|\n",
    "|113| 6900.00| 100|   51600.0|\n",
    "|108|12000.00| 100|   51600.0|\n",
    "|206| 8300.00| 110|   20300.0|\n",
    "|205|12000.00| 110|   20300.0|\n",
    "|202| 6000.00|  20|   19000.0|\n",
    "|201|13000.00|  20|   19000.0|\n",
    "|115| 3100.00|  30|   24900.0|\n",
    "|116| 2900.00|  30|   24900.0|\n",
    "|117| 2800.00|  30|   24900.0|\n",
    "|118| 2600.00|  30|   24900.0|\n",
    "|119| 2500.00|  30|   24900.0|\n",
    "|114|11000.00|  30|   24900.0|\n",
    "|203| 6500.00|  40|    6500.0|\n",
    "|121| 8200.00|  50|  156400.0|\n",
    "|120| 8000.00|  50|  156400.0|\n",
    "+---+--------+----+----------+\n",
    "only showing top 20 rows"
   ]
  },
  {
   "cell_type": "markdown",
   "metadata": {},
   "source": [
    "<p style=\"background:#AED6F1\"><b>Data Frame Operations - Creating Window Spec</b>"
   ]
  },
  {
   "cell_type": "markdown",
   "metadata": {},
   "source": [
    "<p style=\"background:#F1C40F\"><b>Window spec :</b> is a specification which contains based on what columns you want to perform operations such as aggregation, ranking, windowing, analytics etc.</p>\n",
    "\n",
    "* The class Window in spark has APIs such a partitionBy and orderBy. \n",
    "* For aggregation, we can define the group by using partitionBy.\n",
    "* For ranking and windowing we need to use partitionBy and orderBy.<br>\n",
    "  partitionBy is to group the data based on the specified column <br>\n",
    "  orderBy   is sort the data to assign rank.\n",
    "* partitionBy and orderBy return object of class WindowSpec.\n",
    "* WindowSpec object needs to be passed in over() clause for ranking and       aggregation."
   ]
  },
  {
   "cell_type": "code",
   "execution_count": null,
   "metadata": {},
   "outputs": [],
   "source": [
    ">>> from pyspark.sql import window"
   ]
  },
  {
   "cell_type": "code",
   "execution_count": null,
   "metadata": {},
   "outputs": [],
   "source": [
    ">>> help(window)"
   ]
  },
  {
   "cell_type": "code",
   "execution_count": null,
   "metadata": {},
   "outputs": [],
   "source": [
    ">>> spec = Window.\\\n",
    "...             partitionBy('department_id'). \\\n",
    "...             orderBy(employeesDF.salary.desc())"
   ]
  },
  {
   "cell_type": "raw",
   "metadata": {},
   "source": []
  },
  {
   "cell_type": "markdown",
   "metadata": {},
   "source": [
    "<p style=\"background:#AED6F1\"><b>Data Frame Operations - Performing Aggregations using sum, avg etc</b>"
   ]
  },
  {
   "cell_type": "code",
   "execution_count": null,
   "metadata": {},
   "outputs": [],
   "source": [
    ">>> employeesDF = spark.read. \\\n",
    "...                      format('csv'). \\\n",
    "...                      option('sep', '\\t'). \\\n",
    "...                      schema('''emp_id int,\n",
    "...                              fname string,\n",
    "...                              lname string,\n",
    "...                              email string,\n",
    "...                              phone string,\n",
    "...                              hiredt string,\n",
    "...                              job_id string,\n",
    "...                              salary float,\n",
    "...                              commission_pct string,\n",
    "...                              manager_id string,\n",
    "...                             department_id string'''). \\\n",
    "...                     load('/user/monahadoop/hr_db/employees')"
   ]
  },
  {
   "cell_type": "code",
   "execution_count": null,
   "metadata": {},
   "outputs": [],
   "source": [
    ">>> from pyspark.sql.window import *\n",
    ">>> spec = Window.partitionBy('department_id')"
   ]
  },
  {
   "cell_type": "code",
   "execution_count": null,
   "metadata": {},
   "outputs": [],
   "source": [
    ">>> employeesDF.select('emp_id', 'salary', 'department_id').\\\n",
    "...             withColumn('salary_expense', sum('salary').over(spec)). \\\n",
    "...             sort('department_id').show()"
   ]
  },
  {
   "cell_type": "raw",
   "metadata": {},
   "source": [
    "+------+-------+-------------+--------------+\n",
    "|emp_id| salary|department_id|salary_expense|\n",
    "+------+-------+-------------+--------------+\n",
    "|   200| 4400.0|           10|        4400.0|\n",
    "|   110| 8200.0|          100|       51600.0|\n",
    "|   111| 7700.0|          100|       51600.0|\n",
    "|   112| 7800.0|          100|       51600.0|\n",
    "|   113| 6900.0|          100|       51600.0|\n",
    "|   108|12000.0|          100|       51600.0|\n",
    "|   109| 9000.0|          100|       51600.0|\n",
    "|   205|12000.0|          110|       20300.0|\n",
    "|   206| 8300.0|          110|       20300.0|\n",
    "|   202| 6000.0|           20|       19000.0|\n",
    "|   201|13000.0|           20|       19000.0|\n",
    "|   114|11000.0|           30|       24900.0|\n",
    "|   119| 2500.0|           30|       24900.0|\n",
    "|   116| 2900.0|           30|       24900.0|\n",
    "|   115| 3100.0|           30|       24900.0|\n",
    "|   118| 2600.0|           30|       24900.0|\n",
    "|   117| 2800.0|           30|       24900.0|\n",
    "|   203| 6500.0|           40|        6500.0|\n",
    "|   127| 2400.0|           50|      156400.0|\n",
    "|   128| 2200.0|           50|      156400.0|\n",
    "+------+-------+-------------+--------------+\n",
    "only showing top 20 rows"
   ]
  },
  {
   "cell_type": "code",
   "execution_count": null,
   "metadata": {},
   "outputs": [],
   "source": [
    ">>> employeesDF.select('emp_id','department_id','salary').\\\n",
    "...             withColumn('salary_expense', sum('salary').over(spec)). \\\n",
    "...             withColumn('least_salary', min('salary').over(spec)). \\\n",
    "...             withColumn('highest_salary', max('salary').over(spec)). \\\n",
    "...             withColumn('average_salary', avg('salary').over(spec)). \\\n",
    "...             sort('department_id').show()"
   ]
  },
  {
   "cell_type": "raw",
   "metadata": {},
   "source": [
    "+------+-------------+-------+--------------+------------+--------------+------------------+\n",
    "|emp_id|department_id| salary|salary_expense|least_salary|highest_salary|    average_salary|\n",
    "+------+-------------+-------+--------------+------------+--------------+------------------+\n",
    "|   200|           10| 4400.0|        4400.0|      4400.0|        4400.0|            4400.0|\n",
    "|   110|          100| 8200.0|       51600.0|      6900.0|       12000.0|            8600.0|\n",
    "|   111|          100| 7700.0|       51600.0|      6900.0|       12000.0|            8600.0|\n",
    "|   112|          100| 7800.0|       51600.0|      6900.0|       12000.0|            8600.0|\n",
    "|   113|          100| 6900.0|       51600.0|      6900.0|       12000.0|            8600.0|\n",
    "|   108|          100|12000.0|       51600.0|      6900.0|       12000.0|            8600.0|\n",
    "|   109|          100| 9000.0|       51600.0|      6900.0|       12000.0|            8600.0|\n",
    "|   205|          110|12000.0|       20300.0|      8300.0|       12000.0|           10150.0|\n",
    "|   206|          110| 8300.0|       20300.0|      8300.0|       12000.0|           10150.0|\n",
    "|   202|           20| 6000.0|       19000.0|      6000.0|       13000.0|            9500.0|\n",
    "|   201|           20|13000.0|       19000.0|      6000.0|       13000.0|            9500.0|\n",
    "|   114|           30|11000.0|       24900.0|      2500.0|       11000.0|            4150.0|\n",
    "|   119|           30| 2500.0|       24900.0|      2500.0|       11000.0|            4150.0|\n",
    "|   116|           30| 2900.0|       24900.0|      2500.0|       11000.0|            4150.0|\n",
    "|   115|           30| 3100.0|       24900.0|      2500.0|       11000.0|            4150.0|\n",
    "|   118|           30| 2600.0|       24900.0|      2500.0|       11000.0|            4150.0|\n",
    "|   117|           30| 2800.0|       24900.0|      2500.0|       11000.0|            4150.0|\n",
    "|   203|           40| 6500.0|        6500.0|      6500.0|        6500.0|            6500.0|\n",
    "|   127|           50| 2400.0|      156400.0|      2100.0|        8200.0|3475.5555555555557|\n",
    "|   128|           50| 2200.0|      156400.0|      2100.0|        8200.0|3475.5555555555557|\n",
    "+------+-------------+-------+--------------+------------+--------------+------------------+\n",
    "only showing top 20 rows"
   ]
  },
  {
   "cell_type": "code",
   "execution_count": null,
   "metadata": {},
   "outputs": [],
   "source": [
    ">>> employeesDF.select('emp_id','department_id','salary').\\\n",
    "...             withColumn('salary_expense', sum('salary').over(spec)). \\\n",
    "...             withColumn('salary_pct', employeesDF.salary/col('salary_expense')). \\\n",
    "...             show()"
   ]
  },
  {
   "cell_type": "raw",
   "metadata": {},
   "source": [
    "+------+-------------+-------+--------------+-------------------+\n",
    "|emp_id|department_id| salary|salary_expense|         salary_pct|\n",
    "+------+-------------+-------+--------------+-------------------+\n",
    "|   114|           30|11000.0|       24900.0|0.44176706827309237|\n",
    "|   115|           30| 3100.0|       24900.0|0.12449799196787148|\n",
    "|   116|           30| 2900.0|       24900.0|0.11646586345381527|\n",
    "|   117|           30| 2800.0|       24900.0|0.11244979919678715|\n",
    "|   118|           30| 2600.0|       24900.0|0.10441767068273092|\n",
    "|   119|           30| 2500.0|       24900.0|0.10040160642570281|\n",
    "|   205|          110|12000.0|       20300.0| 0.5911330049261084|\n",
    "|   206|          110| 8300.0|       20300.0| 0.4088669950738916|\n",
    "|   108|          100|12000.0|       51600.0|0.23255813953488372|\n",
    "|   109|          100| 9000.0|       51600.0| 0.1744186046511628|\n",
    "|   110|          100| 8200.0|       51600.0|0.15891472868217055|\n",
    "|   111|          100| 7700.0|       51600.0|0.14922480620155038|\n",
    "|   112|          100| 7800.0|       51600.0| 0.1511627906976744|\n",
    "|   113|          100| 6900.0|       51600.0|0.13372093023255813|\n",
    "|   204|           70|10000.0|       10000.0|                1.0|\n",
    "|   103|           60| 9000.0|       28800.0|             0.3125|\n",
    "|   104|           60| 6000.0|       28800.0|0.20833333333333334|\n",
    "|   105|           60| 4800.0|       28800.0|0.16666666666666666|\n",
    "|   106|           60| 4800.0|       28800.0|0.16666666666666666|\n",
    "|   107|           60| 4200.0|       28800.0|0.14583333333333334|\n",
    "+------+-------------+-------+--------------+-------------------+\n",
    "only showing top 20 rows"
   ]
  },
  {
   "cell_type": "code",
   "execution_count": null,
   "metadata": {},
   "outputs": [],
   "source": [
    ">>> employeesDF.select('emp_id','department_id','salary').\\\n",
    "...             withColumn('salary_expense', sum('salary').over(spec)). \\\n",
    "...             withColumn('salary_pct', round((employeesDF.salary/col('salary_expense') * 100), 2)). \\ \n",
    "...             show()"
   ]
  },
  {
   "cell_type": "raw",
   "metadata": {},
   "source": [
    "+------+-------------+-------+--------------+----------+\n",
    "|emp_id|department_id| salary|salary_expense|salary_pct|\n",
    "+------+-------------+-------+--------------+----------+\n",
    "|   114|           30|11000.0|       24900.0|     44.18|\n",
    "|   115|           30| 3100.0|       24900.0|     12.45|\n",
    "|   116|           30| 2900.0|       24900.0|     11.65|\n",
    "|   117|           30| 2800.0|       24900.0|     11.24|\n",
    "|   118|           30| 2600.0|       24900.0|     10.44|\n",
    "|   119|           30| 2500.0|       24900.0|     10.04|\n",
    "|   205|          110|12000.0|       20300.0|     59.11|\n",
    "|   206|          110| 8300.0|       20300.0|     40.89|\n",
    "|   108|          100|12000.0|       51600.0|     23.26|\n",
    "|   109|          100| 9000.0|       51600.0|     17.44|\n",
    "|   110|          100| 8200.0|       51600.0|     15.89|\n",
    "|   111|          100| 7700.0|       51600.0|     14.92|\n",
    "|   112|          100| 7800.0|       51600.0|     15.12|\n",
    "|   113|          100| 6900.0|       51600.0|     13.37|\n",
    "|   204|           70|10000.0|       10000.0|     100.0|\n",
    "|   103|           60| 9000.0|       28800.0|     31.25|\n",
    "|   104|           60| 6000.0|       28800.0|     20.83|\n",
    "|   105|           60| 4800.0|       28800.0|     16.67|\n",
    "|   106|           60| 4800.0|       28800.0|     16.67|\n",
    "|   107|           60| 4200.0|       28800.0|     14.58|\n",
    "+------+-------------+-------+--------------+----------+\n",
    "only showing top 20 rows"
   ]
  },
  {
   "cell_type": "markdown",
   "metadata": {},
   "source": [
    "<p style=\"background:#AED6F1\"><b>Exercises</b></p>"
   ]
  },
  {
   "cell_type": "markdown",
   "metadata": {},
   "source": [
    "<p style=\"background:#F1C40F\">Get the average Salary for each department and details of all employees who earn more than the average salary .</p>"
   ]
  },
  {
   "cell_type": "code",
   "execution_count": null,
   "metadata": {},
   "outputs": [],
   "source": [
    ">>> from pyspark.sql.functions import *\n",
    ">>> from pyspark.sql.window import *"
   ]
  },
  {
   "cell_type": "code",
   "execution_count": null,
   "metadata": {},
   "outputs": [],
   "source": [
    ">>> employees = spark.read. \\\n",
    "...                     format('csv'). \\\n",
    "...                     option('sep', '\\t'). \\\n",
    "...                     schema('''emp_id int,\n",
    "...                             fname string,\n",
    "...                             lname string,\n",
    "...                             email string,\n",
    "...                             phone string,\n",
    "...                             hiredt string,\n",
    "...                             job_id string,\n",
    "...                             salary float,\n",
    "...                             com_pct string,\n",
    "...                             mgr_id string,\n",
    "...                             dept_id string'''). \\\n",
    "...                     load('/user/monahadoop/hr_db/employees')\n",
    "\n",
    ">>> employees.printSchema()"
   ]
  },
  {
   "cell_type": "raw",
   "metadata": {},
   "source": [
    "root\n",
    " |-- emp_id: integer (nullable = true)\n",
    " |-- fname: string (nullable = true)\n",
    " |-- lname: string (nullable = true)\n",
    " |-- email: string (nullable = true)\n",
    " |-- phone: string (nullable = true)\n",
    " |-- hiredt: string (nullable = true)\n",
    " |-- job_id: string (nullable = true)\n",
    " |-- salary: float (nullable = true)\n",
    " |-- com_pct: string (nullable = true)\n",
    " |-- mgr_id: string (nullable = true)\n",
    " |-- dept_id: string (nullable = true)"
   ]
  },
  {
   "cell_type": "code",
   "execution_count": null,
   "metadata": {},
   "outputs": [],
   "source": [
    ">>> spec = Window.partitionBy('dept_id')"
   ]
  },
  {
   "cell_type": "code",
   "execution_count": null,
   "metadata": {},
   "outputs": [],
   "source": [
    ">>> avgSalaryByDept = employees.\\\n",
    "...                     select('emp_id', 'fname', 'lname', 'salary', 'dept_id'). \\\n",
    "...                     withColumn('average_salary', avg('salary').over(spec))"
   ]
  },
  {
   "cell_type": "code",
   "execution_count": null,
   "metadata": {},
   "outputs": [],
   "source": [
    ">>> avgSalaryByDept.show()"
   ]
  },
  {
   "cell_type": "raw",
   "metadata": {},
   "source": [
    "+------+-----------+----------+-------+-------+--------------+\n",
    "|emp_id|      fname|     lname| salary|dept_id|average_salary|\n",
    "+------+-----------+----------+-------+-------+--------------+\n",
    "|   114|        Den|  Raphaely|11000.0|     30|        4150.0|\n",
    "|   115|  Alexander|      Khoo| 3100.0|     30|        4150.0|\n",
    "|   116|     Shelli|     Baida| 2900.0|     30|        4150.0|\n",
    "|   117|      Sigal|    Tobias| 2800.0|     30|        4150.0|\n",
    "|   118|        Guy|    Himuro| 2600.0|     30|        4150.0|\n",
    "|   119|      Karen|Colmenares| 2500.0|     30|        4150.0|\n",
    "|   205|    Shelley|   Higgins|12000.0|    110|       10150.0|\n",
    "|   206|    William|     Gietz| 8300.0|    110|       10150.0|\n",
    "|   108|      Nancy| Greenberg|12000.0|    100|        8600.0|\n",
    "|   109|     Daniel|    Faviet| 9000.0|    100|        8600.0|\n",
    "|   110|       John|      Chen| 8200.0|    100|        8600.0|\n",
    "|   111|     Ismael|   Sciarra| 7700.0|    100|        8600.0|\n",
    "|   112|Jose Manuel|     Urman| 7800.0|    100|        8600.0|\n",
    "|   113|       Luis|      Popp| 6900.0|    100|        8600.0|\n",
    "|   204|    Hermann|      Baer|10000.0|     70|       10000.0|\n",
    "|   103|  Alexander|    Hunold| 9000.0|     60|        5760.0|\n",
    "|   104|      Bruce|     Ernst| 6000.0|     60|        5760.0|\n",
    "|   105|      David|    Austin| 4800.0|     60|        5760.0|\n",
    "|   106|      Valli| Pataballa| 4800.0|     60|        5760.0|\n",
    "|   107|      Diana|   Lorentz| 4200.0|     60|        5760.0|\n",
    "+------+-----------+----------+-------+-------+--------------+\n",
    "only showing top 20 rows"
   ]
  },
  {
   "cell_type": "code",
   "execution_count": null,
   "metadata": {},
   "outputs": [],
   "source": [
    ">>> avgSalaryByDept = employees.\\\n",
    "...                     select('emp_id', 'fname', 'lname', 'salary', 'dept_id'). \\\n",
    "...                     withColumn('average_salary', round(avg('salary').over(spec), 2)). \\\n",
    "...                     where(col('average_salary') < employees.salary)"
   ]
  },
  {
   "cell_type": "code",
   "execution_count": null,
   "metadata": {},
   "outputs": [],
   "source": [
    ">>> avgSalaryByDept.show()"
   ]
  },
  {
   "cell_type": "raw",
   "metadata": {},
   "source": [
    "+------+---------+---------+-------+-------+--------------+\n",
    "|emp_id|    fname|    lname| salary|dept_id|average_salary|\n",
    "+------+---------+---------+-------+-------+--------------+\n",
    "|   114|      Den| Raphaely|11000.0|     30|        4150.0|\n",
    "|   205|  Shelley|  Higgins|12000.0|    110|       10150.0|\n",
    "|   108|    Nancy|Greenberg|12000.0|    100|        8600.0|\n",
    "|   109|   Daniel|   Faviet| 9000.0|    100|        8600.0|\n",
    "|   103|Alexander|   Hunold| 9000.0|     60|        5760.0|\n",
    "|   104|    Bruce|    Ernst| 6000.0|     60|        5760.0|\n",
    "|   100|   Steven|     King|24000.0|     90|      19333.33|\n",
    "|   201|  Michael|Hartstein|13000.0|     20|        9500.0|\n",
    "|   145|     John|  Russell|14000.0|     80|       8955.88|\n",
    "|   146|    Karen| Partners|13500.0|     80|       8955.88|\n",
    "|   147|  Alberto|Errazuriz|12000.0|     80|       8955.88|\n",
    "|   148|   Gerald|Cambrault|11000.0|     80|       8955.88|\n",
    "|   149|    Eleni|  Zlotkey|10500.0|     80|       8955.88|\n",
    "|   150|    Peter|   Tucker|10000.0|     80|       8955.88|\n",
    "|   151|    David|Bernstein| 9500.0|     80|       8955.88|\n",
    "|   152|    Peter|     Hall| 9000.0|     80|       8955.88|\n",
    "|   156|  Janette|     King|10000.0|     80|       8955.88|\n",
    "|   157|  Patrick|    Sully| 9500.0|     80|       8955.88|\n",
    "|   158|    Allan|   McEwen| 9000.0|     80|       8955.88|\n",
    "|   162|    Clara|  Vishney|10500.0|     80|       8955.88|\n",
    "+------+---------+---------+-------+-------+--------------+\n",
    "only showing top 20 rows"
   ]
  },
  {
   "cell_type": "code",
   "execution_count": null,
   "metadata": {},
   "outputs": [],
   "source": [
    ">>> avgSalaryByDept.show(50)"
   ]
  },
  {
   "cell_type": "raw",
   "metadata": {},
   "source": [
    "+------+---------+---------+-------+-------+--------------+\n",
    "|emp_id|    fname|    lname| salary|dept_id|average_salary|\n",
    "+------+---------+---------+-------+-------+--------------+\n",
    "|   114|      Den| Raphaely|11000.0|     30|        4150.0|\n",
    "|   205|  Shelley|  Higgins|12000.0|    110|       10150.0|\n",
    "|   108|    Nancy|Greenberg|12000.0|    100|        8600.0|\n",
    "|   109|   Daniel|   Faviet| 9000.0|    100|        8600.0|\n",
    "|   103|Alexander|   Hunold| 9000.0|     60|        5760.0|\n",
    "|   104|    Bruce|    Ernst| 6000.0|     60|        5760.0|\n",
    "|   100|   Steven|     King|24000.0|     90|      19333.33|\n",
    "|   201|  Michael|Hartstein|13000.0|     20|        9500.0|\n",
    "|   145|     John|  Russell|14000.0|     80|       8955.88|\n",
    "|   146|    Karen| Partners|13500.0|     80|       8955.88|\n",
    "|   147|  Alberto|Errazuriz|12000.0|     80|       8955.88|\n",
    "|   148|   Gerald|Cambrault|11000.0|     80|       8955.88|\n",
    "|   149|    Eleni|  Zlotkey|10500.0|     80|       8955.88|\n",
    "|   150|    Peter|   Tucker|10000.0|     80|       8955.88|\n",
    "|   151|    David|Bernstein| 9500.0|     80|       8955.88|\n",
    "|   152|    Peter|     Hall| 9000.0|     80|       8955.88|\n",
    "|   156|  Janette|     King|10000.0|     80|       8955.88|\n",
    "|   157|  Patrick|    Sully| 9500.0|     80|       8955.88|\n",
    "|   158|    Allan|   McEwen| 9000.0|     80|       8955.88|\n",
    "|   162|    Clara|  Vishney|10500.0|     80|       8955.88|\n",
    "|   163| Danielle|   Greene| 9500.0|     80|       8955.88|\n",
    "|   168|     Lisa|     Ozer|11500.0|     80|       8955.88|\n",
    "|   169| Harrison|    Bloom|10000.0|     80|       8955.88|\n",
    "|   170|   Tayler|      Fox| 9600.0|     80|       8955.88|\n",
    "|   174|    Ellen|     Abel|11000.0|     80|       8955.88|\n",
    "|   137|   Renske|   Ladwig| 3600.0|     50|       3475.56|\n",
    "|   141|   Trenna|     Rajs| 3500.0|     50|       3475.56|\n",
    "|   120|  Matthew|    Weiss| 8000.0|     50|       3475.56|\n",
    "|   121|     Adam|    Fripp| 8200.0|     50|       3475.56|\n",
    "|   122|    Payam| Kaufling| 7900.0|     50|       3475.56|\n",
    "|   123|   Shanta|  Vollman| 6500.0|     50|       3475.56|\n",
    "|   124|    Kevin|  Mourgos| 5800.0|     50|       3475.56|\n",
    "|   184|  Nandita| Sarchand| 4200.0|     50|       3475.56|\n",
    "|   185|   Alexis|     Bull| 4100.0|     50|       3475.56|\n",
    "|   188|    Kelly|    Chung| 3800.0|     50|       3475.56|\n",
    "|   189| Jennifer|    Dilly| 3600.0|     50|       3475.56|\n",
    "|   192|    Sarah|     Bell| 4000.0|     50|       3475.56|\n",
    "|   193|  Britney|  Everett| 3900.0|     50|       3475.56|\n",
    "+------+---------+---------+-------+-------+--------------+"
   ]
  },
  {
   "cell_type": "markdown",
   "metadata": {},
   "source": [
    "<p style=\"background :#d0d5db\"><b>Solving using spark sql</b> </p>"
   ]
  },
  {
   "cell_type": "code",
   "execution_count": null,
   "metadata": {},
   "outputs": [],
   "source": [
    ">>> employees.createOrReplaceTempView('empvw')"
   ]
  },
  {
   "cell_type": "code",
   "execution_count": null,
   "metadata": {},
   "outputs": [],
   "source": [
    ">>> avgSalaryByDept_sql = spark.sql('select * from empvw')"
   ]
  },
  {
   "cell_type": "code",
   "execution_count": null,
   "metadata": {},
   "outputs": [],
   "source": [
    ">>> avgSalaryByDept_sql.show(5)"
   ]
  },
  {
   "cell_type": "raw",
   "metadata": {},
   "source": [
    "+------+------+--------+--------+------------+----------+--------+------+-------+------+-------+\n",
    "|emp_id| fname|   lname|   email|       phone|    hiredt|  job_id|salary|com_pct|mgr_id|dept_id|\n",
    "+------+------+--------+--------+------------+----------+--------+------+-------+------+-------+\n",
    "|   127| James|  Landry| JLANDRY|650.124.1334|1999-01-14|ST_CLERK|2400.0|   null|   120|     50|\n",
    "|   128|Steven|  Markle| SMARKLE|650.124.1434|2000-03-08|ST_CLERK|2200.0|   null|   120|     50|\n",
    "|   129| Laura|  Bissot| LBISSOT|650.124.5234|1997-08-20|ST_CLERK|3300.0|   null|   121|     50|\n",
    "|   130| Mozhe|Atkinson|MATKINSO|650.124.6234|1997-10-30|ST_CLERK|2800.0|   null|   121|     50|\n",
    "|   131| James|  Marlow| JAMRLOW|650.124.7234|1997-02-16|ST_CLERK|2500.0|   null|   121|     50|\n",
    "+------+------+--------+--------+------------+----------+--------+------+-------+------+-------+\n",
    "only showing top 5 rows"
   ]
  },
  {
   "cell_type": "code",
   "execution_count": null,
   "metadata": {},
   "outputs": [],
   "source": [
    ">>> avgSalaryByDept_sql = spark.sql('''select emp_id,\n",
    "...                                             fname,\n",
    "...                                             lname,\n",
    "...                                             email,\n",
    "...                                             salary,\n",
    "...                                             dept_id,\n",
    "...                                             round(avg(salary) over(partition by dept_id), 2) as average_salary\n",
    "...                                     from empvw ''')"
   ]
  },
  {
   "cell_type": "code",
   "execution_count": null,
   "metadata": {},
   "outputs": [],
   "source": [
    ">>> avgSalaryByDept_sql.show(6)"
   ]
  },
  {
   "cell_type": "raw",
   "metadata": {},
   "source": [
    "+------+---------+----------+--------+-------+-------+--------------+\n",
    "|emp_id|    fname|     lname|   email| salary|dept_id|average_salary|\n",
    "+------+---------+----------+--------+-------+-------+--------------+\n",
    "|   114|      Den|  Raphaely|DRAPHEAL|11000.0|     30|        4150.0|\n",
    "|   115|Alexander|      Khoo|   AKHOO| 3100.0|     30|        4150.0|\n",
    "|   116|   Shelli|     Baida|  SBAIDA| 2900.0|     30|        4150.0|\n",
    "|   117|    Sigal|    Tobias| STOBIAS| 2800.0|     30|        4150.0|\n",
    "|   118|      Guy|    Himuro| GHIMURO| 2600.0|     30|        4150.0|\n",
    "|   119|    Karen|Colmenares|KCOLMENA| 2500.0|     30|        4150.0|\n",
    "+------+---------+----------+--------+-------+-------+--------------+\n",
    "only showing top 6 rows"
   ]
  },
  {
   "cell_type": "code",
   "execution_count": null,
   "metadata": {},
   "outputs": [],
   "source": [
    ">>> avgSalaryByDept_sql.where(col('salary') > col('average_salary')).show()"
   ]
  },
  {
   "cell_type": "raw",
   "metadata": {},
   "source": [
    "+------+---------+---------+-------+-------+--------------+\n",
    "|emp_id|    fname|    lname| salary|dept_id|average_salary|\n",
    "+------+---------+---------+-------+-------+--------------+\n",
    "|   114|      Den| Raphaely|11000.0|     30|        4150.0|\n",
    "|   205|  Shelley|  Higgins|12000.0|    110|       10150.0|\n",
    "|   108|    Nancy|Greenberg|12000.0|    100|        8600.0|\n",
    "|   109|   Daniel|   Faviet| 9000.0|    100|        8600.0|\n",
    "|   103|Alexander|   Hunold| 9000.0|     60|        5760.0|\n",
    "|   104|    Bruce|    Ernst| 6000.0|     60|        5760.0|\n",
    "|   100|   Steven|     King|24000.0|     90|      19333.33|\n",
    "|   201|  Michael|Hartstein|13000.0|     20|        9500.0|\n",
    "|   145|     John|  Russell|14000.0|     80|       8955.88|\n",
    "|   146|    Karen| Partners|13500.0|     80|       8955.88|\n",
    "|   147|  Alberto|Errazuriz|12000.0|     80|       8955.88|\n",
    "|   148|   Gerald|Cambrault|11000.0|     80|       8955.88|\n",
    "|   149|    Eleni|  Zlotkey|10500.0|     80|       8955.88|\n",
    "|   150|    Peter|   Tucker|10000.0|     80|       8955.88|\n",
    "|   151|    David|Bernstein| 9500.0|     80|       8955.88|\n",
    "|   152|    Peter|     Hall| 9000.0|     80|       8955.88|\n",
    "|   156|  Janette|     King|10000.0|     80|       8955.88|\n",
    "|   157|  Patrick|    Sully| 9500.0|     80|       8955.88|\n",
    "|   158|    Allan|   McEwen| 9000.0|     80|       8955.88|\n",
    "|   162|    Clara|  Vishney|10500.0|     80|       8955.88|\n",
    "+------+---------+---------+-------+-------+--------------+\n",
    "only showing top 20 rows"
   ]
  },
  {
   "cell_type": "code",
   "execution_count": null,
   "metadata": {},
   "outputs": [],
   "source": [
    ">>> avgSalaryByDept_sql.where(col('dept_id') == 30).show()"
   ]
  },
  {
   "cell_type": "raw",
   "metadata": {},
   "source": [
    "+------+---------+----------+-------+-------+--------------+\n",
    "|emp_id|    fname|     lname| salary|dept_id|average_salary|\n",
    "+------+---------+----------+-------+-------+--------------+\n",
    "|   114|      Den|  Raphaely|11000.0|     30|        4150.0|\n",
    "|   115|Alexander|      Khoo| 3100.0|     30|        4150.0|\n",
    "|   116|   Shelli|     Baida| 2900.0|     30|        4150.0|\n",
    "|   117|    Sigal|    Tobias| 2800.0|     30|        4150.0|\n",
    "|   118|      Guy|    Himuro| 2600.0|     30|        4150.0|\n",
    "|   119|    Karen|Colmenares| 2500.0|     30|        4150.0|\n",
    "+------+---------+----------+-------+-------+--------------+"
   ]
  },
  {
   "cell_type": "code",
   "execution_count": null,
   "metadata": {},
   "outputs": [],
   "source": [
    ">>> avgSalaryByDept_sql.where((col('salary') > col('average_salary')) & (col('dept_id') == 30)).show()"
   ]
  },
  {
   "cell_type": "raw",
   "metadata": {},
   "source": [
    "+------+-----+--------+-------+-------+--------------+\n",
    "|emp_id|fname|   lname| salary|dept_id|average_salary|\n",
    "+------+-----+--------+-------+-------+--------------+\n",
    "|   114|  Den|Raphaely|11000.0|     30|        4150.0|\n",
    "+------+-----+--------+-------+-------+--------------+"
   ]
  },
  {
   "cell_type": "markdown",
   "metadata": {},
   "source": [
    "<p style=\"background:#F1C40F\">Get the average revenue for each day and the details of orders like order_id and their total revenue, that have more revenue than the average.</p>"
   ]
  },
  {
   "cell_type": "code",
   "execution_count": null,
   "metadata": {},
   "outputs": [],
   "source": [
    ">>> orders = spark.read. \\\n",
    "...             format('csv'). \\\n",
    "...             schema('''\n",
    "...                     order_id int,\n",
    "...                     order_date string,\n",
    "...                     customer_id int,\n",
    "...                     order_status string\n",
    "...                     '''). \\\n",
    "...             load('/public/retail_db/orders')\n",
    ">>> \n",
    ">>> orders.show(5)"
   ]
  },
  {
   "cell_type": "raw",
   "metadata": {},
   "source": [
    "+--------+--------------------+-----------+---------------+\n",
    "|order_id|          order_date|customer_id|   order_status|\n",
    "+--------+--------------------+-----------+---------------+\n",
    "|       1|2013-07-25 00:00:...|      11599|         CLOSED|\n",
    "|       2|2013-07-25 00:00:...|        256|PENDING_PAYMENT|\n",
    "|       3|2013-07-25 00:00:...|      12111|       COMPLETE|\n",
    "|       4|2013-07-25 00:00:...|       8827|         CLOSED|\n",
    "|       5|2013-07-25 00:00:...|      11318|       COMPLETE|\n",
    "+--------+--------------------+-----------+---------------+\n",
    "only showing top 5 rows"
   ]
  },
  {
   "cell_type": "code",
   "execution_count": null,
   "metadata": {},
   "outputs": [],
   "source": [
    ">>> orderItems = spark.read. \\\n",
    "...                     format('csv'). \\\n",
    "...                     schema('''\n",
    "...                             oi_item_id int,\n",
    "...                             oi_order_id int,\n",
    "...                             oi_product_id int,\n",
    "...                             oi_qty int,\n",
    "...                             oi_subtotal float,\n",
    "...                             oi_product_price float\n",
    "...                             '''). \\\n",
    "...                     load('/public/retail_db/order_items')\n",
    ">>> orderItems.show(5)"
   ]
  },
  {
   "cell_type": "raw",
   "metadata": {},
   "source": [
    "+----------+-----------+-------------+------+-----------+----------------+\n",
    "|oi_item_id|oi_order_id|oi_product_id|oi_qty|oi_subtotal|oi_product_price|\n",
    "+----------+-----------+-------------+------+-----------+----------------+\n",
    "|         1|          1|          957|     1|     299.98|          299.98|\n",
    "|         2|          2|         1073|     1|     199.99|          199.99|\n",
    "|         3|          2|          502|     5|      250.0|            50.0|\n",
    "|         4|          2|          403|     1|     129.99|          129.99|\n",
    "|         5|          4|          897|     2|      49.98|           24.99|\n",
    "+----------+-----------+-------------+------+-----------+----------------+\n",
    "only showing top 5 rows"
   ]
  },
  {
   "cell_type": "code",
   "execution_count": null,
   "metadata": {},
   "outputs": [],
   "source": [
    ">>> ordersJoin = orders.where('order_status in (\"CLOSED\", \"COMPLETE\")'). \\\n",
    "...                     join(orderItems, orders.order_id == orderItems.oi_order_id)\n",
    ">>> ordersJoin.show()"
   ]
  },
  {
   "cell_type": "raw",
   "metadata": {},
   "source": [
    "+--------+--------------------+-----------+------------+----------+-----------+-------------+------+-----------+----------------+\n",
    "|order_id|          order_date|customer_id|order_status|oi_item_id|oi_order_id|oi_product_id|oi_qty|oi_subtotal|oi_product_price|\n",
    "+--------+--------------------+-----------+------------+----------+-----------+-------------+------+-----------+----------------+\n",
    "|       1|2013-07-25 00:00:...|      11599|      CLOSED|         1|          1|          957|     1|     299.98|          299.98|\n",
    "|       4|2013-07-25 00:00:...|       8827|      CLOSED|         5|          4|          897|     2|      49.98|           24.99|\n",
    "|       4|2013-07-25 00:00:...|       8827|      CLOSED|         6|          4|          365|     5|     299.95|           59.99|\n",
    "|       4|2013-07-25 00:00:...|       8827|      CLOSED|         7|          4|          502|     3|      150.0|            50.0|\n",
    "|       4|2013-07-25 00:00:...|       8827|      CLOSED|         8|          4|         1014|     4|     199.92|           49.98|\n",
    "|       5|2013-07-25 00:00:...|      11318|    COMPLETE|         9|          5|          957|     1|     299.98|          299.98|\n",
    "|       5|2013-07-25 00:00:...|      11318|    COMPLETE|        10|          5|          365|     5|     299.95|           59.99|\n",
    "|       5|2013-07-25 00:00:...|      11318|    COMPLETE|        11|          5|         1014|     2|      99.96|           49.98|\n",
    "|       5|2013-07-25 00:00:...|      11318|    COMPLETE|        12|          5|          957|     1|     299.98|          299.98|\n",
    "|       5|2013-07-25 00:00:...|      11318|    COMPLETE|        13|          5|          403|     1|     129.99|          129.99|\n",
    "|       7|2013-07-25 00:00:...|       4530|    COMPLETE|        14|          7|         1073|     1|     199.99|          199.99|\n",
    "|       7|2013-07-25 00:00:...|       4530|    COMPLETE|        15|          7|          957|     1|     299.98|          299.98|\n",
    "|       7|2013-07-25 00:00:...|       4530|    COMPLETE|        16|          7|          926|     5|      79.95|           15.99|\n",
    "|      12|2013-07-25 00:00:...|       1837|      CLOSED|        34|         12|          957|     1|     299.98|          299.98|\n",
    "|      12|2013-07-25 00:00:...|       1837|      CLOSED|        35|         12|          134|     4|      100.0|            25.0|\n",
    "|      12|2013-07-25 00:00:...|       1837|      CLOSED|        36|         12|         1014|     3|     149.94|           49.98|\n",
    "|      12|2013-07-25 00:00:...|       1837|      CLOSED|        37|         12|          191|     5|     499.95|           99.99|\n",
    "|      12|2013-07-25 00:00:...|       1837|      CLOSED|        38|         12|          502|     5|      250.0|            50.0|\n",
    "|      15|2013-07-25 00:00:...|       2568|    COMPLETE|        43|         15|          502|     1|       50.0|            50.0|\n",
    "|      15|2013-07-25 00:00:...|       2568|    COMPLETE|        44|         15|         1073|     1|     199.99|          199.99|\n",
    "+--------+--------------------+-----------+------------+----------+-----------+-------------+------+-----------+----------------+\n",
    "only showing top 20 rows"
   ]
  },
  {
   "cell_type": "code",
   "execution_count": null,
   "metadata": {},
   "outputs": [],
   "source": [
    ">>> from pyspark.sql.functions import *\n",
    ">>> from pyspark.sql.window import *"
   ]
  },
  {
   "cell_type": "code",
   "execution_count": null,
   "metadata": {},
   "outputs": [],
   "source": [
    ">>> spec = Window.partitionBy(ordersJoin.order_date)"
   ]
  },
  {
   "cell_type": "code",
   "execution_count": null,
   "metadata": {},
   "outputs": [],
   "source": [
    ">>> dailyRevenue = ordersJoin. \\\n",
    "...                     select('order_id', 'order_date', 'oi_subtotal'). \\\n",
    "...                     withColumn('avg_revenue', round(avg('oi_subtotal').over(spec), 2)). \\\n",
    "...                     withColumn('total_revenue', round(sum('oi_subtotal').over(Window.partitionBy('order_id', 'order_date')), 2))"
   ]
  },
  {
   "cell_type": "code",
   "execution_count": null,
   "metadata": {},
   "outputs": [],
   "source": [
    ">>> dailyRevenue.show()"
   ]
  },
  {
   "cell_type": "raw",
   "metadata": {},
   "source": [
    "+--------+--------------------+-----------+-----------+-------------+\n",
    "|order_id|          order_date|oi_subtotal|avg_revenue|total_revenue|\n",
    "+--------+--------------------+-----------+-----------+-------------+\n",
    "|    3379|2013-08-13 00:00:...|     299.98|     199.52|       499.97|\n",
    "|    3379|2013-08-13 00:00:...|     199.99|     199.52|       499.97|\n",
    "|    3380|2013-08-13 00:00:...|     129.99|     199.52|       579.95|\n",
    "|    3380|2013-08-13 00:00:...|     119.98|     199.52|       579.95|\n",
    "|    3380|2013-08-13 00:00:...|     199.99|     199.52|       579.95|\n",
    "|    3380|2013-08-13 00:00:...|     129.99|     199.52|       579.95|\n",
    "|    3385|2013-08-13 00:00:...|      39.99|     199.52|        649.9|\n",
    "|    3385|2013-08-13 00:00:...|     149.94|     199.52|        649.9|\n",
    "|    3385|2013-08-13 00:00:...|      59.99|     199.52|        649.9|\n",
    "|    3385|2013-08-13 00:00:...|     399.98|     199.52|        649.9|\n",
    "|    3387|2013-08-13 00:00:...|      200.0|     199.52|       809.96|\n",
    "|    3387|2013-08-13 00:00:...|     299.97|     199.52|       809.96|\n",
    "|    3387|2013-08-13 00:00:...|      59.99|     199.52|       809.96|\n",
    "|    3387|2013-08-13 00:00:...|      250.0|     199.52|       809.96|\n",
    "|    3389|2013-08-13 00:00:...|     199.95|     199.52|       199.95|\n",
    "|    3390|2013-08-13 00:00:...|     299.97|     199.52|      1199.83|\n",
    "|    3390|2013-08-13 00:00:...|     399.96|     199.52|      1199.83|\n",
    "|    3390|2013-08-13 00:00:...|     299.98|     199.52|      1199.83|\n",
    "|    3390|2013-08-13 00:00:...|     199.92|     199.52|      1199.83|\n",
    "|    3392|2013-08-13 00:00:...|     299.98|     199.52|       669.93|\n",
    "+--------+--------------------+-----------+-----------+-------------+\n",
    "only showing top 20 rows"
   ]
  },
  {
   "cell_type": "code",
   "execution_count": null,
   "metadata": {},
   "outputs": [],
   "source": [
    ">>> dailyRevenue.where('total_revenue > avg_revenue').show()"
   ]
  },
  {
   "cell_type": "raw",
   "metadata": {},
   "source": [
    "+--------+--------------------+-----------+-----------+-------------+\n",
    "|order_id|          order_date|oi_subtotal|avg_revenue|total_revenue|\n",
    "+--------+--------------------+-----------+-----------+-------------+\n",
    "|    3379|2013-08-13 00:00:...|     299.98|     199.52|       499.97|\n",
    "|    3379|2013-08-13 00:00:...|     199.99|     199.52|       499.97|\n",
    "|    3380|2013-08-13 00:00:...|     129.99|     199.52|       579.95|\n",
    "|    3380|2013-08-13 00:00:...|     119.98|     199.52|       579.95|\n",
    "|    3380|2013-08-13 00:00:...|     199.99|     199.52|       579.95|\n",
    "|    3380|2013-08-13 00:00:...|     129.99|     199.52|       579.95|\n",
    "|    3385|2013-08-13 00:00:...|      39.99|     199.52|        649.9|\n",
    "|    3385|2013-08-13 00:00:...|     149.94|     199.52|        649.9|\n",
    "|    3385|2013-08-13 00:00:...|      59.99|     199.52|        649.9|\n",
    "|    3385|2013-08-13 00:00:...|     399.98|     199.52|        649.9|\n",
    "|    3387|2013-08-13 00:00:...|      200.0|     199.52|       809.96|\n",
    "|    3387|2013-08-13 00:00:...|     299.97|     199.52|       809.96|\n",
    "|    3387|2013-08-13 00:00:...|      59.99|     199.52|       809.96|\n",
    "|    3387|2013-08-13 00:00:...|      250.0|     199.52|       809.96|\n",
    "|    3389|2013-08-13 00:00:...|     199.95|     199.52|       199.95|\n",
    "|    3390|2013-08-13 00:00:...|     299.97|     199.52|      1199.83|\n",
    "|    3390|2013-08-13 00:00:...|     399.96|     199.52|      1199.83|\n",
    "|    3390|2013-08-13 00:00:...|     299.98|     199.52|      1199.83|\n",
    "|    3390|2013-08-13 00:00:...|     199.92|     199.52|      1199.83|\n",
    "|    3392|2013-08-13 00:00:...|     299.98|     199.52|       669.93|\n",
    "+--------+--------------------+-----------+-----------+-------------+\n",
    "only showing top 20 rows"
   ]
  },
  {
   "cell_type": "code",
   "execution_count": null,
   "metadata": {},
   "outputs": [],
   "source": [
    ">>> dailyRevenue.where('total_revenue > avg_revenue and order_id = 3390').show()"
   ]
  },
  {
   "cell_type": "raw",
   "metadata": {},
   "source": [
    "+--------+--------------------+-----------+-----------+-------------+\n",
    "|order_id|          order_date|oi_subtotal|avg_revenue|total_revenue|\n",
    "+--------+--------------------+-----------+-----------+-------------+\n",
    "|    3390|2013-08-13 00:00:...|     299.97|     199.52|      1199.83|\n",
    "|    3390|2013-08-13 00:00:...|     399.96|     199.52|      1199.83|\n",
    "|    3390|2013-08-13 00:00:...|     299.98|     199.52|      1199.83|\n",
    "|    3390|2013-08-13 00:00:...|     199.92|     199.52|      1199.83|\n",
    "+--------+--------------------+-----------+-----------+-------------+"
   ]
  },
  {
   "cell_type": "markdown",
   "metadata": {},
   "source": [
    "<p style=\"background:#F1C40F\">Get the highest order revenue and the details of the orders that have more than 75% of the revenue .</p>"
   ]
  },
  {
   "cell_type": "code",
   "execution_count": null,
   "metadata": {},
   "outputs": [],
   "source": []
  },
  {
   "cell_type": "markdown",
   "metadata": {},
   "source": [
    "<p style=\"background:#AED6F1\"><b>Data Frame Operations - Time Series Functions such as Lead, Lag etc</b>"
   ]
  },
  {
   "cell_type": "markdown",
   "metadata": {},
   "source": [
    "<p style=\"background :#d0d5db\"><b>Lead Windowing Function example : </b> <br>Getting Employee details like<br>\n",
    " - emp_id, department_id, salary, next_emp_id, next_emp_salary. (next_emp_id -> second_highest_grosser, next_emp_salary -> second highest salary)<br>\n",
    " - Difference between highest and second highest salaries.</p>"
   ]
  },
  {
   "cell_type": "code",
   "execution_count": null,
   "metadata": {},
   "outputs": [],
   "source": [
    ">>> employeesDF = spark.read. \\\n",
    "...                      format('csv'). \\\n",
    "...                      option('sep', '\\t'). \\\n",
    "...                      schema('''emp_id int,\n",
    "...                              fname string,\n",
    "...                              lname string,\n",
    "...                              email string,\n",
    "...                              phone string,\n",
    "...                              hiredt string,\n",
    "...                              job_id string,\n",
    "...                              salary float,\n",
    "...                              commission_pct string,\n",
    "...                              manager_id string,\n",
    "...                              department_id int'''). \\\n",
    "...                      load('/user/monahadoop/hr_db/employees')  \n",
    ">>> \n",
    ">>> employeesDF.show(5)"
   ]
  },
  {
   "cell_type": "raw",
   "metadata": {},
   "source": [
    "+------+------+--------+--------+------------+----------+--------+------+--------------+----------+-------------+\n",
    "|emp_id| fname|   lname|   email|       phone|    hiredt|  job_id|salary|commission_pct|manager_id|department_id|\n",
    "+------+------+--------+--------+------------+----------+--------+------+--------------+----------+-------------+\n",
    "|   127| James|  Landry| JLANDRY|650.124.1334|1999-01-14|ST_CLERK|2400.0|          null|       120|           50|\n",
    "|   128|Steven|  Markle| SMARKLE|650.124.1434|2000-03-08|ST_CLERK|2200.0|          null|       120|           50|\n",
    "|   129| Laura|  Bissot| LBISSOT|650.124.5234|1997-08-20|ST_CLERK|3300.0|          null|       121|           50|\n",
    "|   130| Mozhe|Atkinson|MATKINSO|650.124.6234|1997-10-30|ST_CLERK|2800.0|          null|       121|           50|\n",
    "|   131| James|  Marlow| JAMRLOW|650.124.7234|1997-02-16|ST_CLERK|2500.0|          null|       121|           50|\n",
    "+------+------+--------+--------+------------+----------+--------+------+--------------+----------+-------------+\n",
    "only showing top 5 rows"
   ]
  },
  {
   "cell_type": "code",
   "execution_count": null,
   "metadata": {},
   "outputs": [],
   "source": [
    ">>> from pyspark.sql.window import *"
   ]
  },
  {
   "cell_type": "code",
   "execution_count": null,
   "metadata": {},
   "outputs": [],
   "source": [
    ">>> spark.conf.set('spark.sql.shuffle.partitions', '2')"
   ]
  },
  {
   "cell_type": "code",
   "execution_count": null,
   "metadata": {},
   "outputs": [],
   "source": [
    ">>> employeesDF = employeesDF.select('emp_id', 'department_id', 'salary')"
   ]
  },
  {
   "cell_type": "code",
   "execution_count": null,
   "metadata": {},
   "outputs": [],
   "source": [
    ">>> employeesDF.show()"
   ]
  },
  {
   "cell_type": "raw",
   "metadata": {},
   "source": [
    "+------+-------------+-------+\n",
    "|emp_id|department_id| salary|\n",
    "+------+-------------+-------+\n",
    "|   127|           50| 2400.0|\n",
    "|   128|           50| 2200.0|\n",
    "|   129|           50| 3300.0|\n",
    "|   130|           50| 2800.0|\n",
    "|   131|           50| 2500.0|\n",
    "|   132|           50| 2100.0|\n",
    "|   133|           50| 3300.0|\n",
    "|   134|           50| 2900.0|\n",
    "|   135|           50| 2400.0|\n",
    "|   136|           50| 2200.0|\n",
    "|   137|           50| 3600.0|\n",
    "|   138|           50| 3200.0|\n",
    "|   139|           50| 2700.0|\n",
    "|   140|           50| 2500.0|\n",
    "|   141|           50| 3500.0|\n",
    "|   142|           50| 3100.0|\n",
    "|   143|           50| 2600.0|\n",
    "|   144|           50| 2500.0|\n",
    "|   145|           80|14000.0|\n",
    "|   146|           80|13500.0|\n",
    "+------+-------------+-------+\n",
    "only showing top 20 rows"
   ]
  },
  {
   "cell_type": "code",
   "execution_count": null,
   "metadata": {},
   "outputs": [],
   "source": [
    ">>> employeesDF = employeesDF.select('emp_id', 'department_id', 'salary').sort('department_id')"
   ]
  },
  {
   "cell_type": "code",
   "execution_count": null,
   "metadata": {},
   "outputs": [],
   "source": [
    ">>> employeesDF.show()"
   ]
  },
  {
   "cell_type": "raw",
   "metadata": {},
   "source": [
    "+------+-------------+-------+\n",
    "|emp_id|department_id| salary|\n",
    "+------+-------------+-------+\n",
    "|  null|         null|   null|\n",
    "|   200|           10| 4400.0|\n",
    "|   201|           20|13000.0|\n",
    "|   202|           20| 6000.0|\n",
    "|   115|           30| 3100.0|\n",
    "|   117|           30| 2800.0|\n",
    "|   119|           30| 2500.0|\n",
    "|   116|           30| 2900.0|\n",
    "|   118|           30| 2600.0|\n",
    "|   114|           30|11000.0|\n",
    "|   203|           40| 6500.0|\n",
    "|   129|           50| 3300.0|\n",
    "|   135|           50| 2400.0|\n",
    "|   128|           50| 2200.0|\n",
    "|   136|           50| 2200.0|\n",
    "|   131|           50| 2500.0|\n",
    "|   132|           50| 2100.0|\n",
    "|   137|           50| 3600.0|\n",
    "|   138|           50| 3200.0|\n",
    "|   139|           50| 2700.0|\n",
    "+------+-------------+-------+\n",
    "only showing top 20 rows"
   ]
  },
  {
   "cell_type": "code",
   "execution_count": null,
   "metadata": {},
   "outputs": [],
   "source": [
    ">>> spec = Window.\\\n",
    "...             partitionBy('department_id'). \\\n",
    "...             orderBy(employeesDF.salary.desc())"
   ]
  },
  {
   "cell_type": "code",
   "execution_count": null,
   "metadata": {},
   "outputs": [],
   "source": [
    ">>> from pyspark.sql.functions import *"
   ]
  },
  {
   "cell_type": "code",
   "execution_count": null,
   "metadata": {},
   "outputs": [],
   "source": [
    ">>> employeesDF = employeesDF.select('emp_id', 'department_id', 'salary'). \\\n",
    "...                     withColumn('next_emp_id', lead('emp_id').over(spec)). \\\n",
    "...                     sort('department_id', employeesDF.salary.desc())\n",
    ">>>employeesDF.show()"
   ]
  },
  {
   "cell_type": "raw",
   "metadata": {},
   "source": [
    "+------+-------------+-------+-----------+\n",
    "|emp_id|department_id| salary|next_emp_id|\n",
    "+------+-------------+-------+-----------+\n",
    "|  null|         null|   null|       null|\n",
    "|   200|           10| 4400.0|       null|\n",
    "|   201|           20|13000.0|        202|\n",
    "|   202|           20| 6000.0|       null|\n",
    "|   114|           30|11000.0|        115|\n",
    "|   115|           30| 3100.0|        116|\n",
    "|   116|           30| 2900.0|        117|\n",
    "|   117|           30| 2800.0|        118|\n",
    "|   118|           30| 2600.0|        119|\n",
    "|   119|           30| 2500.0|       null|\n",
    "|   203|           40| 6500.0|       null|\n",
    "|   121|           50| 8200.0|        120|\n",
    "|   120|           50| 8000.0|        122|\n",
    "|   122|           50| 7900.0|        123|\n",
    "|   123|           50| 6500.0|        124|\n",
    "|   124|           50| 5800.0|        184|\n",
    "|   184|           50| 4200.0|        185|\n",
    "|   185|           50| 4100.0|        192|\n",
    "|   192|           50| 4000.0|        193|\n",
    "|   193|           50| 3900.0|        188|\n",
    "+------+-------------+-------+-----------+\n",
    "only showing top 20 rows"
   ]
  },
  {
   "cell_type": "code",
   "execution_count": null,
   "metadata": {},
   "outputs": [],
   "source": [
    ">>> employeesDF = employeesDF.select('emp_id', 'department_id', 'salary'). \\\n",
    "...                     withColumn('next_highest_grosser', lead('emp_id').over(spec)). \\\n",
    "...                     withColumn('next_highest_salary', lead('salary').over(spec)). \\\n",
    "...                     sort('department_id', employeesDF.salary.desc())"
   ]
  },
  {
   "cell_type": "code",
   "execution_count": null,
   "metadata": {},
   "outputs": [],
   "source": [
    ">>> employeesDF.show()"
   ]
  },
  {
   "cell_type": "raw",
   "metadata": {},
   "source": [
    "+------+-------------+-------+--------------------+-------------------+\n",
    "|emp_id|department_id| salary|next_highest_grosser|next_highest_salary|\n",
    "+------+-------------+-------+--------------------+-------------------+\n",
    "|  null|         null|   null|                null|               null|\n",
    "|   200|           10| 4400.0|                null|               null|\n",
    "|   201|           20|13000.0|                 202|             6000.0|\n",
    "|   202|           20| 6000.0|                null|               null|\n",
    "|   114|           30|11000.0|                 115|             3100.0|\n",
    "|   115|           30| 3100.0|                 116|             2900.0|\n",
    "|   116|           30| 2900.0|                 117|             2800.0|\n",
    "|   117|           30| 2800.0|                 118|             2600.0|\n",
    "|   118|           30| 2600.0|                 119|             2500.0|\n",
    "|   119|           30| 2500.0|                null|               null|\n",
    "|   203|           40| 6500.0|                null|               null|\n",
    "|   121|           50| 8200.0|                 120|             8000.0|\n",
    "|   120|           50| 8000.0|                 122|             7900.0|\n",
    "|   122|           50| 7900.0|                 123|             6500.0|\n",
    "|   123|           50| 6500.0|                 124|             5800.0|\n",
    "|   124|           50| 5800.0|                 184|             4200.0|\n",
    "|   184|           50| 4200.0|                 185|             4100.0|\n",
    "|   185|           50| 4100.0|                 192|             4000.0|\n",
    "|   192|           50| 4000.0|                 193|             3900.0|\n",
    "|   193|           50| 3900.0|                 188|             3800.0|\n",
    "+------+-------------+-------+--------------------+-------------------+\n",
    "only showing top 20 rows"
   ]
  },
  {
   "cell_type": "code",
   "execution_count": null,
   "metadata": {},
   "outputs": [],
   "source": [
    ">>> employeesDF = employeesDF.select('emp_id', 'department_id', 'salary'). \\\n",
    "...                     withColumn('next_highest_grosser', lead('emp_id').over(spec)). \\\n",
    "...                     withColumn('next_highest_salary', lead('salary').over(spec)). \\\n",
    "...                     withColumn('salary_difference', employeesDF.salary - col('next_highest_salary')). \\\n",
    "...                     sort('department_id', employeesDF.salary.desc())"
   ]
  },
  {
   "cell_type": "code",
   "execution_count": null,
   "metadata": {},
   "outputs": [],
   "source": [
    ">>> employeesDF.show()"
   ]
  },
  {
   "cell_type": "raw",
   "metadata": {},
   "source": [
    "+------+-------------+-------+--------------------+-------------------+-----------------+\n",
    "|emp_id|department_id| salary|next_highest_grosser|next_highest_salary|salary_difference|\n",
    "+------+-------------+-------+--------------------+-------------------+-----------------+\n",
    "|  null|         null|   null|                null|               null|             null|\n",
    "|   200|           10| 4400.0|                null|               null|             null|\n",
    "|   201|           20|13000.0|                 202|             6000.0|           7000.0|\n",
    "|   202|           20| 6000.0|                null|               null|             null|\n",
    "|   114|           30|11000.0|                 115|             3100.0|           7900.0|\n",
    "|   115|           30| 3100.0|                 116|             2900.0|            200.0|\n",
    "|   116|           30| 2900.0|                 117|             2800.0|            100.0|\n",
    "|   117|           30| 2800.0|                 118|             2600.0|            200.0|\n",
    "|   118|           30| 2600.0|                 119|             2500.0|            100.0|\n",
    "|   119|           30| 2500.0|                null|               null|             null|\n",
    "|   203|           40| 6500.0|                null|               null|             null|\n",
    "|   121|           50| 8200.0|                 120|             8000.0|            200.0|\n",
    "|   120|           50| 8000.0|                 122|             7900.0|            100.0|\n",
    "|   122|           50| 7900.0|                 123|             6500.0|           1400.0|\n",
    "|   123|           50| 6500.0|                 124|             5800.0|            700.0|\n",
    "|   124|           50| 5800.0|                 184|             4200.0|           1600.0|\n",
    "|   184|           50| 4200.0|                 185|             4100.0|            100.0|\n",
    "|   185|           50| 4100.0|                 192|             4000.0|            100.0|\n",
    "|   192|           50| 4000.0|                 193|             3900.0|            100.0|\n",
    "|   193|           50| 3900.0|                 188|             3800.0|            100.0|\n",
    "+------+-------------+-------+--------------------+-------------------+-----------------+\n",
    "only showing top 20 rows"
   ]
  },
  {
   "cell_type": "markdown",
   "metadata": {},
   "source": [
    "<p style=\"background :#d0d5db\"><b>Using Lead Windowing Function : </b> To find next to next highest salary</p>"
   ]
  },
  {
   "cell_type": "code",
   "execution_count": null,
   "metadata": {},
   "outputs": [],
   "source": [
    ">>> employeesDF = employeesDF.select('emp_id', 'department_id', 'salary'). \\\n",
    "...                      withColumn('next_to_next_highest_grosser', lead('emp_id', 2).over(spec)). \\\n",
    "...                      withColumn('next_to_next_highest_salary', lead('salary', 2).over(spec)). \\\n",
    "...                      sort('department_id', employeesDF.salary.desc())"
   ]
  },
  {
   "cell_type": "code",
   "execution_count": null,
   "metadata": {},
   "outputs": [],
   "source": [
    ">>> employeesDF.show()"
   ]
  },
  {
   "cell_type": "raw",
   "metadata": {},
   "source": [
    "+------+-------------+-------+----------------------------+---------------------------+\n",
    "|emp_id|department_id| salary|next_to_next_highest_grosser|next_to_next_highest_salary|\n",
    "+------+-------------+-------+----------------------------+---------------------------+\n",
    "|  null|         null|   null|                        null|                       null|\n",
    "|   200|           10| 4400.0|                        null|                       null|\n",
    "|   201|           20|13000.0|                        null|                       null|\n",
    "|   202|           20| 6000.0|                        null|                       null|\n",
    "|   114|           30|11000.0|                         116|                     2900.0|\n",
    "|   115|           30| 3100.0|                         117|                     2800.0|\n",
    "|   116|           30| 2900.0|                         118|                     2600.0|\n",
    "|   117|           30| 2800.0|                         119|                     2500.0|\n",
    "|   118|           30| 2600.0|                        null|                       null|\n",
    "|   119|           30| 2500.0|                        null|                       null|\n",
    "|   203|           40| 6500.0|                        null|                       null|\n",
    "|   121|           50| 8200.0|                         122|                     7900.0|\n",
    "|   120|           50| 8000.0|                         123|                     6500.0|\n",
    "|   122|           50| 7900.0|                         124|                     5800.0|\n",
    "|   123|           50| 6500.0|                         184|                     4200.0|\n",
    "|   124|           50| 5800.0|                         185|                     4100.0|\n",
    "|   184|           50| 4200.0|                         192|                     4000.0|\n",
    "|   185|           50| 4100.0|                         193|                     3900.0|\n",
    "|   192|           50| 4000.0|                         188|                     3800.0|\n",
    "|   193|           50| 3900.0|                         137|                     3600.0|\n",
    "+------+-------------+-------+----------------------------+---------------------------+\n",
    "only showing top 20 rows"
   ]
  },
  {
   "cell_type": "code",
   "execution_count": null,
   "metadata": {},
   "outputs": [],
   "source": []
  },
  {
   "cell_type": "markdown",
   "metadata": {},
   "source": [
    "<p style=\"background:#AED6F1\"><b>Exercises</b></p>"
   ]
  },
  {
   "cell_type": "markdown",
   "metadata": {},
   "source": [
    "<p style=\"background:#F1C40F\">Get the salary difference between current and previous employee within each department.</p>"
   ]
  },
  {
   "cell_type": "markdown",
   "metadata": {},
   "source": [
    "<p style=\"background :#d0d5db\"><b>Using Lag Windowing Function : </b></p>"
   ]
  },
  {
   "cell_type": "code",
   "execution_count": null,
   "metadata": {},
   "outputs": [],
   "source": [
    ">>> employeesLag = employeesDF.select('emp_id', 'department_id', 'salary'). \\\n",
    "...                      withColumn('prev_emp', lag('emp_id').over(spec)). \\\n",
    "...                      withColumn('prev_salary', lag('salary').over(spec)). \\\n",
    "...                      sort('department_id', employeesDF.salary.desc())"
   ]
  },
  {
   "cell_type": "code",
   "execution_count": null,
   "metadata": {},
   "outputs": [],
   "source": [
    ">>> employeesLag.show()"
   ]
  },
  {
   "cell_type": "raw",
   "metadata": {},
   "source": [
    "+------+-------------+-------+--------+-----------+\n",
    "|emp_id|department_id| salary|prev_emp|prev_salary|\n",
    "+------+-------------+-------+--------+-----------+\n",
    "|  null|         null|   null|    null|       null|\n",
    "|   200|           10| 4400.0|    null|       null|\n",
    "|   201|           20|13000.0|    null|       null|\n",
    "|   202|           20| 6000.0|     201|    13000.0|\n",
    "|   114|           30|11000.0|    null|       null|\n",
    "|   115|           30| 3100.0|     114|    11000.0|\n",
    "|   116|           30| 2900.0|     115|     3100.0|\n",
    "|   117|           30| 2800.0|     116|     2900.0|\n",
    "|   118|           30| 2600.0|     117|     2800.0|\n",
    "|   119|           30| 2500.0|     118|     2600.0|\n",
    "|   203|           40| 6500.0|    null|       null|\n",
    "|   121|           50| 8200.0|    null|       null|\n",
    "|   120|           50| 8000.0|     121|     8200.0|\n",
    "|   122|           50| 7900.0|     120|     8000.0|\n",
    "|   123|           50| 6500.0|     122|     7900.0|\n",
    "|   124|           50| 5800.0|     123|     6500.0|\n",
    "|   184|           50| 4200.0|     124|     5800.0|\n",
    "|   185|           50| 4100.0|     184|     4200.0|\n",
    "|   192|           50| 4000.0|     185|     4100.0|\n",
    "|   193|           50| 3900.0|     192|     4000.0|\n",
    "+------+-------------+-------+--------+-----------+\n",
    "only showing top 20 rows"
   ]
  },
  {
   "cell_type": "code",
   "execution_count": null,
   "metadata": {},
   "outputs": [],
   "source": [
    ">>> employeesLag = employeesDF.select('emp_id', 'department_id', 'salary'). \\\n",
    "...                      withColumn('prev_to_prev_emp', lag('emp_id', 2).over(spec)). \\\n",
    "...                      withColumn('prev_to_prev_salary', lag('salary', 2).over(spec)). \\\n",
    "...                      sort('department_id', employeesDF.salary.desc())"
   ]
  },
  {
   "cell_type": "code",
   "execution_count": null,
   "metadata": {},
   "outputs": [],
   "source": [
    ">>> employeesLag.show()"
   ]
  },
  {
   "cell_type": "raw",
   "metadata": {},
   "source": [
    "+------+-------------+-------+----------------+-------------------+\n",
    "|emp_id|department_id| salary|prev_to_prev_emp|prev_to_prev_salary|\n",
    "+------+-------------+-------+----------------+-------------------+\n",
    "|  null|         null|   null|            null|               null|\n",
    "|   200|           10| 4400.0|            null|               null|\n",
    "|   201|           20|13000.0|            null|               null|\n",
    "|   202|           20| 6000.0|            null|               null|\n",
    "|   114|           30|11000.0|            null|               null|\n",
    "|   115|           30| 3100.0|            null|               null|\n",
    "|   116|           30| 2900.0|             114|            11000.0|\n",
    "|   117|           30| 2800.0|             115|             3100.0|\n",
    "|   118|           30| 2600.0|             116|             2900.0|\n",
    "|   119|           30| 2500.0|             117|             2800.0|\n",
    "|   203|           40| 6500.0|            null|               null|\n",
    "|   121|           50| 8200.0|            null|               null|\n",
    "|   120|           50| 8000.0|            null|               null|\n",
    "|   122|           50| 7900.0|             121|             8200.0|\n",
    "|   123|           50| 6500.0|             120|             8000.0|\n",
    "|   124|           50| 5800.0|             122|             7900.0|\n",
    "|   184|           50| 4200.0|             123|             6500.0|\n",
    "|   185|           50| 4100.0|             124|             5800.0|\n",
    "|   192|           50| 4000.0|             184|             4200.0|\n",
    "|   193|           50| 3900.0|             185|             4100.0|\n",
    "+------+-------------+-------+----------------+-------------------+\n",
    "only showing top 20 rows"
   ]
  },
  {
   "cell_type": "markdown",
   "metadata": {},
   "source": [
    "<p style=\"background :#d0d5db\"><b>Using Last Windowing Function : </b></p>"
   ]
  },
  {
   "cell_type": "markdown",
   "metadata": {},
   "source": [
    "To find the department-wise last salary (in this case least too need to check if last always means least or last in the order)->\n",
    "* last doesn't run normally like lead, lag and first\n",
    "* a rangeBetween clause needs to set in the Window specification, which takes pre-set values named unboundedPreceding and unboundedFollowing, then the last() works as desired, here in this case givng last salary of each department."
   ]
  },
  {
   "cell_type": "code",
   "execution_count": null,
   "metadata": {},
   "outputs": [],
   "source": [
    ">>> employeesDF = spark.read. \\\n",
    "...                      format('csv'). \\\n",
    "...                      option('sep', '\\t'). \\\n",
    "...                      schema('''emp_id int,\n",
    "...                              fname string,\n",
    "...                              lname string,\n",
    "...                              email string,\n",
    "...                              phone string,\n",
    "...                              hiredt string,\n",
    "...                              job_id string,\n",
    "...                              salary float,\n",
    "...                              commission_pct string,\n",
    "...                              manager_id string,\n",
    "...                              department_id int'''). \\\n",
    "...                      load('/user/monahadoop/hr_db/employees')  \n",
    ">>> \n",
    ">>> employeesDF.show(5)"
   ]
  },
  {
   "cell_type": "code",
   "execution_count": null,
   "metadata": {},
   "outputs": [],
   "source": [
    ">>> spec = Window.partitionBy('department_id'). \\\n",
    "...             orderBy(employeesDF.salary.desc()). \\\n",
    "...             rangeBetween(Window.unboundedPreceding, Window.unboundedFollowing)"
   ]
  },
  {
   "cell_type": "code",
   "execution_count": null,
   "metadata": {},
   "outputs": [],
   "source": [
    ">>> employeesLast = employeesDF.select('emp_id', 'department_id', 'salary'). \\\n",
    "...                             withColumn('last_salary', last(employeesDF.salary, False).over(spec)).\\\n",
    "...                             orderBy(employeesDF.department_id, employeesDF.salary.desc())"
   ]
  },
  {
   "cell_type": "code",
   "execution_count": null,
   "metadata": {},
   "outputs": [],
   "source": [
    ">>> employeesLast.show()"
   ]
  },
  {
   "cell_type": "raw",
   "metadata": {},
   "source": [
    "+------+-------------+-------+-----------+\n",
    "|emp_id|department_id| salary|last_salary|\n",
    "+------+-------------+-------+-----------+\n",
    "|  null|         null|   null|       null|\n",
    "|   200|           10| 4400.0|     4400.0|\n",
    "|   201|           20|13000.0|     6000.0|\n",
    "|   202|           20| 6000.0|     6000.0|\n",
    "|   114|           30|11000.0|     2500.0|\n",
    "|   115|           30| 3100.0|     2500.0|\n",
    "|   116|           30| 2900.0|     2500.0|\n",
    "|   117|           30| 2800.0|     2500.0|\n",
    "|   118|           30| 2600.0|     2500.0|\n",
    "|   119|           30| 2500.0|     2500.0|\n",
    "|   203|           40| 6500.0|     6500.0|\n",
    "|   121|           50| 8200.0|     2100.0|\n",
    "|   120|           50| 8000.0|     2100.0|\n",
    "|   122|           50| 7900.0|     2100.0|\n",
    "|   123|           50| 6500.0|     2100.0|\n",
    "|   124|           50| 5800.0|     2100.0|\n",
    "|   184|           50| 4200.0|     2100.0|\n",
    "|   185|           50| 4100.0|     2100.0|\n",
    "|   192|           50| 4000.0|     2100.0|\n",
    "|   193|           50| 3900.0|     2100.0|\n",
    "+------+-------------+-------+-----------+\n",
    "only showing top 20 rows"
   ]
  },
  {
   "cell_type": "markdown",
   "metadata": {},
   "source": [
    "<p style=\"background:#F1C40F\">Time Series - Revenue comparison between two windows.</p>"
   ]
  },
  {
   "cell_type": "markdown",
   "metadata": {},
   "source": [
    "<p style=\"background:#FA8072;border-style:solid;\"><b>TO BE DONE</b></p>"
   ]
  },
  {
   "cell_type": "code",
   "execution_count": null,
   "metadata": {},
   "outputs": [],
   "source": []
  },
  {
   "cell_type": "markdown",
   "metadata": {},
   "source": [
    "<p style=\"background:#AED6F1\"><b>Data Frame Operations - Ranking Functions - rank, dense_rank, row_number etc</b>"
   ]
  },
  {
   "cell_type": "markdown",
   "metadata": {},
   "source": [
    "In Ranking functions data is partitioned by a key (such as department id) and then sorted by some other key (such as salary).\n",
    "* Ranking functions are - rank, dense_rank, row_number etc.\n",
    "* In spark we need to create a WindowSpec object using partitionBy and orderBy for most of the ranking functions.\n",
    "* Some use cases are -\n",
    "    - Assign rank to employees based on salary within each department.\n",
    "    - Assign ranks to products based on revenue each day or month."
   ]
  },
  {
   "cell_type": "code",
   "execution_count": null,
   "metadata": {},
   "outputs": [],
   "source": [
    ">>> employees = spark.read. \\\n",
    "...                      format('csv'). \\\n",
    "...                      option('sep', '\\t'). \\\n",
    "...                      schema('''emp_id int,\n",
    "...                              fname string,\n",
    "...                              lname string,\n",
    "...                              email string,\n",
    "...                              phone string,\n",
    "...                              hiredt string,\n",
    "...                              job_id string,\n",
    "...                              salary float,\n",
    "...                              commission_pct string,\n",
    "...                              manager_id string,\n",
    "...                              department_id int'''). \\\n",
    "...                      load('/user/monahadoop/hr_db/employees') \n",
    "\n",
    ">>> employees.show()"
   ]
  },
  {
   "cell_type": "raw",
   "metadata": {},
   "source": [
    "+------+-------+----------+--------+------------------+----------+--------+-------+--------------+----------+-------------+\n",
    "|emp_id|  fname|     lname|   email|             phone|    hiredt|  job_id| salary|commission_pct|manager_id|department_id|\n",
    "+------+-------+----------+--------+------------------+----------+--------+-------+--------------+----------+-------------+\n",
    "|   127|  James|    Landry| JLANDRY|      650.124.1334|1999-01-14|ST_CLERK| 2400.0|          null|       120|           50|\n",
    "|   128| Steven|    Markle| SMARKLE|      650.124.1434|2000-03-08|ST_CLERK| 2200.0|          null|       120|           50|\n",
    "|   129|  Laura|    Bissot| LBISSOT|      650.124.5234|1997-08-20|ST_CLERK| 3300.0|          null|       121|           50|\n",
    "|   130|  Mozhe|  Atkinson|MATKINSO|      650.124.6234|1997-10-30|ST_CLERK| 2800.0|          null|       121|           50|\n",
    "|   131|  James|    Marlow| JAMRLOW|      650.124.7234|1997-02-16|ST_CLERK| 2500.0|          null|       121|           50|\n",
    "|   132|     TJ|     Olson| TJOLSON|      650.124.8234|1999-04-10|ST_CLERK| 2100.0|          null|       121|           50|\n",
    "|   133|  Jason|    Mallin| JMALLIN|      650.127.1934|1996-06-14|ST_CLERK| 3300.0|          null|       122|           50|\n",
    "|   134|Michael|    Rogers| MROGERS|      650.127.1834|1998-08-26|ST_CLERK| 2900.0|          null|       122|           50|\n",
    "|   135|     Ki|       Gee|    KGEE|      650.127.1734|1999-12-12|ST_CLERK| 2400.0|          null|       122|           50|\n",
    "|   136|  Hazel|Philtanker|HPHILTAN|      650.127.1634|2000-02-06|ST_CLERK| 2200.0|          null|       122|           50|\n",
    "|   137| Renske|    Ladwig| RLADWIG|      650.121.1234|1995-07-14|ST_CLERK| 3600.0|          null|       123|           50|\n",
    "|   138|Stephen|    Stiles| SSTILES|      650.121.2034|1997-10-26|ST_CLERK| 3200.0|          null|       123|           50|\n",
    "|   139|   John|       Seo|    JSEO|      650.121.2019|1998-02-12|ST_CLERK| 2700.0|          null|       123|           50|\n",
    "|   140| Joshua|     Patel|  JPATEL|      650.121.1834|1998-04-06|ST_CLERK| 2500.0|          null|       123|           50|\n",
    "|   141| Trenna|      Rajs|   TRAJS|      650.121.8009|1995-10-17|ST_CLERK| 3500.0|          null|       124|           50|\n",
    "|   142| Curtis|    Davies| CDAVIES|      650.121.2994|1997-01-29|ST_CLERK| 3100.0|          null|       124|           50|\n",
    "|   143|Randall|     Matos|  RMATOS|      650.121.2874|1998-03-15|ST_CLERK| 2600.0|          null|       124|           50|\n",
    "|   144|  Peter|    Vargas| PVARGAS|      650.121.2004|1998-07-09|ST_CLERK| 2500.0|          null|       124|           50|\n",
    "|   145|   John|   Russell| JRUSSEL|011.44.1344.429268|1996-10-01|  SA_MAN|14000.0|          0.40|       100|           80|\n",
    "|   146|  Karen|  Partners|KPARTNER|011.44.1344.467268|1997-01-05|  SA_MAN|13500.0|          0.30|       100|           80|\n",
    "+------+-------+----------+--------+------------------+----------+--------+-------+--------------+----------+-------------+\n",
    "only showing top 20 rows"
   ]
  },
  {
   "cell_type": "code",
   "execution_count": null,
   "metadata": {},
   "outputs": [],
   "source": [
    ">>> employees = employees.select('emp_id', 'department_id', 'salary'). \\\n",
    "...                     orderBy('department_id', employees.salary.desc())"
   ]
  },
  {
   "cell_type": "code",
   "execution_count": null,
   "metadata": {},
   "outputs": [],
   "source": [
    ">>> employees.show()"
   ]
  },
  {
   "cell_type": "raw",
   "metadata": {},
   "source": [
    "+------+-------------+-------+\n",
    "|emp_id|department_id| salary|\n",
    "+------+-------------+-------+\n",
    "|  null|         null|   null|\n",
    "|   200|           10| 4400.0|\n",
    "|   201|           20|13000.0|\n",
    "|   202|           20| 6000.0|\n",
    "|   114|           30|11000.0|\n",
    "|   115|           30| 3100.0|\n",
    "|   116|           30| 2900.0|\n",
    "|   117|           30| 2800.0|\n",
    "|   118|           30| 2600.0|\n",
    "|   119|           30| 2500.0|\n",
    "|   203|           40| 6500.0|\n",
    "|   121|           50| 8200.0|\n",
    "|   120|           50| 8000.0|\n",
    "|   122|           50| 7900.0|\n",
    "|   123|           50| 6500.0|\n",
    "|   124|           50| 5800.0|\n",
    "|   184|           50| 4200.0|\n",
    "|   185|           50| 4100.0|\n",
    "|   192|           50| 4000.0|\n",
    "|   193|           50| 3900.0|\n",
    "+------+-------------+-------+\n",
    "only showing top 20 rows"
   ]
  },
  {
   "cell_type": "code",
   "execution_count": null,
   "metadata": {},
   "outputs": [],
   "source": [
    ">>> from pyspark.sql.window import *"
   ]
  },
  {
   "cell_type": "code",
   "execution_count": null,
   "metadata": {},
   "outputs": [],
   "source": [
    ">>> from pyspark.sql.functions import *"
   ]
  },
  {
   "cell_type": "code",
   "execution_count": null,
   "metadata": {},
   "outputs": [],
   "source": [
    ">>> spec = Window.partitionBy('department_id').\\\n",
    "...             orderBy(employees.salary.desc())"
   ]
  },
  {
   "cell_type": "markdown",
   "metadata": {},
   "source": [
    "<p style=\"background :#d0d5db\"><b>Using rank() Function : </b></p>"
   ]
  },
  {
   "cell_type": "code",
   "execution_count": null,
   "metadata": {},
   "outputs": [],
   "source": [
    ">>> employees. \\\n",
    "...     withColumn('emp_rank', rank().over(spec)). \\\n",
    "...     orderBy('department_id', employees.salary.desc()).\\\n",
    "...     show()"
   ]
  },
  {
   "cell_type": "raw",
   "metadata": {},
   "source": [
    "+------+-------------+-------+--------+\n",
    "|emp_id|department_id| salary|emp_rank|\n",
    "+------+-------------+-------+--------+\n",
    "|  null|         null|   null|       1|\n",
    "|   200|           10| 4400.0|       1|\n",
    "|   201|           20|13000.0|       1|\n",
    "|   202|           20| 6000.0|       2|\n",
    "|   114|           30|11000.0|       1|\n",
    "|   115|           30| 3100.0|       2|\n",
    "|   116|           30| 2900.0|       3|\n",
    "|   117|           30| 2800.0|       4|\n",
    "|   118|           30| 2600.0|       5|\n",
    "|   119|           30| 2500.0|       6|\n",
    "|   203|           40| 6500.0|       1|\n",
    "|   121|           50| 8200.0|       1|\n",
    "|   120|           50| 8000.0|       2|\n",
    "|   122|           50| 7900.0|       3|\n",
    "|   123|           50| 6500.0|       4|\n",
    "|   124|           50| 5800.0|       5|\n",
    "|   184|           50| 4200.0|       6|\n",
    "|   185|           50| 4100.0|       7|\n",
    "|   192|           50| 4000.0|       8|\n",
    "|   193|           50| 3900.0|       9|\n",
    "+------+-------------+-------+--------+\n",
    "only showing top 20 rows"
   ]
  },
  {
   "cell_type": "markdown",
   "metadata": {},
   "source": [
    "<p style=\"background :#d0d5db\"><b>Using dense_rank() Function : </b></p>"
   ]
  },
  {
   "cell_type": "code",
   "execution_count": null,
   "metadata": {},
   "outputs": [],
   "source": [
    ">>> employees. \\\n",
    "...     withColumn('emp_rank', dense_rank().over(spec)). \\\n",
    "...     orderBy('department_id', employees.salary.desc()).\\\n",
    "...     show(200)"
   ]
  },
  {
   "cell_type": "raw",
   "metadata": {},
   "source": [
    "+------+-------------+-------+--------+\n",
    "|emp_id|department_id| salary|emp_rank|\n",
    "+------+-------------+-------+--------+\n",
    "|  null|         null|   null|       1|\n",
    "|   200|           10| 4400.0|       1|\n",
    "|   201|           20|13000.0|       1|\n",
    "|   202|           20| 6000.0|       2|\n",
    "|   114|           30|11000.0|       1|\n",
    "|   115|           30| 3100.0|       2|\n",
    "|   116|           30| 2900.0|       3|\n",
    "|   117|           30| 2800.0|       4|\n",
    "|   118|           30| 2600.0|       5|\n",
    "|   119|           30| 2500.0|       6|\n",
    "|   203|           40| 6500.0|       1|\n",
    "|   121|           50| 8200.0|       1|\n",
    "|   120|           50| 8000.0|       2|\n",
    "|   122|           50| 7900.0|       3|\n",
    "|   123|           50| 6500.0|       4|\n",
    "|   124|           50| 5800.0|       5|\n",
    "|   184|           50| 4200.0|       6|\n",
    "|   185|           50| 4100.0|       7|\n",
    "|   192|           50| 4000.0|       8|\n",
    "|   193|           50| 3900.0|       9|\n",
    "|   188|           50| 3800.0|      10|\n",
    "|   189|           50| 3600.0|      11|\n",
    "|   137|           50| 3600.0|      11|\n",
    "|   141|           50| 3500.0|      12|\n",
    "|   186|           50| 3400.0|      13|\n",
    "|   129|           50| 3300.0|      14|\n",
    "|   133|           50| 3300.0|      14|\n",
    "|   194|           50| 3200.0|      15|\n",
    "|   180|           50| 3200.0|      15|\n",
    "|   138|           50| 3200.0|      15|\n",
    "|   125|           50| 3200.0|      15|\n",
    "|   196|           50| 3100.0|      16|\n",
    "|   142|           50| 3100.0|      16|\n",
    "|   181|           50| 3100.0|      16|\n",
    "|   187|           50| 3000.0|      17|\n",
    "|   197|           50| 3000.0|      17|\n",
    "|   134|           50| 2900.0|      18|\n",
    "|   190|           50| 2900.0|      18|\n",
    "|   195|           50| 2800.0|      19|\n",
    "|   130|           50| 2800.0|      19|\n",
    "|   183|           50| 2800.0|      19|\n",
    "|   139|           50| 2700.0|      20|\n",
    "|   126|           50| 2700.0|      20|\n",
    "|   199|           50| 2600.0|      21|\n",
    "|   198|           50| 2600.0|      21|\n",
    "|   143|           50| 2600.0|      21|\n",
    "|   191|           50| 2500.0|      22|\n",
    "|   182|           50| 2500.0|      22|\n",
    "|   144|           50| 2500.0|      22|\n",
    "|   140|           50| 2500.0|      22|\n",
    "|   131|           50| 2500.0|      22|\n",
    "|   127|           50| 2400.0|      23|\n",
    "|   135|           50| 2400.0|      23|\n",
    "|   128|           50| 2200.0|      24|\n",
    "|   136|           50| 2200.0|      24|\n",
    "|   132|           50| 2100.0|      25|\n",
    "|   103|           60| 9000.0|       1|\n",
    "|   104|           60| 6000.0|       2|\n",
    "|   106|           60| 4800.0|       3|\n",
    "|   105|           60| 4800.0|       3|\n",
    ".\n",
    ".\n",
    ".\n",
    "|   206|          110| 8300.0|       2|\n",
    "+------+-------------+-------+--------+"
   ]
  },
  {
   "cell_type": "code",
   "execution_count": null,
   "metadata": {},
   "outputs": [],
   "source": []
  },
  {
   "cell_type": "markdown",
   "metadata": {},
   "source": [
    "<p style=\"background :#d0d5db\"><b>Using row_number() Function : </b></p>"
   ]
  },
  {
   "cell_type": "code",
   "execution_count": null,
   "metadata": {},
   "outputs": [],
   "source": [
    ">>> employees. \\\n",
    "...     withColumn('emp_rank', rank().over(spec)). \\\n",
    "...     withColumn('emp_denserank', dense_rank().over(spec)). \\\n",
    "...     withColumn('emp_num', row_number().over(spec)). \\\n",
    "...     orderBy('department_id', employees.salary.desc()).\\\n",
    "...     show(200)"
   ]
  },
  {
   "cell_type": "raw",
   "metadata": {},
   "source": [
    "+------+-------------+-------+--------+-------------+-------+\n",
    "|emp_id|department_id| salary|emp_rank|emp_denserank|emp_num|\n",
    "+------+-------------+-------+--------+-------------+-------+\n",
    "|  null|         null|   null|       1|            1|      1|\n",
    "|   200|           10| 4400.0|       1|            1|      1|\n",
    "|   201|           20|13000.0|       1|            1|      1|\n",
    "|   202|           20| 6000.0|       2|            2|      2|\n",
    "|   114|           30|11000.0|       1|            1|      1|\n",
    "|   115|           30| 3100.0|       2|            2|      2|\n",
    "|   116|           30| 2900.0|       3|            3|      3|\n",
    "|   117|           30| 2800.0|       4|            4|      4|\n",
    "|   118|           30| 2600.0|       5|            5|      5|\n",
    "|   119|           30| 2500.0|       6|            6|      6|\n",
    "|   203|           40| 6500.0|       1|            1|      1|\n",
    "|   121|           50| 8200.0|       1|            1|      1|\n",
    "|   120|           50| 8000.0|       2|            2|      2|\n",
    "|   122|           50| 7900.0|       3|            3|      3|\n",
    "|   123|           50| 6500.0|       4|            4|      4|\n",
    "|   124|           50| 5800.0|       5|            5|      5|\n",
    "|   184|           50| 4200.0|       6|            6|      6|\n",
    "|   185|           50| 4100.0|       7|            7|      7|\n",
    "|   192|           50| 4000.0|       8|            8|      8|\n",
    "|   193|           50| 3900.0|       9|            9|      9|\n",
    "|   188|           50| 3800.0|      10|           10|     10|\n",
    "|   189|           50| 3600.0|      11|           11|     12|\n",
    "|   137|           50| 3600.0|      11|           11|     11|\n",
    "|   141|           50| 3500.0|      13|           12|     13|\n",
    "|   186|           50| 3400.0|      14|           13|     14|\n",
    "|   129|           50| 3300.0|      15|           14|     15|\n",
    "|   133|           50| 3300.0|      15|           14|     16|\n",
    "|   194|           50| 3200.0|      17|           15|     20|\n",
    "|   180|           50| 3200.0|      17|           15|     19|\n",
    "|   138|           50| 3200.0|      17|           15|     17|\n",
    "|   125|           50| 3200.0|      17|           15|     18|\n",
    "|   196|           50| 3100.0|      21|           16|     23|\n",
    "|   142|           50| 3100.0|      21|           16|     21|\n",
    "|   181|           50| 3100.0|      21|           16|     22|\n",
    "|   187|           50| 3000.0|      24|           17|     24|\n",
    "|   197|           50| 3000.0|      24|           17|     25|\n",
    "|   134|           50| 2900.0|      26|           18|     26|\n",
    "|   190|           50| 2900.0|      26|           18|     27|\n",
    "|   195|           50| 2800.0|      28|           19|     30|\n",
    "|   130|           50| 2800.0|      28|           19|     28|\n",
    "|   183|           50| 2800.0|      28|           19|     29|\n",
    "|   139|           50| 2700.0|      31|           20|     31|\n",
    "|   126|           50| 2700.0|      31|           20|     32|\n",
    "|   199|           50| 2600.0|      33|           21|     35|\n",
    "|   198|           50| 2600.0|      33|           21|     34|\n",
    "|   143|           50| 2600.0|      33|           21|     33|\n",
    "|   191|           50| 2500.0|      36|           22|     40|\n",
    "|   182|           50| 2500.0|      36|           22|     39|\n",
    "|   144|           50| 2500.0|      36|           22|     38|\n",
    "|   140|           50| 2500.0|      36|           22|     37|\n",
    "|   131|           50| 2500.0|      36|           22|     36|\n",
    "|   127|           50| 2400.0|      41|           23|     41|\n",
    "|   135|           50| 2400.0|      41|           23|     42|\n",
    "|   128|           50| 2200.0|      43|           24|     43|\n",
    "|   136|           50| 2200.0|      43|           24|     44|\n",
    "|   132|           50| 2100.0|      45|           25|     45|\n",
    "|   103|           60| 9000.0|       1|            1|      1|\n",
    "|   104|           60| 6000.0|       2|            2|      2|\n",
    "|   106|           60| 4800.0|       3|            3|      4|\n",
    "|   105|           60| 4800.0|       3|            3|      3|\n",
    "|   107|           60| 4200.0|       5|            4|      5|\n",
    "|   204|           70|10000.0|       1|            1|      1|\n",
    "|   145|           80|14000.0|       1|            1|      1|\n",
    "|   146|           80|13500.0|       2|            2|      2|\n",
    "|   147|           80|12000.0|       3|            3|      3|\n",
    "|   168|           80|11500.0|       4|            4|      4|\n",
    "|   148|           80|11000.0|       5|            5|      5|\n",
    "|   174|           80|11000.0|       5|            5|      6|\n",
    "|   162|           80|10500.0|       7|            6|      8|\n",
    "|   149|           80|10500.0|       7|            6|      7|\n",
    "|   150|           80|10000.0|       9|            7|      9|\n",
    "|   169|           80|10000.0|       9|            7|     11|\n",
    "|   156|           80|10000.0|       9|            7|     10|\n",
    "|   170|           80| 9600.0|      12|            8|     12|\n",
    "|   157|           80| 9500.0|      13|            9|     14|\n",
    "|   151|           80| 9500.0|      13|            9|     13|\n",
    "|   163|           80| 9500.0|      13|            9|     15|\n",
    "|   152|           80| 9000.0|      16|           10|     16|\n",
    "|   158|           80| 9000.0|      16|           10|     17|\n",
    "|   175|           80| 8800.0|      18|           11|     18|\n",
    "|   176|           80| 8600.0|      19|           12|     19|\n",
    "|   177|           80| 8400.0|      20|           13|     20|\n",
    "|   153|           80| 8000.0|      21|           14|     21|\n",
    "|   159|           80| 8000.0|      21|           14|     22|\n",
    "|   160|           80| 7500.0|      23|           15|     24|\n",
    "|   154|           80| 7500.0|      23|           15|     23|\n",
    "|   171|           80| 7400.0|      25|           16|     25|\n",
    "|   172|           80| 7300.0|      26|           17|     26|\n",
    "|   164|           80| 7200.0|      27|           18|     27|\n",
    "|   161|           80| 7000.0|      28|           19|     29|\n",
    "|   155|           80| 7000.0|      28|           19|     28|\n",
    "|   165|           80| 6800.0|      30|           20|     30|\n",
    "|   166|           80| 6400.0|      31|           21|     31|\n",
    "|   179|           80| 6200.0|      32|           22|     33|\n",
    "|   167|           80| 6200.0|      32|           22|     32|\n",
    "|   173|           80| 6100.0|      34|           23|     34|\n",
    "|   100|           90|24000.0|       1|            1|      1|\n",
    "|   101|           90|17000.0|       2|            2|      2|\n",
    "|   102|           90|17000.0|       2|            2|      3|\n",
    "|   108|          100|12000.0|       1|            1|      1|\n",
    "|   109|          100| 9000.0|       2|            2|      2|\n",
    "|   110|          100| 8200.0|       3|            3|      3|\n",
    "|   112|          100| 7800.0|       4|            4|      4|\n",
    "|   111|          100| 7700.0|       5|            5|      5|\n",
    "|   113|          100| 6900.0|       6|            6|      6|\n",
    "|   205|          110|12000.0|       1|            1|      1|\n",
    "|   206|          110| 8300.0|       2|            2|      2|\n",
    "+------+-------------+-------+--------+-------------+-------+"
   ]
  },
  {
   "cell_type": "markdown",
   "metadata": {},
   "source": [
    "<p style=\"background:#AED6F1\"><b>Define Problem Statement - Get Top N Daily Products</b>"
   ]
  },
  {
   "cell_type": "markdown",
   "metadata": {},
   "source": [
    "To develop a code, which will calculate the revenue for each product on a daily basis and display top N products for that day (by date).\n",
    "\n",
    "**Assuming here, we need top 5 products by date.**\n",
    "\n",
    "The datasets required for this problem are - \n",
    "* Orders Data File (orders.csv)\n",
    "* Order Items Data File (orderItems.csv)\n",
    "* Products Data File (products.csv)"
   ]
  },
  {
   "cell_type": "markdown",
   "metadata": {},
   "source": [
    "<p style=\"background:#AED6F1\"><b> Design - Get Top N Daily Products</p>"
   ]
  },
  {
   "cell_type": "markdown",
   "metadata": {},
   "source": [
    "<p style=\"background:#FA8072;border-style:solid;\"><b>This is to be corrected</b></p>\n",
    "\n",
    "The design of the problem is as follows -\n",
    "\n",
    "1. orders.csv read in orders data frame.\n",
    "2. order_items.csv read in orderItems data frame.\n",
    "3. products.csv read in products data frame.\n",
    "4. Filter orders DF, orderItems DF and products DF to get desired columns.\n",
    "5. Filtered orders DF and orderItems DF joined into ordersJoin DF, on order_id as key column.\n",
    "6. Create window spec specifying partitionBy order_date and product_id and orderBy order_date and product_id \n",
    "7. In ordersJoin DF order_item_subtotal column aggregated using sum function over spec, creating revenue column and data ranked over spec.\n",
    "8. ordersJoin DF and products DF joined on product_id as key column and a result data frame  created to show product_name and ranked revenue to display top 5 products by date."
   ]
  },
  {
   "cell_type": "markdown",
   "metadata": {},
   "source": [
    "<p style=\"background :#d0d5db\"><b>Creating DF</b> </p>"
   ]
  },
  {
   "cell_type": "code",
   "execution_count": null,
   "metadata": {},
   "outputs": [],
   "source": []
  },
  {
   "cell_type": "code",
   "execution_count": null,
   "metadata": {},
   "outputs": [],
   "source": []
  },
  {
   "cell_type": "code",
   "execution_count": null,
   "metadata": {},
   "outputs": [],
   "source": []
  },
  {
   "cell_type": "markdown",
   "metadata": {},
   "source": [
    "<p style=\"background :#d0d5db\"><b>Filtering DFs</b> </p>"
   ]
  },
  {
   "cell_type": "code",
   "execution_count": null,
   "metadata": {},
   "outputs": [],
   "source": []
  },
  {
   "cell_type": "code",
   "execution_count": null,
   "metadata": {},
   "outputs": [],
   "source": []
  },
  {
   "cell_type": "code",
   "execution_count": null,
   "metadata": {},
   "outputs": [],
   "source": []
  },
  {
   "cell_type": "code",
   "execution_count": null,
   "metadata": {},
   "outputs": [],
   "source": []
  },
  {
   "cell_type": "markdown",
   "metadata": {},
   "source": [
    "<p style=\"background :#d0d5db\"><b>Joining Order DFs</b> </p>"
   ]
  },
  {
   "cell_type": "code",
   "execution_count": null,
   "metadata": {},
   "outputs": [],
   "source": [
    ">>> dailyRevenue = orders.where('order_status in (\"COMPLETE\",\"CLOSED\")'). \\\n",
    "...                     join(orderItems, orders.order_id == orderItems.oi_order_id).\\\n",
    "...                     groupBy('order_date','oi_product_id').\\\n",
    "...                     agg(round(sum('subtotal'), 2).alias('revenue')).\\\n",
    "...                     orderBy('order_date',orderItems.oi_product_id.desc())"
   ]
  },
  {
   "cell_type": "code",
   "execution_count": null,
   "metadata": {},
   "outputs": [],
   "source": []
  },
  {
   "cell_type": "code",
   "execution_count": null,
   "metadata": {},
   "outputs": [],
   "source": [
    "dailyProdRevenue = spark.sql('''select order_date, oi_product_id, round(sum(oi_subtotal), 2) as revenue\n",
    "            from ordersvw o, orderItemsvw oi\n",
    "            where o.order_id = oi.oi_order_id\n",
    "            and\n",
    "            o.order_status in (\"CLOSED\", \"COMPLETE\")\n",
    "            group by o.order_date, oi.oi_product_id \n",
    "            order by o.order_date, oi.oi_product_id desc''')\n"
   ]
  },
  {
   "cell_type": "code",
   "execution_count": null,
   "metadata": {},
   "outputs": [],
   "source": []
  },
  {
   "cell_type": "markdown",
   "metadata": {},
   "source": [
    "<p style=\"background :#d0d5db\"><b>Creating Spec, Importing functions and Window objects</b> </p>"
   ]
  },
  {
   "cell_type": "code",
   "execution_count": null,
   "metadata": {},
   "outputs": [],
   "source": [
    "dailyProdRevenue = spark.sql('''select order_date, oi_product_id, sum(oi_subtotal)\n",
    "            from ordersvw, orderItemsvw\n",
    "            where order_id = oi_order_id\n",
    "            and\n",
    "            order_status in (\"CLOSED\", \"COMPLETE\")\n",
    "            group by order_date, oi_product_id\n",
    "            ''')"
   ]
  },
  {
   "cell_type": "code",
   "execution_count": null,
   "metadata": {},
   "outputs": [],
   "source": [
    "select order_date, order_item_product_id, sum(order_item_subtotal)\n",
    "            from orders, order_items\n",
    "            where order_id = order_item_order_id\n",
    "            and\n",
    "            order_status in (\"CLOSED\", \"COMPLETE\")\n",
    "            group by order_date, order_item_product_id;"
   ]
  },
  {
   "cell_type": "code",
   "execution_count": null,
   "metadata": {},
   "outputs": [],
   "source": []
  },
  {
   "cell_type": "markdown",
   "metadata": {},
   "source": [
    "<p style=\"background :#d0d5db\"><b>Aggregating and Ranking in DFs</b> </p>"
   ]
  },
  {
   "cell_type": "code",
   "execution_count": null,
   "metadata": {},
   "outputs": [],
   "source": []
  },
  {
   "cell_type": "code",
   "execution_count": null,
   "metadata": {},
   "outputs": [],
   "source": []
  },
  {
   "cell_type": "code",
   "execution_count": null,
   "metadata": {},
   "outputs": [],
   "source": []
  },
  {
   "cell_type": "markdown",
   "metadata": {},
   "source": [
    "<p style=\"background :#d0d5db\"><b>Joining aggregated order and product DFs</b> </p>"
   ]
  },
  {
   "cell_type": "code",
   "execution_count": null,
   "metadata": {},
   "outputs": [],
   "source": []
  },
  {
   "cell_type": "code",
   "execution_count": null,
   "metadata": {},
   "outputs": [],
   "source": []
  },
  {
   "cell_type": "markdown",
   "metadata": {},
   "source": [
    "<p style=\"background :#d0d5db\"><b>END</b> </p>"
   ]
  }
 ],
 "metadata": {
  "kernelspec": {
   "display_name": "Python 3",
   "language": "python",
   "name": "python3"
  },
  "language_info": {
   "codemirror_mode": {
    "name": "ipython",
    "version": 3
   },
   "file_extension": ".py",
   "mimetype": "text/x-python",
   "name": "python",
   "nbconvert_exporter": "python",
   "pygments_lexer": "ipython3",
   "version": "3.8.5"
  }
 },
 "nbformat": 4,
 "nbformat_minor": 4
}
