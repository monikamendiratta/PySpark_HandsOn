{
 "cells": [
  {
   "cell_type": "markdown",
   "metadata": {},
   "source": [
    "### <div class=\"alert alert-success\" style=\"background:#2C3E50;color:white\">Data Frame Operations - Basic Transformations such as filtering, aggregations, joins etc</div>"
   ]
  },
  {
   "cell_type": "markdown",
   "metadata": {},
   "source": [
    "This section will show different transformations on Data Frames such as -\n",
    "* filtering datasets\n",
    "* joining datasets \n",
    "* aggregating the data as desired after joining them.\n",
    "\n",
    "All of the above operations will be performed using various Data Frame APIs like -\n",
    "* select - for Selection or Projection\n",
    "* Filtering data – filter or where\n",
    "* Joins – join (supports outer join as well)\n",
    "* Aggregations – groupBy and agg with support of functions such as sum."
   ]
  },
  {
   "cell_type": "markdown",
   "metadata": {},
   "source": [
    "<p style=\"background:#F1C40F\"><b>NOTE : </b>Looking at examples based on hypothetical scenarios for various operations on Data Frames such as selecting, filtering, joining, aggregating and sorting.</p>"
   ]
  },
  {
   "cell_type": "markdown",
   "metadata": {},
   "source": [
    "<p style=\"background:#AED6F1\"><b>Selection or Projection of Data in Data Frames</p>"
   ]
  },
  {
   "cell_type": "markdown",
   "metadata": {},
   "source": [
    "Data can be selected and fetched fom DF using native DF style syntax or sql style syntax. In native DF approach to select and project data we can use either of the following DF APIs -\n",
    "* select(*cols) - Projects a set of expressions and returns a new DataFrame.\n",
    "    * <code>df_name.select(df_name.attribute_name, df_name.attribute_name,...)</code>\n",
    "    * <code>df_name.select('attribute_name', 'attribute_name',...)</code>\n",
    "    \n",
    "* withColumn()\n",
    "\n",
    "For selecting using sql style syntax -\n",
    "* selectExpr(*expr) - Projects a set of SQL expressions and returns a new DataFrame. This is a variant of select() that accepts SQL expressions.\n"
   ]
  },
  {
   "cell_type": "markdown",
   "metadata": {},
   "source": [
    "<p style=\"background:#F1C40F\"><b>NOTE : </b> Below are few important details -</p>\n",
    "\n",
    "* We can apply functions to manipulate the data while it is being projected.\n",
    "    * <code>df.select(substring('<attibute_name>', 1, 5))</code>\n",
    "* Derived fields can be given aliases using alias function.\n",
    "    * <code>df.select(substring('<attibute_name>', 1, 5).alias('XYZ'))</code>\n",
    "* Using withColumn function we can project additional derived fields along with the existing attributes.\n",
    "    * <code>df.withColumn('XYZ', substring('<attibute_name>', 1, 5))</code>"
   ]
  },
  {
   "cell_type": "raw",
   "metadata": {},
   "source": [
    "<p style=\"background :#d0d5db\"><b>Selection using native DF style syntax - Examples</b> </p>"
   ]
  },
  {
   "cell_type": "markdown",
   "metadata": {},
   "source": [
    "<p style=\"background :#d0d5db\"><b>df.select()</b></p>"
   ]
  },
  {
   "cell_type": "code",
   "execution_count": null,
   "metadata": {},
   "outputs": [],
   "source": [
    ">>> orders.select('order_id', 'order_date').show(truncate=False)"
   ]
  },
  {
   "cell_type": "raw",
   "metadata": {},
   "source": [
    "+--------+---------------------+\n",
    "|order_id|order_date           |\n",
    "+--------+---------------------+\n",
    "|1       |2013-07-25 00:00:00.0|\n",
    "|2       |2013-07-25 00:00:00.0|\n",
    "|3       |2013-07-25 00:00:00.0|\n",
    "|4       |2013-07-25 00:00:00.0|\n",
    "|5       |2013-07-25 00:00:00.0|"
   ]
  },
  {
   "cell_type": "code",
   "execution_count": null,
   "metadata": {},
   "outputs": [],
   "source": [
    ">>> orders.select('order_id', substring('order_date', 1, 7)).show()\n"
   ]
  },
  {
   "cell_type": "raw",
   "metadata": {},
   "source": [
    "+--------+---------------------------+  \n",
    "|order_id|substring(order_date, 1, 7)|\n",
    "+--------+---------------------------+\n",
    "|       1|                    2013-07|\n",
    "|       2|                    2013-07|\n",
    "|       3|                    2013-07|\n",
    "|       4|                    2013-07|\n",
    "|       5|                    2013-07|"
   ]
  },
  {
   "cell_type": "code",
   "execution_count": null,
   "metadata": {},
   "outputs": [],
   "source": [
    ">>> orders.select('order_id', substring('order_date', 1, 7).alias('order_month')).show()\n"
   ]
  },
  {
   "cell_type": "raw",
   "metadata": {},
   "source": [
    "+--------+-----------+\n",
    "|order_id|order_month|\n",
    "+--------+-----------+\n",
    "|       1|    2013-07|\n",
    "|       2|    2013-07|\n",
    "|       3|    2013-07|\n",
    "|       4|    2013-07|\n",
    "|       5|    2013-07|\n",
    "|       6|    2013-07|"
   ]
  },
  {
   "cell_type": "code",
   "execution_count": null,
   "metadata": {},
   "outputs": [],
   "source": [
    ">>> orders.select(orders.order_id, orders.order_date).show(truncate=False)"
   ]
  },
  {
   "cell_type": "raw",
   "metadata": {},
   "source": [
    "+--------+---------------------+\n",
    "|order_id|order_date           |\n",
    "+--------+---------------------+\n",
    "|1       |2013-07-25 00:00:00.0|\n",
    "|2       |2013-07-25 00:00:00.0|\n",
    "|3       |2013-07-25 00:00:00.0|\n",
    "|4       |2013-07-25 00:00:00.0|\n",
    "|5       |2013-07-25 00:00:00.0|"
   ]
  },
  {
   "cell_type": "markdown",
   "metadata": {},
   "source": [
    "<p style=\"background :#d0d5db\"><b>df.withColumn()</b></p>"
   ]
  },
  {
   "cell_type": "code",
   "execution_count": null,
   "metadata": {},
   "outputs": [],
   "source": [
    ">>> orders.withColumn('order_month', substring('order_date', 1, 7)).show()\n"
   ]
  },
  {
   "cell_type": "raw",
   "metadata": {},
   "source": [
    "+--------+--------------------+-------------+---------------+-----------+\n",
    "|order_id|          order_date|order_cust_id|   order_status|order_month|\n",
    "+--------+--------------------+-------------+---------------+-----------+\n",
    "|       1|2013-07-25 00:00:...|        11599|         CLOSED|    2013-07|\n",
    "|       2|2013-07-25 00:00:...|          256|PENDING_PAYMENT|    2013-07|\n",
    "|       3|2013-07-25 00:00:...|        12111|       COMPLETE|    2013-07|\n",
    "|       4|2013-07-25 00:00:...|         8827|         CLOSED|    2013-07|\n",
    "|       5|2013-07-25 00:00:...|        11318|       COMPLETE|    2013-07|\n",
    "|       6|2013-07-25 00:00:...|         7130|       COMPLETE|    2013-07|"
   ]
  },
  {
   "cell_type": "markdown",
   "metadata": {},
   "source": [
    "<p style=\"background :#d0d5db\"><b>Selection using native DF SQL style - Examples</b> </p>"
   ]
  },
  {
   "cell_type": "markdown",
   "metadata": {},
   "source": [
    "<p style=\"background :#d0d5db\"><b>df.selectExpr()</b></p>"
   ]
  },
  {
   "cell_type": "code",
   "execution_count": null,
   "metadata": {},
   "outputs": [],
   "source": [
    ">>> orders.selectExpr('substring(order_date, 1, 7) as order_month').show()\n",
    "                                                   ^^ "
   ]
  },
  {
   "cell_type": "raw",
   "metadata": {},
   "source": [
    "+-----------+    \n",
    "|order_month|\n",
    "+-----------+\n",
    "|    2013-07|\n",
    "|    2013-07|\n",
    "|    2013-07|\n",
    "|    2013-07|\n",
    "|    2013-07|\n",
    "|    2013-07|\n",
    "|    2013-07|\n",
    "|    2013-07|\n",
    "|    2013-07|\n",
    "|    2013-07|\n",
    "|    2013-07|\n",
    "|    2013-07|\n",
    "|    2013-07|\n",
    "|    2013-07|\n",
    "|    2013-07|\n",
    "|    2013-07|\n",
    "|    2013-07|\n",
    "|    2013-07|\n",
    "|    2013-07|\n",
    "|    2013-07|\n",
    "+-----------+\n",
    "only showing top 20 rows"
   ]
  },
  {
   "cell_type": "markdown",
   "metadata": {},
   "source": [
    "<p style=\"background:#AED6F1\"><b>Filtering Data from Data Frames</p>"
   ]
  },
  {
   "cell_type": "markdown",
   "metadata": {},
   "source": [
    "Data Frames have 2 APIs to filter the data - filter() and where(). where() is alias to filter(), hence, both function the same way.\n",
    "* filter() or where() - are overloaded and hence, can both be used by writing code in native DF style syntax or sql style syntax.\n",
    "\n",
    "* Native DF style syntax -\n",
    "eg. <code>where(orders.order_status == 'COMPLETE').show()</code>\n",
    "\n",
    "* SQL style syntax -\n",
    "eg. <code>where('order_status = \"COMPLETE\"').show()</code>"
   ]
  },
  {
   "cell_type": "markdown",
   "metadata": {},
   "source": [
    "<p style=\"background:#F1C40F\"><b>NOTE : </b> Few more practice examples for filtering data are as under -</p>"
   ]
  },
  {
   "cell_type": "markdown",
   "metadata": {},
   "source": [
    "<p style=\"background:#F1C40F\">Get Orders which are either COMPLETE or CLOSED.</p>"
   ]
  },
  {
   "cell_type": "markdown",
   "metadata": {},
   "source": [
    "Native DF style syntax"
   ]
  },
  {
   "cell_type": "code",
   "execution_count": null,
   "metadata": {},
   "outputs": [],
   "source": [
    ">>> orders.filter(orders.order_status == 'COMPLETE').show()"
   ]
  },
  {
   "cell_type": "raw",
   "metadata": {},
   "source": [
    "+--------+--------------------+-------------+------------+ \n",
    "|order_id|          order_date|order_cust_id|order_status|\n",
    "+--------+--------------------+-------------+------------+\n",
    "|       3|2013-07-25 00:00:...|        12111|    COMPLETE|\n",
    "|       5|2013-07-25 00:00:...|        11318|    COMPLETE|\n",
    "|       6|2013-07-25 00:00:...|         7130|    COMPLETE|\n",
    "|       7|2013-07-25 00:00:...|         4530|    COMPLETE|\n",
    "|      15|2013-07-25 00:00:...|         2568|    COMPLETE|"
   ]
  },
  {
   "cell_type": "code",
   "execution_count": null,
   "metadata": {},
   "outputs": [],
   "source": [
    "# using boolean OR\n",
    "\n",
    ">>> orders.filter((orders.order_status == 'COMPLETE') | (orders.order_status == 'CLOSED')).show()"
   ]
  },
  {
   "cell_type": "raw",
   "metadata": {},
   "source": [
    "+--------+--------------------+-------------+------------+ \n",
    "|order_id|          order_date|order_cust_id|order_status|\n",
    "+--------+--------------------+-------------+------------+\n",
    "|       1|2013-07-25 00:00:...|        11599|      CLOSED|\n",
    "|       3|2013-07-25 00:00:...|        12111|    COMPLETE|\n",
    "|       4|2013-07-25 00:00:...|         8827|      CLOSED|\n",
    "|       5|2013-07-25 00:00:...|        11318|    COMPLETE|\n",
    "|       6|2013-07-25 00:00:...|         7130|    COMPLETE|\n",
    "|       7|2013-07-25 00:00:...|         4530|    COMPLETE|"
   ]
  },
  {
   "cell_type": "code",
   "execution_count": null,
   "metadata": {},
   "outputs": [],
   "source": [
    "# using DF function isin()\n",
    "\n",
    ">>> orders.filter(orders.order_status.isin('COMPLETE','CLOSED')).show()"
   ]
  },
  {
   "cell_type": "raw",
   "metadata": {},
   "source": [
    "+--------+--------------------+-------------+------------+\n",
    "|order_id|          order_date|order_cust_id|order_status|\n",
    "+--------+--------------------+-------------+------------+\n",
    "|       1|2013-07-25 00:00:...|        11599|      CLOSED|\n",
    "|       3|2013-07-25 00:00:...|        12111|    COMPLETE|\n",
    "|       4|2013-07-25 00:00:...|         8827|      CLOSED|\n",
    "|       5|2013-07-25 00:00:...|        11318|    COMPLETE|\n",
    "|       6|2013-07-25 00:00:...|         7130|    COMPLETE|"
   ]
  },
  {
   "cell_type": "code",
   "execution_count": null,
   "metadata": {},
   "outputs": [],
   "source": [
    ">>> orders.filter(orders.order_status.isin('COMPLETE','CLOSED')).count()"
   ]
  },
  {
   "cell_type": "raw",
   "metadata": {},
   "source": [
    "30455"
   ]
  },
  {
   "cell_type": "markdown",
   "metadata": {},
   "source": [
    "SQL style syntax"
   ]
  },
  {
   "cell_type": "code",
   "execution_count": null,
   "metadata": {},
   "outputs": [],
   "source": [
    ">>> orders.filter(\"order_status = 'COMPLETE'\").show()"
   ]
  },
  {
   "cell_type": "raw",
   "metadata": {},
   "source": [
    "+--------+--------------------+-------------+------------+\n",
    "|order_id|          order_date|order_cust_id|order_status|\n",
    "+--------+--------------------+-------------+------------+\n",
    "|       3|2013-07-25 00:00:...|        12111|    COMPLETE|\n",
    "|       5|2013-07-25 00:00:...|        11318|    COMPLETE|\n",
    "|       6|2013-07-25 00:00:...|         7130|    COMPLETE|\n",
    "|       7|2013-07-25 00:00:...|         4530|    COMPLETE|"
   ]
  },
  {
   "cell_type": "code",
   "execution_count": null,
   "metadata": {},
   "outputs": [],
   "source": [
    ">>> orders.filter(\"order_status in('CLOSED', 'COMPLETE')\").show()"
   ]
  },
  {
   "cell_type": "raw",
   "metadata": {},
   "source": [
    "+--------+--------------------+-------------+------------+\n",
    "|order_id|          order_date|order_cust_id|order_status|\n",
    "+--------+--------------------+-------------+------------+\n",
    "|       1|2013-07-25 00:00:...|        11599|      CLOSED|\n",
    "|       3|2013-07-25 00:00:...|        12111|    COMPLETE|\n",
    "|       4|2013-07-25 00:00:...|         8827|      CLOSED|\n",
    "|       5|2013-07-25 00:00:...|        11318|    COMPLETE|\n",
    "|       6|2013-07-25 00:00:...|         7130|    COMPLETE|"
   ]
  },
  {
   "cell_type": "code",
   "execution_count": null,
   "metadata": {},
   "outputs": [],
   "source": []
  },
  {
   "cell_type": "markdown",
   "metadata": {},
   "source": [
    "<p style=\"background:#F1C40F\"> Get Orders which are either COMPLETE or CLOSED and placed in month of August 2013.</p>"
   ]
  },
  {
   "cell_type": "code",
   "execution_count": null,
   "metadata": {},
   "outputs": [],
   "source": [
    "# df native style statement\n",
    "\n",
    ">>> orders.filter((orders.order_status.isin('COMPLETE','CLOSED')) &\n",
    "... (orders.order_date.like('2013-08%'))).show()"
   ]
  },
  {
   "cell_type": "raw",
   "metadata": {},
   "source": [
    "+--------+--------------------+-------------+------------+\n",
    "|order_id|          order_date|order_cust_id|order_status|\n",
    "+--------+--------------------+-------------+------------+\n",
    "|    1297|2013-08-01 00:00:...|        11607|    COMPLETE|\n",
    "|    1298|2013-08-01 00:00:...|         5105|      CLOSED|\n",
    "|    1299|2013-08-01 00:00:...|         7802|    COMPLETE|\n",
    "|    1302|2013-08-01 00:00:...|         1695|    COMPLETE|\n",
    "|    1304|2013-08-01 00:00:...|         2059|    COMPLETE|\n",
    "|    1305|2013-08-01 00:00:...|         3844|    COMPLETE|\n",
    "|    1307|2013-08-01 00:00:...|         4474|    COMPLETE|\n",
    "|    1309|2013-08-01 00:00:...|         2367|      CLOSED|\n",
    "|    1312|2013-08-01 00:00:...|        12291|    COMPLETE|\n",
    "|    1314|2013-08-01 00:00:...|        10993|    COMPLETE|\n",
    "|    1315|2013-08-01 00:00:...|         5660|    COMPLETE|\n",
    "|    1318|2013-08-01 00:00:...|         4212|    COMPLETE|\n",
    "|    1319|2013-08-01 00:00:...|         3966|    COMPLETE|\n",
    "|    1320|2013-08-01 00:00:...|        12270|    COMPLETE|\n",
    "|    1321|2013-08-01 00:00:...|          800|    COMPLETE|\n",
    "|    1322|2013-08-01 00:00:...|         9264|    COMPLETE|\n",
    "|    1323|2013-08-01 00:00:...|         7422|    COMPLETE|\n",
    "|    1324|2013-08-01 00:00:...|         4600|    COMPLETE|\n",
    "|    1327|2013-08-01 00:00:...|         9526|    COMPLETE|\n",
    "|    1329|2013-08-01 00:00:...|         6070|      CLOSED|\n",
    "+--------+--------------------+-------------+------------+\n",
    "only showing top 20 rows"
   ]
  },
  {
   "cell_type": "code",
   "execution_count": null,
   "metadata": {},
   "outputs": [],
   "source": [
    "# sql Style syntax\n",
    "\n",
    ">>> orders.filter(\"order_status in ('COMPLETE', 'CLOSED') and order_date like '2013-08%'\").show()"
   ]
  },
  {
   "cell_type": "raw",
   "metadata": {},
   "source": [
    "+--------+--------------------+-------------+------------+                   \n",
    "|order_id|          order_date|order_cust_id|order_status|\n",
    "+--------+--------------------+-------------+------------+\n",
    "|    1297|2013-08-01 00:00:...|        11607|    COMPLETE|\n",
    "|    1298|2013-08-01 00:00:...|         5105|      CLOSED|\n",
    "|    1299|2013-08-01 00:00:...|         7802|    COMPLETE|\n",
    "|    1302|2013-08-01 00:00:...|         1695|    COMPLETE|\n",
    "|    1304|2013-08-01 00:00:...|         2059|    COMPLETE|"
   ]
  },
  {
   "cell_type": "code",
   "execution_count": null,
   "metadata": {},
   "outputs": [],
   "source": [
    "# sql Style syntax\n",
    "\n",
    ">>> orders.where(\"order_status in ('CLOSED', 'COMPLETE') and order_date like '2013-08%'\").show()"
   ]
  },
  {
   "cell_type": "raw",
   "metadata": {},
   "source": [
    "+--------+--------------------+-------------+------------+                   \n",
    "|order_id|          order_date|order_cust_id|order_status|\n",
    "+--------+--------------------+-------------+------------+\n",
    "|    1297|2013-08-01 00:00:...|        11607|    COMPLETE|\n",
    "|    1298|2013-08-01 00:00:...|         5105|      CLOSED|\n",
    "|    1299|2013-08-01 00:00:...|         7802|    COMPLETE|\n",
    "|    1302|2013-08-01 00:00:...|         1695|    COMPLETE|\n",
    "|    1304|2013-08-01 00:00:...|         2059|    COMPLETE|"
   ]
  },
  {
   "cell_type": "code",
   "execution_count": null,
   "metadata": {},
   "outputs": [],
   "source": [
    ">>> orders.where(\"order_status in ('CLOSED', 'COMPLETE') and order_date like '2013-08%'\").count()"
   ]
  },
  {
   "cell_type": "raw",
   "metadata": {},
   "source": [
    "2517"
   ]
  },
  {
   "cell_type": "markdown",
   "metadata": {},
   "source": [
    "<p style=\"background:#F1C40F\">Get Order Items where order_item_subtotal is not equal to product of item_quantity and product_price.</p>"
   ]
  },
  {
   "cell_type": "code",
   "execution_count": null,
   "metadata": {},
   "outputs": [],
   "source": [
    ">>> orderItems.show()"
   ]
  },
  {
   "cell_type": "raw",
   "metadata": {},
   "source": [
    "+-------------+--------+----------+---+--------+-------------+\n",
    "|order_item_id|order_id|product_id|qty|subtotal|product_price|\n",
    "+-------------+--------+----------+---+--------+-------------+\n",
    "|            1|       1|       957|  1|  299.98|       299.98|\n",
    "|            2|       2|      1073|  1|  199.99|       199.99|\n",
    "|            3|       2|       502|  5|   250.0|         50.0|\n",
    "|            4|       2|       403|  1|  129.99|       129.99|"
   ]
  },
  {
   "cell_type": "code",
   "execution_count": null,
   "metadata": {},
   "outputs": [],
   "source": [
    ">>> orderItems.select('subtotal', 'qty', 'product_price').show()"
   ]
  },
  {
   "cell_type": "raw",
   "metadata": {},
   "source": [
    "+--------+---+-------------+\n",
    "|subtotal|qty|product_price|\n",
    "+--------+---+-------------+\n",
    "|  299.98|  1|       299.98|\n",
    "|  199.99|  1|       199.99|\n",
    "|   250.0|  5|         50.0|\n",
    "|  129.99|  1|       129.99|"
   ]
  },
  {
   "cell_type": "code",
   "execution_count": null,
   "metadata": {},
   "outputs": [],
   "source": [
    "# df native style statement\n",
    "\n",
    ">>> orderItems. \\\n",
    "... select('subtotal', 'qty', 'product_price'). \\\n",
    "... where(orderItems.subtotal != orderItems.qty * orderItems.product_price). \\\n",
    "... show()"
   ]
  },
  {
   "cell_type": "raw",
   "metadata": {},
   "source": [
    "+--------+---+-------------+                                                 \n",
    "|subtotal|qty|product_price|\n",
    "+--------+---+-------------+\n",
    "|  499.95|  5|        99.99|\n",
    "|  499.95|  5|        99.99|\n",
    "|  199.95|  5|        39.99|\n",
    "|  499.95|  5|        99.99|\n",
    "|  199.95|  5|        39.99|\n",
    "|  499.95|  5|        99.99|"
   ]
  },
  {
   "cell_type": "code",
   "execution_count": null,
   "metadata": {},
   "outputs": [],
   "source": [
    ">>> from pyspark.sql.functions import round"
   ]
  },
  {
   "cell_type": "code",
   "execution_count": null,
   "metadata": {},
   "outputs": [],
   "source": [
    "# df native style statement\n",
    "\n",
    ">>> orderItems. \\\n",
    "... select('subtotal', 'qty', 'product_price'). \\\n",
    "... where(orderItems.subtotal != round((orderItems.qty * orderItems.product_price), 2)). \\\n",
    "... show()"
   ]
  },
  {
   "cell_type": "raw",
   "metadata": {},
   "source": [
    "+--------+---+-------------+                                                 \n",
    "|subtotal|qty|product_price|\n",
    "+--------+---+-------------+\n",
    "+--------+---+-------------+"
   ]
  },
  {
   "cell_type": "code",
   "execution_count": null,
   "metadata": {},
   "outputs": [],
   "source": [
    "# sql style syntax\n",
    "\n",
    ">>> orderItems = spark.read. \\\n",
    "... format('csv'). \\\n",
    "... schema('oi_id int, oi_ordr_id int, oi_prod_id int, oi_qnty int, oi_subtotal float, oi_prod_prce float'). \\\n",
    "... load('/public/retail_db/order_items')"
   ]
  },
  {
   "cell_type": "code",
   "execution_count": null,
   "metadata": {},
   "outputs": [],
   "source": [
    ">>> orderItems.show()"
   ]
  },
  {
   "cell_type": "raw",
   "metadata": {},
   "source": [
    "+-----+----------+----------+-------+-----------+------------+\n",
    "|oi_id|oi_ordr_id|oi_prod_id|oi_qnty|oi_subtotal|oi_prod_prce|\n",
    "+-----+----------+----------+-------+-----------+------------+\n",
    "|    1|         1|       957|      1|     299.98|      299.98|\n",
    "|    2|         2|      1073|      1|     199.99|      199.99|\n",
    "|    3|         2|       502|      5|      250.0|        50.0|\n",
    "|    4|         2|       403|      1|     129.99|      129.99|"
   ]
  },
  {
   "cell_type": "code",
   "execution_count": null,
   "metadata": {},
   "outputs": [],
   "source": [
    ">>> orderItems.select('oi_subtotal', 'oi_qnty', 'oi_prod_prce').show()"
   ]
  },
  {
   "cell_type": "raw",
   "metadata": {},
   "source": [
    "+-----------+-------+------------+\n",
    "|oi_subtotal|oi_qnty|oi_prod_prce|\n",
    "+-----------+-------+------------+\n",
    "|     299.98|      1|      299.98|\n",
    "|     199.99|      1|      199.99|\n",
    "|      250.0|      5|        50.0|\n",
    "|     129.99|      1|      129.99|"
   ]
  },
  {
   "cell_type": "code",
   "execution_count": null,
   "metadata": {},
   "outputs": [],
   "source": [
    ">>> orderItems.select('oi_subtotal', 'oi_qnty', 'oi_prod_prce'). \\\n",
    "... where('oi_subtotal <> round((oi_qnty * oi_prod_prce),2)'). \\\n",
    "... show()"
   ]
  },
  {
   "cell_type": "raw",
   "metadata": {},
   "source": [
    "+-----------+-------+------------+\n",
    "|oi_subtotal|oi_qnty|oi_prod_prce|\n",
    "+-----------+-------+------------+\n",
    "+-----------+-------+------------+"
   ]
  },
  {
   "cell_type": "code",
   "execution_count": null,
   "metadata": {},
   "outputs": [],
   "source": [
    ">>> orderItems.selectExpr('oi_subtotal', 'oi_qnty', 'oi_prod_prce').show()"
   ]
  },
  {
   "cell_type": "raw",
   "metadata": {},
   "source": [
    "+-----------+-------+------------+\n",
    "|oi_subtotal|oi_qnty|oi_prod_prce|\n",
    "+-----------+-------+------------+\n",
    "|     299.98|      1|      299.98|\n",
    "|     199.99|      1|      199.99|\n",
    "|      250.0|      5|        50.0|\n",
    "|     129.99|      1|      129.99|\n",
    "|      49.98|      2|       24.99|\n",
    "|     299.95|      5|       59.99|"
   ]
  },
  {
   "cell_type": "markdown",
   "metadata": {},
   "source": [
    "<p style=\"background:#F1C40F\">Get all Orders which are placed on first of every month</p>"
   ]
  },
  {
   "cell_type": "code",
   "execution_count": null,
   "metadata": {},
   "outputs": [],
   "source": [
    ">>> from pyspark.sql.functions import min, max"
   ]
  },
  {
   "cell_type": "code",
   "execution_count": null,
   "metadata": {},
   "outputs": [],
   "source": [
    ">>> orders.select(max('order_date')).show()"
   ]
  },
  {
   "cell_type": "raw",
   "metadata": {},
   "source": [
    "+--------------------+ \n",
    "|     max(order_date)|\n",
    "+--------------------+\n",
    "|2014-07-24 00:00:...|\n",
    "+--------------------+"
   ]
  },
  {
   "cell_type": "code",
   "execution_count": null,
   "metadata": {},
   "outputs": [],
   "source": [
    ">>> orders.select(min('order_date')).show()"
   ]
  },
  {
   "cell_type": "raw",
   "metadata": {},
   "source": [
    "+--------------------+\n",
    "|     min(order_date)|\n",
    "+--------------------+\n",
    "|2013-07-25 00:00:...|\n",
    "+--------------------+"
   ]
  },
  {
   "cell_type": "code",
   "execution_count": null,
   "metadata": {},
   "outputs": [],
   "source": [
    ">>> orders.select(date_format('order_date', 'yyyy-MM-dd')).show()"
   ]
  },
  {
   "cell_type": "raw",
   "metadata": {},
   "source": [
    "+-----------------------------------+\n",
    "|date_format(order_date, yyyy-MM-dd)|\n",
    "+-----------------------------------+\n",
    "|                         2013-07-25|\n",
    "|                         2013-07-25|\n",
    "|                         2013-07-25|\n",
    "|                         2013-07-25|\n",
    "|                         2013-07-25|"
   ]
  },
  {
   "cell_type": "code",
   "execution_count": null,
   "metadata": {},
   "outputs": [],
   "source": [
    ">>> orders.select(date_format('order_date', 'yyyy-MM-dd').alias('order_date')).show()"
   ]
  },
  {
   "cell_type": "raw",
   "metadata": {},
   "source": [
    "+----------+\n",
    "|order_date|\n",
    "+----------+\n",
    "|2013-07-25|\n",
    "|2013-07-25|\n",
    "|2013-07-25|\n",
    "|2013-07-25|"
   ]
  },
  {
   "cell_type": "code",
   "execution_count": null,
   "metadata": {},
   "outputs": [],
   "source": [
    ">>> orders.where(date_format('order_date', 'dd') == '01').show()"
   ]
  },
  {
   "cell_type": "raw",
   "metadata": {},
   "source": [
    "+--------+--------------------+-------------+---------------+\n",
    "|order_id|          order_date|order_cust_id|   order_status|\n",
    "+--------+--------------------+-------------+---------------+\n",
    "|    1297|2013-08-01 00:00:...|        11607|       COMPLETE|\n",
    "|    1298|2013-08-01 00:00:...|         5105|         CLOSED|\n",
    "|    1299|2013-08-01 00:00:...|         7802|       COMPLETE|\n",
    "|    1300|2013-08-01 00:00:...|          553|PENDING_PAYMENT|\n",
    "|    1301|2013-08-01 00:00:...|         1604|PENDING_PAYMENT|\n",
    "|    1302|2013-08-01 00:00:...|         1695|       COMPLETE|\n",
    "|    1303|2013-08-01 00:00:...|         7018|     PROCESSING|\n",
    "|    1304|2013-08-01 00:00:...|         2059|       COMPLETE|\n",
    "|    1305|2013-08-01 00:00:...|         3844|       COMPLETE|\n",
    "|    1306|2013-08-01 00:00:...|        11672|PENDING_PAYMENT|\n",
    "|    1307|2013-08-01 00:00:...|         4474|       COMPLETE|\n",
    "|    1308|2013-08-01 00:00:...|        11645|        PENDING|\n",
    "|    1309|2013-08-01 00:00:...|         2367|         CLOSED|\n",
    "|    1310|2013-08-01 00:00:...|         5602|        PENDING|\n",
    "|    1311|2013-08-01 00:00:...|         5396|PENDING_PAYMENT|\n",
    "|    1312|2013-08-01 00:00:...|        12291|       COMPLETE|\n",
    "|    1313|2013-08-01 00:00:...|         3471|       CANCELED|\n",
    "|    1314|2013-08-01 00:00:...|        10993|       COMPLETE|\n",
    "|    1315|2013-08-01 00:00:...|         5660|       COMPLETE|\n",
    "|    1316|2013-08-01 00:00:...|         6376|PENDING_PAYMENT|\n",
    "+--------+--------------------+-------------+---------------+\n",
    "only showing top 20 rows"
   ]
  },
  {
   "cell_type": "code",
   "execution_count": null,
   "metadata": {},
   "outputs": [],
   "source": [
    "# there should be 12 uniques dates - 1 for each month\n",
    "\n",
    ">>> orders.where(date_format('order_date', 'dd') == '01').select('order_date').distinct().count()"
   ]
  },
  {
   "cell_type": "raw",
   "metadata": {},
   "source": [
    "12"
   ]
  },
  {
   "cell_type": "markdown",
   "metadata": {},
   "source": [
    "<p style=\"background:#F1C40F\"><b>NOTE : </b>Just tried spark.sql</p>"
   ]
  },
  {
   "cell_type": "code",
   "execution_count": null,
   "metadata": {},
   "outputs": [],
   "source": [
    ">>> orders = spark.read.csv('/public/retail_db/orders', schema='order_id int, order_date string, order_cust_id int, order_status string')"
   ]
  },
  {
   "cell_type": "code",
   "execution_count": null,
   "metadata": {},
   "outputs": [],
   "source": [
    ">>> orders.show()"
   ]
  },
  {
   "cell_type": "raw",
   "metadata": {},
   "source": [
    "+--------+--------------------+-------------+---------------+   \n",
    "|order_id|          order_date|order_cust_id|   order_status|\n",
    "+--------+--------------------+-------------+---------------+\n",
    "|       1|2013-07-25 00:00:...|        11599|         CLOSED|\n",
    "|       2|2013-07-25 00:00:...|          256|PENDING_PAYMENT|\n",
    "|       3|2013-07-25 00:00:...|        12111|       COMPLETE|\n",
    "|       4|2013-07-25 00:00:...|         8827|         CLOSED|\n",
    "|       5|2013-07-25 00:00:...|        11318|       COMPLETE|"
   ]
  },
  {
   "cell_type": "code",
   "execution_count": null,
   "metadata": {},
   "outputs": [],
   "source": [
    ">>> orders.createOrReplaceTempView('ordersvw')"
   ]
  },
  {
   "cell_type": "code",
   "execution_count": null,
   "metadata": {},
   "outputs": [],
   "source": [
    ">>> spark.sql(\"select * from ordersvw\").show()"
   ]
  },
  {
   "cell_type": "raw",
   "metadata": {},
   "source": [
    "+--------+--------------------+-------------+---------------+\n",
    "|order_id|          order_date|order_cust_id|   order_status|\n",
    "+--------+--------------------+-------------+---------------+\n",
    "|       1|2013-07-25 00:00:...|        11599|         CLOSED|\n",
    "|       2|2013-07-25 00:00:...|          256|PENDING_PAYMENT|\n",
    "|       3|2013-07-25 00:00:...|        12111|       COMPLETE|\n",
    "|       4|2013-07-25 00:00:...|         8827|         CLOSED|"
   ]
  },
  {
   "cell_type": "code",
   "execution_count": null,
   "metadata": {},
   "outputs": [],
   "source": [
    ">>> spark.sql(\"select order_date from ordersvw\").show()"
   ]
  },
  {
   "cell_type": "raw",
   "metadata": {},
   "source": [
    "+--------------------+\n",
    "|          order_date|\n",
    "+--------------------+\n",
    "|2013-07-25 00:00:...|\n",
    "|2013-07-25 00:00:...|\n",
    "|2013-07-25 00:00:...|"
   ]
  },
  {
   "cell_type": "code",
   "execution_count": null,
   "metadata": {},
   "outputs": [],
   "source": [
    ">>> spark.sql(\"select date_format(order_date,'yyyy-MM-dd') from ordersvw\").show()"
   ]
  },
  {
   "cell_type": "raw",
   "metadata": {},
   "source": [
    "+------------------------------------------------------+\n",
    "|date_format(CAST(order_date AS TIMESTAMP), yyyy-MM-dd)|\n",
    "+------------------------------------------------------+\n",
    "|                                            2013-07-25|\n",
    "|                                            2013-07-25|\n",
    "|                                            2013-07-25|\n",
    "|                                            2013-07-25|\n",
    "|                                            2013-07-25|"
   ]
  },
  {
   "cell_type": "code",
   "execution_count": null,
   "metadata": {},
   "outputs": [],
   "source": [
    ">>> spark.sql(\"select date_format(order_date,'yyyy-MM') from ordersvw\").show()"
   ]
  },
  {
   "cell_type": "raw",
   "metadata": {},
   "source": [
    "+---------------------------------------------------+\n",
    "|date_format(CAST(order_date AS TIMESTAMP), yyyy-MM)|\n",
    "+---------------------------------------------------+\n",
    "|                                            2013-07|\n",
    "|                                            2013-07|\n",
    "|                                            2013-07|\n",
    "|                                            2013-07|\n",
    "|                                            2013-07|\n",
    "|                                            2013-07|"
   ]
  },
  {
   "cell_type": "code",
   "execution_count": null,
   "metadata": {},
   "outputs": [],
   "source": [
    ">>> spark.sql(\"select date_format(order_date,'dd') from ordersvw\").show()"
   ]
  },
  {
   "cell_type": "raw",
   "metadata": {},
   "source": [
    "+----------------------------------------------+\n",
    "|date_format(CAST(order_date AS TIMESTAMP), dd)|\n",
    "+----------------------------------------------+\n",
    "|                                            25|\n",
    "|                                            25|\n",
    "|                                            25|\n",
    "|                                            25|"
   ]
  },
  {
   "cell_type": "code",
   "execution_count": null,
   "metadata": {},
   "outputs": [],
   "source": [
    ">>> spark.sql(\"select * from ordersvw where date_format(order_date,'dd') = '01'\").show()"
   ]
  },
  {
   "cell_type": "raw",
   "metadata": {},
   "source": [
    "+--------+--------------------+-------------+---------------+\n",
    "|order_id|          order_date|order_cust_id|   order_status|\n",
    "+--------+--------------------+-------------+---------------+\n",
    "|    1297|2013-08-01 00:00:...|        11607|       COMPLETE|\n",
    "|    1298|2013-08-01 00:00:...|         5105|         CLOSED|\n",
    "|    1299|2013-08-01 00:00:...|         7802|       COMPLETE|\n",
    "|    1300|2013-08-01 00:00:...|          553|PENDING_PAYMENT|\n",
    "|    1301|2013-08-01 00:00:...|         1604|PENDING_PAYMENT|"
   ]
  },
  {
   "cell_type": "code",
   "execution_count": null,
   "metadata": {},
   "outputs": [],
   "source": [
    ">>> spark.sql(\"select distinct(count(order_date)) from ordersvw where date_format(order_date,'dd') = '01'\").show()"
   ]
  },
  {
   "cell_type": "raw",
   "metadata": {},
   "source": [
    "+-----------------+\n",
    "|count(order_date)|\n",
    "+-----------------+\n",
    "|             2349|\n",
    "+-----------------+"
   ]
  },
  {
   "cell_type": "code",
   "execution_count": null,
   "metadata": {},
   "outputs": [],
   "source": [
    ">>> spark.sql(\"select * from ordersvw where date_format(order_date,'dd') = '01'\").distinct().count()"
   ]
  },
  {
   "cell_type": "code",
   "execution_count": null,
   "metadata": {},
   "outputs": [],
   "source": [
    ">>> spark.sql(\"select distinct(order_date) from ordersvw where date_format(order_date,'dd') = '01'\")\n",
    "DataFrame[order_date: string]"
   ]
  },
  {
   "cell_type": "code",
   "execution_count": null,
   "metadata": {},
   "outputs": [],
   "source": [
    ">>> spark.sql(\"select distinct(order_date) from ordersvw where date_format(order_date,'dd') = '01'\").show()"
   ]
  },
  {
   "cell_type": "raw",
   "metadata": {},
   "source": [
    "+--------------------+ \n",
    "|          order_date|\n",
    "+--------------------+\n",
    "|2014-07-01 00:00:...|\n",
    "|2013-08-01 00:00:...|\n",
    "|2014-03-01 00:00:...|\n",
    "|2014-01-01 00:00:...|"
   ]
  },
  {
   "cell_type": "markdown",
   "metadata": {},
   "source": [
    "<p style=\"background:#AED6F1\"><b>Joining multiple Data Frames</p>"
   ]
  },
  {
   "cell_type": "markdown",
   "metadata": {},
   "source": [
    "<p style=\"background:#F1C40F\"><b>NOTE : Examples to understand Joins in DF </b></p>"
   ]
  },
  {
   "cell_type": "code",
   "execution_count": null,
   "metadata": {},
   "outputs": [],
   "source": [
    ">>> orders = spark.read.csv('/public/retail_db/orders', \n",
    "            schema='order_id int, order_date string, order_cust_id int, order_status string')"
   ]
  },
  {
   "cell_type": "code",
   "execution_count": null,
   "metadata": {},
   "outputs": [],
   "source": [
    ">>> orderItems = spark.read. \\\n",
    "...  format('csv'). \\\n",
    "...  schema('''order_item_id int,\n",
    "...  oi_order_id int,\n",
    "...  oi_product_id int,\n",
    "...  oi_qty int,\n",
    "...  oi_subtotal float,\n",
    "...  oi_product_price float'''). \\\n",
    "...  load('/public/retail_db/order_items')"
   ]
  },
  {
   "cell_type": "markdown",
   "metadata": {},
   "source": [
    "<p style=\"background:#F1C40F\">Get all the order items corresponding to COMPLETE OR CLOSED orders.</p>"
   ]
  },
  {
   "cell_type": "code",
   "execution_count": null,
   "metadata": {},
   "outputs": [],
   "source": [
    ">>> ordersFiltered = orders.where(\"order_status in ('COMPLETE','CLOSED')\")"
   ]
  },
  {
   "cell_type": "code",
   "execution_count": null,
   "metadata": {},
   "outputs": [],
   "source": [
    ">>> ordersFiltered.show()"
   ]
  },
  {
   "cell_type": "raw",
   "metadata": {},
   "source": [
    "+--------+--------------------+-------------+------------+\n",
    "|order_id|          order_date|order_cust_id|order_status|\n",
    "+--------+--------------------+-------------+------------+\n",
    "|       1|2013-07-25 00:00:...|        11599|      CLOSED|\n",
    "|       3|2013-07-25 00:00:...|        12111|    COMPLETE|\n",
    "|       4|2013-07-25 00:00:...|         8827|      CLOSED|\n",
    "|       5|2013-07-25 00:00:...|        11318|    COMPLETE|\n",
    "|       6|2013-07-25 00:00:...|         7130|    COMPLETE|"
   ]
  },
  {
   "cell_type": "code",
   "execution_count": null,
   "metadata": {},
   "outputs": [],
   "source": [
    ">>> ordersJoin = ordersFiltered. \\\n",
    "... join(orderItems, ordersFiltered.order_id == orderItems.order_id, 'inner')"
   ]
  },
  {
   "cell_type": "code",
   "execution_count": null,
   "metadata": {},
   "outputs": [],
   "source": [
    ">>> type(ordersJoin)"
   ]
  },
  {
   "cell_type": "raw",
   "metadata": {},
   "source": [
    "<class 'pyspark.sql.dataframe.DataFrame'>"
   ]
  },
  {
   "cell_type": "code",
   "execution_count": null,
   "metadata": {},
   "outputs": [],
   "source": [
    ">>> ordersJoin.show()"
   ]
  },
  {
   "cell_type": "raw",
   "metadata": {},
   "source": [
    "+--------+--------------------+-------------+------------+-------------+--------+----------+---+--------+-------------+\n",
    "|order_id|          order_date|order_cust_id|order_status|order_item_id|oi_order_id|oi_product_id|oi_qty|oi_subtotal|oi_product_price|\n",
    "+--------+--------------------+-------------+------------+-------------+--------+----------+---+--------+-------------+\n",
    "|       1|2013-07-25 00:00:...|        11599|      CLOSED|            1|       1|       957|  1|  299.98|       299.98|\n",
    "|       4|2013-07-25 00:00:...|         8827|      CLOSED|            5|       4|       897|  2|   49.98|        24.99|\n",
    "|       4|2013-07-25 00:00:...|         8827|      CLOSED|            6|       4|       365|  5|  299.95|        59.99|\n",
    "|       4|2013-07-25 00:00:...|         8827|      CLOSED|            7|       4|       502|  3|   150.0|         50.0|\n",
    "|       4|2013-07-25 00:00:...|         8827|      CLOSED|            8|       4|      1014|  4|  199.92|        49.98|\n",
    "|       5|2013-07-25 00:00:...|        11318|    COMPLETE|            9|       5|       957|  1|  299.98|       299.98|\n",
    "|       5|2013-07-25 00:00:...|        11318|    COMPLETE|           10|       5|       365|  5|  299.95|        59.99|"
   ]
  },
  {
   "cell_type": "markdown",
   "metadata": {},
   "source": [
    "<p style=\"background:#F1C40F\">Get all the orders where there are no corresponding order items.</p>"
   ]
  },
  {
   "cell_type": "code",
   "execution_count": null,
   "metadata": {},
   "outputs": [],
   "source": [
    ">>> orders.select('order_id').distinct().count()\n",
    "68883 "
   ]
  },
  {
   "cell_type": "code",
   "execution_count": null,
   "metadata": {},
   "outputs": [],
   "source": [
    ">>> orderItems.select('order_id').distinct().count()\n",
    "57431"
   ]
  },
  {
   "cell_type": "code",
   "execution_count": null,
   "metadata": {},
   "outputs": [],
   "source": [
    ">>> orderLeftOuterJoin = orders.join(orderItems,\n",
    "... orders.order_id == orderItems.order_id,\n",
    "... 'left')"
   ]
  },
  {
   "cell_type": "code",
   "execution_count": null,
   "metadata": {},
   "outputs": [],
   "source": [
    ">>> orderLeftOuterJoin.printSchema()"
   ]
  },
  {
   "cell_type": "raw",
   "metadata": {},
   "source": [
    "root\n",
    " |-- order_id: integer (nullable = true)\n",
    " |-- order_date: string (nullable = true)\n",
    " |-- order_cust_id: integer (nullable = true)\n",
    " |-- order_status: string (nullable = true)\n",
    " |-- order_item_id: integer (nullable = true)\n",
    " |-- oi_order_id: integer (nullable = true)\n",
    " |-- oi_product_id: integer (nullable = true)\n",
    " |-- oi_qty: integer (nullable = true)\n",
    " |-- oi_subtotal: float (nullable = true)\n",
    " |-- oi_product_price: float (nullable = true)\n"
   ]
  },
  {
   "cell_type": "code",
   "execution_count": null,
   "metadata": {},
   "outputs": [],
   "source": [
    ">>> orderLeftOuterJoin.show()"
   ]
  },
  {
   "cell_type": "raw",
   "metadata": {},
   "source": [
    "+--------+--------------------+-------------+---------------+-------------+--------+----------+----+--------+-------------+\n",
    "|order_id|          order_date|order_cust_id|   order_status|order_item_id|oi_order_id|oi_product_id| oi_qty|oi_subtotal|oi_product_price|\n",
    "+--------+--------------------+-------------+---------------+-------------+--------+----------+----+--------+-------------+\n",
    "|       1|2013-07-25 00:00:...|        11599|         CLOSED|            1|       1|       957|   1|  299.98|       299.98|\n",
    "|       2|2013-07-25 00:00:...|          256|PENDING_PAYMENT|            4|       2|       403|   1|  129.99|       129.99|\n",
    "|       2|2013-07-25 00:00:...|          256|PENDING_PAYMENT|            3|       2|       502|   5|   250.0|         50.0|\n",
    "|       2|2013-07-25 00:00:...|          256|PENDING_PAYMENT|            2|       2|      1073|   1|  199.99|       199.99|\n",
    "|       3|2013-07-25 00:00:...|        12111|       COMPLETE|         null|    null|      null|null|    null|         null|\n",
    "|       4|2013-07-25 00:00:...|         8827|         CLOSED|            8|       4|      1014|   4|  199.92|        49.98|\n",
    "|       4|2013-07-25 00:00:...|         8827|         CLOSED|            7|       4|       502|   3|   150.0|         50.0|\n"
   ]
  },
  {
   "cell_type": "code",
   "execution_count": null,
   "metadata": {},
   "outputs": [],
   "source": [
    ">>> orderLeftOuterJoin.count()\n",
    "183650"
   ]
  },
  {
   "cell_type": "code",
   "execution_count": null,
   "metadata": {},
   "outputs": [],
   "source": [
    ">>> ordersLeftOuterJoin.where(\"oi_order_id is null\")"
   ]
  },
  {
   "cell_type": "raw",
   "metadata": {},
   "source": [
    "DataFrame[order_id: int, order_date: string, order_cust_id: int, order_status: string, order_item_id: int, oi_order_id: int, oi_product_id: int, oi_qty: int, oi_subtotal: float, oi_product_price: float]"
   ]
  },
  {
   "cell_type": "code",
   "execution_count": null,
   "metadata": {},
   "outputs": [],
   "source": [
    ">>> ordersLeftOuterJoin.where(\"oi_order_id is null\").show()"
   ]
  },
  {
   "cell_type": "raw",
   "metadata": {},
   "source": [
    "+--------+--------------------+-------------+---------------+-------------+-----------+-------------+------+-----------+----------------+\n",
    "|order_id|          order_date|order_cust_id|   order_status|order_item_id|oi_order_id|oi_product_id|oi_qty|oi_subtotal|oi_product_price|\n",
    "+--------+--------------------+-------------+---------------+-------------+-----------+-------------+------+-----------+----------------+\n",
    "|       3|2013-07-25 00:00:...|        12111|       COMPLETE|         null|       null|         null|  null|       null|            null|\n",
    "|       6|2013-07-25 00:00:...|         7130|       COMPLETE|         null|       null|         null|  null|       null|            null|\n",
    "|      22|2013-07-25 00:00:...|          333|       COMPLETE|         null|       null|         null|  null|       null|            null|\n",
    "|      26|2013-07-25 00:00:...|         7562|       COMPLETE|         null|       null|         null|  null|       null|            null|\n",
    "|      32|2013-07-25 00:00:...|         3960|       COMPLETE|         null|       null|         null|  null|       null|            null|"
   ]
  },
  {
   "cell_type": "code",
   "execution_count": null,
   "metadata": {},
   "outputs": [],
   "source": [
    ">>> ordersLeftOuterJoin.where(\"oi_order_id is null\").count()\n",
    "11452"
   ]
  },
  {
   "cell_type": "markdown",
   "metadata": {},
   "source": [
    "<p style=\"background:#F1C40F\">Check if there are any order items where there is no corresponding data in orders data set.</p>"
   ]
  },
  {
   "cell_type": "code",
   "execution_count": null,
   "metadata": {},
   "outputs": [],
   "source": [
    ">>> ordersRightOuterJoin = orders.join(orderItems,\n",
    "... orders.order_id == orderItems.oi_order_id,\n",
    "... 'right')"
   ]
  },
  {
   "cell_type": "code",
   "execution_count": null,
   "metadata": {},
   "outputs": [],
   "source": [
    ">>> ordersRightOuterJoin.printSchema()"
   ]
  },
  {
   "cell_type": "raw",
   "metadata": {},
   "source": [
    "root\n",
    " |-- order_id: integer (nullable = true)\n",
    " |-- order_date: string (nullable = true)\n",
    " |-- order_cust_id: integer (nullable = true)\n",
    " |-- order_status: string (nullable = true)\n",
    " |-- order_item_id: integer (nullable = true)\n",
    " |-- oi_order_id: integer (nullable = true)\n",
    " |-- oi_product_id: integer (nullable = true)\n",
    " |-- oi_qty: integer (nullable = true)\n",
    " |-- oi_subtotal: float (nullable = true)\n",
    " |-- oi_product_price: float (nullable = true)"
   ]
  },
  {
   "cell_type": "code",
   "execution_count": null,
   "metadata": {},
   "outputs": [],
   "source": [
    ">>> ordersRightOuterJoin.show()"
   ]
  },
  {
   "cell_type": "raw",
   "metadata": {},
   "source": [
    "+--------+--------------------+-------------+---------------+-------------+-----------+-------------+------+-----------+----------------+\n",
    "|order_id|          order_date|order_cust_id|   order_status|order_item_id|oi_order_id|oi_product_id|oi_qty|oi_subtotal|oi_product_price|\n",
    "+--------+--------------------+-------------+---------------+-------------+-----------+-------------+------+-----------+----------------+\n",
    "|       1|2013-07-25 00:00:...|        11599|         CLOSED|            1|          1|          957|     1|     299.98|          299.98|\n",
    "|       2|2013-07-25 00:00:...|          256|PENDING_PAYMENT|            2|          2|         1073|     1|     199.99|          199.99|\n",
    "|       2|2013-07-25 00:00:...|          256|PENDING_PAYMENT|            3|          2|          502|     5|      250.0|            50.0|\n",
    "|       2|2013-07-25 00:00:...|          256|PENDING_PAYMENT|            4|          2|          403|     1|     129.99|          129.99|\n",
    "|       4|2013-07-25 00:00:...|         8827|         CLOSED|            5|          4|          897|     2|      49.98|           24.99|\n",
    "|       4|2013-07-25 00:00:...|         8827|         CLOSED|            6|          4|          365|     5|     299.95|           59.99|\n",
    "|       4|2013-07-25 00:00:...|         8827|         CLOSED|            7|          4|          502|     3|      150.0|            50.0|\n",
    "|       4|2013-07-25 00:00:...|         8827|         CLOSED|            8|          4|         1014|     4|     199.92|           49.98|\n",
    "|       5|2013-07-25 00:00:...|        11318|       COMPLETE|            9|          5|          957|     1|     299.98|          299.98|"
   ]
  },
  {
   "cell_type": "code",
   "execution_count": null,
   "metadata": {},
   "outputs": [],
   "source": [
    ">>> ordersRightOuterJoin.where(\"order_id is null\").show()"
   ]
  },
  {
   "cell_type": "raw",
   "metadata": {},
   "source": [
    "+--------+----------+-------------+------------+-------------+-----------+-------------+------+-----------+----------------+\n",
    "|order_id|order_date|order_cust_id|order_status|order_item_id|oi_order_id|oi_product_id|oi_qty|oi_subtotal|oi_product_price|\n",
    "+--------+----------+-------------+------------+-------------+-----------+-------------+------+-----------+----------------+\n",
    "+--------+----------+-------------+------------+-------------+-----------+-------------+------+-----------+----------------+"
   ]
  },
  {
   "cell_type": "markdown",
   "metadata": {},
   "source": [
    "<p style=\"background:#AED6F1\"><b>Perform Aggregations using Data Frames</p>"
   ]
  },
  {
   "cell_type": "code",
   "execution_count": null,
   "metadata": {},
   "outputs": [],
   "source": [
    ">>> orders = spark.read. \\\n",
    "... format('csv'). \\\n",
    "... schema('order_id int, order_date string, order_cus_id int, order_status string'). \\\n",
    "... load('/public/retail_db/orders')"
   ]
  },
  {
   "cell_type": "code",
   "execution_count": null,
   "metadata": {},
   "outputs": [],
   "source": [
    ">>> orders.printSchema()"
   ]
  },
  {
   "cell_type": "raw",
   "metadata": {},
   "source": [
    "root\n",
    " |-- order_id: integer (nullable = true)\n",
    " |-- order_date: string (nullable = true)\n",
    " |-- order_cus_id: integer (nullable = true)\n",
    " |-- order_status: string (nullable = true)\n"
   ]
  },
  {
   "cell_type": "code",
   "execution_count": null,
   "metadata": {},
   "outputs": [],
   "source": [
    ">>> orders.select('order_status').count()"
   ]
  },
  {
   "cell_type": "raw",
   "metadata": {},
   "source": [
    "68883"
   ]
  },
  {
   "cell_type": "code",
   "execution_count": null,
   "metadata": {},
   "outputs": [],
   "source": [
    ">>> orders.select('order_status').distinct().count()"
   ]
  },
  {
   "cell_type": "code",
   "execution_count": null,
   "metadata": {},
   "outputs": [],
   "source": [
    "9"
   ]
  },
  {
   "cell_type": "code",
   "execution_count": null,
   "metadata": {},
   "outputs": [],
   "source": [
    ">>> from pyspark.sql.functions import countDistinct"
   ]
  },
  {
   "cell_type": "code",
   "execution_count": null,
   "metadata": {},
   "outputs": [],
   "source": [
    ">>> orders.select(countDistinct('order_status')).show()"
   ]
  },
  {
   "cell_type": "raw",
   "metadata": {},
   "source": [
    "+----------------------------+\n",
    "|count(DISTINCT order_status)|\n",
    "+----------------------------+\n",
    "|                           9|\n",
    "+----------------------------+"
   ]
  },
  {
   "cell_type": "code",
   "execution_count": null,
   "metadata": {},
   "outputs": [],
   "source": [
    ">>> orders.select(countDistinct('order_status')).alias('order_status_count').show()"
   ]
  },
  {
   "cell_type": "raw",
   "metadata": {},
   "source": [
    "+----------------------------+\n",
    "|count(DISTINCT order_status)|\n",
    "+----------------------------+\n",
    "|                           9|\n",
    "+----------------------------+"
   ]
  },
  {
   "cell_type": "code",
   "execution_count": null,
   "metadata": {},
   "outputs": [],
   "source": [
    ">>> orders.select(countDistinct('order_status').alias('order_status_count')).show()"
   ]
  },
  {
   "cell_type": "raw",
   "metadata": {},
   "source": [
    "+----------------------------+\n",
    "|count(DISTINCT order_status)|\n",
    "+----------------------------+\n",
    "|                           9|\n",
    "+----------------------------+"
   ]
  },
  {
   "cell_type": "markdown",
   "metadata": {},
   "source": [
    "<p style=\"background:#F1C40F\"> Get count by status from orders.</p>"
   ]
  },
  {
   "cell_type": "code",
   "execution_count": null,
   "metadata": {},
   "outputs": [],
   "source": [
    ">>> orderItems = spark.read. \\\n",
    "...  format('csv'). \\\n",
    "...  schema('''order_item_id int,\n",
    "...  oi_order_id int,\n",
    "...  oi_product_id int,\n",
    "...  oi_qty int,\n",
    "...  oi_subtotal float,\n",
    "...  oi_product_price float'''). \\\n",
    "...  load('/public/retail_db/order_items')"
   ]
  },
  {
   "cell_type": "code",
   "execution_count": null,
   "metadata": {},
   "outputs": [],
   "source": [
    ">>> orders = spark.read.csv('/public/retail_db/orders', schema='order_id int, order_date string, order_cust_id int, order_status string') "
   ]
  },
  {
   "cell_type": "code",
   "execution_count": null,
   "metadata": {},
   "outputs": [],
   "source": [
    ">>> orders. \\\n",
    "... groupBy('order_status'). \\\n",
    "... count(). \\\n",
    "... show()"
   ]
  },
  {
   "cell_type": "raw",
   "metadata": {},
   "source": [
    "+---------------+-----+\n",
    "|   order_status|count|\n",
    "+---------------+-----+\n",
    "|PENDING_PAYMENT|15030|\n",
    "|       COMPLETE|22899|\n",
    "|        ON_HOLD| 3798|\n",
    "| PAYMENT_REVIEW|  729|\n",
    "|     PROCESSING| 8275|\n",
    "|         CLOSED| 7556|\n",
    "|SUSPECTED_FRAUD| 1558|\n",
    "|        PENDING| 7610|\n",
    "|       CANCELED| 1428|\n",
    "+---------------+-----+"
   ]
  },
  {
   "cell_type": "markdown",
   "metadata": {},
   "source": [
    "**Solution**"
   ]
  },
  {
   "cell_type": "code",
   "execution_count": null,
   "metadata": {},
   "outputs": [],
   "source": [
    ">>> from pyspark.sql.functions import count"
   ]
  },
  {
   "cell_type": "code",
   "execution_count": null,
   "metadata": {},
   "outputs": [],
   "source": [
    ">>> orders. \\\n",
    "... groupBy('order_status'). \\\n",
    "... agg(count('order_status').alias('order_status_count')). \\\n",
    "... show()"
   ]
  },
  {
   "cell_type": "raw",
   "metadata": {},
   "source": [
    "+---------------+------------------+\n",
    "|   order_status|order_status_count|\n",
    "+---------------+------------------+\n",
    "|PENDING_PAYMENT|             15030|\n",
    "|       COMPLETE|             22899|\n",
    "|        ON_HOLD|              3798|\n",
    "| PAYMENT_REVIEW|               729|\n",
    "|     PROCESSING|              8275|\n",
    "|         CLOSED|              7556|\n",
    "|SUSPECTED_FRAUD|              1558|\n",
    "|        PENDING|              7610|\n",
    "|       CANCELED|              1428|\n",
    "+---------------+------------------+"
   ]
  },
  {
   "cell_type": "markdown",
   "metadata": {},
   "source": [
    "<p style=\"background:#F1C40F\">Get revenue for each order id from order items.</p>"
   ]
  },
  {
   "cell_type": "code",
   "execution_count": null,
   "metadata": {},
   "outputs": [],
   "source": [
    ">>> orderItems = spark.read.csv('/public/retail_db/order_items', schema='oi_item_id int, oi_order_id int, oi_product_id int, oi_qty int, oi_subtotal float, oi_prod_price float')"
   ]
  },
  {
   "cell_type": "code",
   "execution_count": null,
   "metadata": {},
   "outputs": [],
   "source": [
    ">>> orderItems.printSchema()"
   ]
  },
  {
   "cell_type": "raw",
   "metadata": {},
   "source": [
    "root\n",
    " |-- oi_item_id: integer (nullable = true)\n",
    " |-- oi_order_id: integer (nullable = true)\n",
    " |-- oi_product_id: integer (nullable = true)\n",
    " |-- oi_qty: integer (nullable = true)\n",
    " |-- oi_subtotal: float (nullable = true)\n",
    " |-- oi_prod_price: float (nullable = true)"
   ]
  },
  {
   "cell_type": "code",
   "execution_count": null,
   "metadata": {},
   "outputs": [],
   "source": [
    ">>> orderItems.where('oi_order_id = 2').show()"
   ]
  },
  {
   "cell_type": "raw",
   "metadata": {},
   "source": [
    "+-------------+-----------+-------------+------+-----------+----------------+\n",
    "|order_item_id|oi_order_id|oi_product_id|oi_qty|oi_subtotal|oi_product_price|\n",
    "+-------------+-----------+-------------+------+-----------+----------------+\n",
    "|            2|          2|         1073|     1|     199.99|          199.99|\n",
    "|            3|          2|          502|     5|      250.0|            50.0|\n",
    "|            4|          2|          403|     1|     129.99|          129.99|\n",
    "+-------------+-----------+-------------+------+-----------+----------------+"
   ]
  },
  {
   "cell_type": "code",
   "execution_count": null,
   "metadata": {},
   "outputs": [],
   "source": [
    ">>> from pyspark.sql.functions import round"
   ]
  },
  {
   "cell_type": "code",
   "execution_count": null,
   "metadata": {},
   "outputs": [],
   "source": [
    ">>> orderItems.where('oi_order_id = 2'). \\\n",
    "... select(sum('oi_subtotal')).show()"
   ]
  },
  {
   "cell_type": "raw",
   "metadata": {},
   "source": [
    "+-----------------+\n",
    "| sum(oi_subtotal)|\n",
    "+-----------------+\n",
    "|579.9800109863281|\n",
    "+-----------------+"
   ]
  },
  {
   "cell_type": "code",
   "execution_count": null,
   "metadata": {},
   "outputs": [],
   "source": [
    ">>> orderItems.where('oi_order_id = 2'). \\\n",
    "... select(round(sum('oi_subtotal'), 2)).show()"
   ]
  },
  {
   "cell_type": "raw",
   "metadata": {},
   "source": [
    "+--------------------------+\n",
    "|round(sum(oi_subtotal), 2)|\n",
    "+--------------------------+\n",
    "|                    579.98|\n",
    "+--------------------------+"
   ]
  },
  {
   "cell_type": "markdown",
   "metadata": {},
   "source": [
    "**Solution**"
   ]
  },
  {
   "cell_type": "code",
   "execution_count": null,
   "metadata": {},
   "outputs": [],
   "source": [
    ">>> orderItems.groupBy('oi_order_id'). \\\n",
    "... sum('oi_subtotal').show()"
   ]
  },
  {
   "cell_type": "raw",
   "metadata": {},
   "source": [
    "+-----------+------------------+\n",
    "|oi_order_id|  sum(oi_subtotal)|\n",
    "+-----------+------------------+\n",
    "|        148|479.99000549316406|\n",
    "|        463| 829.9200096130371|\n",
    "|        471|169.98000717163086|\n",
    "|        496|  441.950008392334|"
   ]
  },
  {
   "cell_type": "code",
   "execution_count": null,
   "metadata": {},
   "outputs": [],
   "source": [
    "# got error\n",
    "\n",
    ">>> orderItems.groupBy('oi_order_id'). \\\n",
    "... round(sum('oi_subtotal'),2).show()\n",
    "\n",
    "\n",
    "Traceback (most recent call last):\n",
    "  File \"<stdin>\", line 1, in <module>\n",
    "AttributeError: 'GroupedData' object has no attribute 'round'"
   ]
  },
  {
   "cell_type": "code",
   "execution_count": null,
   "metadata": {},
   "outputs": [],
   "source": [
    ">>> orderItems.groupBy('oi_order_id'). \\\n",
    "... agg(round(sum('oi_subtotal'), 2).alias('order_revenue'))\n",
    "\n",
    "DataFrame[oi_order_id: int, order_revenue: double]"
   ]
  },
  {
   "cell_type": "code",
   "execution_count": null,
   "metadata": {},
   "outputs": [],
   "source": [
    ">>> orderItems.groupBy('oi_order_id'). \\\n",
    "... agg(round(sum('oi_subtotal'), 2).alias('order_revenue')).show()"
   ]
  },
  {
   "cell_type": "raw",
   "metadata": {},
   "source": [
    "+-----------+-------------+\n",
    "|oi_order_id|order_revenue|\n",
    "+-----------+-------------+\n",
    "|      61793|      1299.87|\n",
    "|      62015|      1139.88|\n",
    "|      62680|       379.96|\n",
    "|      62985|        249.9|\n",
    "|      63087|       349.96|\n",
    "|      63106|      1299.91|"
   ]
  },
  {
   "cell_type": "markdown",
   "metadata": {},
   "source": [
    "<p style=\"background:#F1C40F\">Get daily product revenue (order_date and order_item_product_id are part of keys, order_item_subtotal to be used for aggregation).</p>"
   ]
  },
  {
   "cell_type": "code",
   "execution_count": null,
   "metadata": {},
   "outputs": [],
   "source": [
    ">>> ordersJoin = orders.join(orderItems, orders.order_id == orderItems.oi_order_id)"
   ]
  },
  {
   "cell_type": "code",
   "execution_count": null,
   "metadata": {},
   "outputs": [],
   "source": [
    ">>> ordersJoin.printSchema()"
   ]
  },
  {
   "cell_type": "raw",
   "metadata": {},
   "source": [
    "root\n",
    " |-- order_id: integer (nullable = true)\n",
    " |-- order_date: string (nullable = true)\n",
    " |-- order_cust_id: integer (nullable = true)\n",
    " |-- order_status: string (nullable = true)\n",
    " |-- order_item_id: integer (nullable = true)\n",
    " |-- oi_order_id: integer (nullable = true)\n",
    " |-- oi_product_id: integer (nullable = true)\n",
    " |-- oi_qty: integer (nullable = true)\n",
    " |-- oi_subtotal: float (nullable = true)\n",
    " |-- oi_product_price: float (nullable = true)"
   ]
  },
  {
   "cell_type": "code",
   "execution_count": null,
   "metadata": {},
   "outputs": [],
   "source": [
    ">>> from pyspark.sql.functions import round, sum"
   ]
  },
  {
   "cell_type": "code",
   "execution_count": null,
   "metadata": {},
   "outputs": [],
   "source": [
    ">>> ordersJoin. \\\n",
    "... groupBy('order_date', 'oi_product_id'). \\\n",
    "... agg(round(sum('oi_subtotal'), 2).alias('productRevenue')). \\\n",
    "... show()"
   ]
  },
  {
   "cell_type": "raw",
   "metadata": {},
   "source": [
    "+--------------------+-------------+--------------+\n",
    "|          order_date|oi_product_id|productRevenue|\n",
    "+--------------------+-------------+--------------+\n",
    "|2013-07-27 00:00:...|          703|         99.95|\n",
    "|2013-07-29 00:00:...|          793|         44.97|\n",
    "|2013-08-04 00:00:...|          825|         95.97|\n",
    "|2013-08-06 00:00:...|           93|         24.99|\n",
    "|2013-08-12 00:00:...|          627|       5358.66|"
   ]
  },
  {
   "cell_type": "code",
   "execution_count": null,
   "metadata": {},
   "outputs": [],
   "source": [
    ">>> ordersJoin. \\\n",
    "... groupBy('order_date', 'oi_product_id'). \\\n",
    "... agg(round(sum('oi_subtotal'), 2).alias('productRevenue')). \\\n",
    "... count()\n",
    " "
   ]
  },
  {
   "cell_type": "raw",
   "metadata": {},
   "source": [
    "14344"
   ]
  },
  {
   "cell_type": "markdown",
   "metadata": {},
   "source": [
    "<p style=\"background:#AED6F1\"><b>Sorting Data in Data Frames</p>"
   ]
  },
  {
   "cell_type": "code",
   "execution_count": null,
   "metadata": {},
   "outputs": [],
   "source": [
    ">>> orders = spark.read.csv('/public/retail_db/orders', schema='order_id int, order_date string, order_cust_id int, order_status string') "
   ]
  },
  {
   "cell_type": "code",
   "execution_count": null,
   "metadata": {},
   "outputs": [],
   "source": [
    ">>> orderItems = spark.read. \\\n",
    "...  format('csv'). \\\n",
    "...  schema('''order_item_id int,\n",
    "...  oi_order_id int,\n",
    "...  oi_product_id int,\n",
    "...  oi_qty int,\n",
    "...  oi_subtotal float,\n",
    "...  oi_product_price float'''). \\\n",
    "...  load('/public/retail_db/order_items')"
   ]
  },
  {
   "cell_type": "code",
   "execution_count": null,
   "metadata": {},
   "outputs": [],
   "source": [
    ">>> orders.count()\n",
    "68883"
   ]
  },
  {
   "cell_type": "code",
   "execution_count": null,
   "metadata": {},
   "outputs": [],
   "source": [
    ">>> orders.sort('order_date').show()\n"
   ]
  },
  {
   "cell_type": "raw",
   "metadata": {},
   "source": [
    "+--------+--------------------+-------------+---------------+\n",
    "|order_id|          order_date|order_cust_id|   order_status|\n",
    "+--------+--------------------+-------------+---------------+\n",
    "|       1|2013-07-25 00:00:...|        11599|         CLOSED|\n",
    "|       2|2013-07-25 00:00:...|          256|PENDING_PAYMENT|\n",
    "|       3|2013-07-25 00:00:...|        12111|       COMPLETE|\n",
    "|       4|2013-07-25 00:00:...|         8827|         CLOSED|\n",
    "|       5|2013-07-25 00:00:...|        11318|       COMPLETE|\n",
    "|       6|2013-07-25 00:00:...|         7130|       COMPLETE|\n",
    "|       7|2013-07-25 00:00:...|         4530|       COMPLETE|\n",
    "|       8|2013-07-25 00:00:...|         2911|     PROCESSING|\n",
    "|       9|2013-07-25 00:00:...|         5657|PENDING_PAYMENT|\n",
    "|      10|2013-07-25 00:00:...|         5648|PENDING_PAYMENT|\n",
    "|      11|2013-07-25 00:00:...|          918| PAYMENT_REVIEW|\n",
    "|      12|2013-07-25 00:00:...|         1837|         CLOSED|\n",
    "|      13|2013-07-25 00:00:...|         9149|PENDING_PAYMENT|\n",
    "|      14|2013-07-25 00:00:...|         9842|     PROCESSING|\n",
    "|      15|2013-07-25 00:00:...|         2568|       COMPLETE|\n",
    "|      16|2013-07-25 00:00:...|         7276|PENDING_PAYMENT|\n",
    "|      17|2013-07-25 00:00:...|         2667|       COMPLETE|\n",
    "|      18|2013-07-25 00:00:...|         1205|         CLOSED|\n",
    "|      19|2013-07-25 00:00:...|         9488|PENDING_PAYMENT|\n",
    "|      20|2013-07-25 00:00:...|         9198|     PROCESSING|\n",
    "+--------+--------------------+-------------+---------------+\n",
    "only showing top 20 rows\n"
   ]
  },
  {
   "cell_type": "code",
   "execution_count": null,
   "metadata": {},
   "outputs": [],
   "source": [
    ">>> orders.sort('order_date', 'order_cust_id').show()"
   ]
  },
  {
   "cell_type": "raw",
   "metadata": {},
   "source": [
    "+--------+--------------------+-------------+---------------+\n",
    "|order_id|          order_date|order_cust_id|   order_status|\n",
    "+--------+--------------------+-------------+---------------+\n",
    "|   57762|2013-07-25 00:00:...|          192|       COMPLETE|\n",
    "|      29|2013-07-25 00:00:...|          196|     PROCESSING|\n",
    "|   57759|2013-07-25 00:00:...|          216|        ON_HOLD|\n",
    "|       2|2013-07-25 00:00:...|          256|PENDING_PAYMENT|\n",
    "|   57782|2013-07-25 00:00:...|          284|         CLOSED|\n",
    "|      22|2013-07-25 00:00:...|          333|       COMPLETE|\n",
    "|      28|2013-07-25 00:00:...|          656|       COMPLETE|\n",
    "|      74|2013-07-25 00:00:...|          662|PENDING_PAYMENT|\n",
    "|      81|2013-07-25 00:00:...|          674|     PROCESSING|\n",
    "|      89|2013-07-25 00:00:...|          824|        ON_HOLD|\n",
    "|      11|2013-07-25 00:00:...|          918| PAYMENT_REVIEW|\n",
    "|   57778|2013-07-25 00:00:...|         1143|        PENDING|\n",
    "|      63|2013-07-25 00:00:...|         1148|       COMPLETE|\n",
    "|      18|2013-07-25 00:00:...|         1205|         CLOSED|\n",
    "|      83|2013-07-25 00:00:...|         1265|       COMPLETE|\n",
    "|   57767|2013-07-25 00:00:...|         1338|PENDING_PAYMENT|\n",
    "|      67|2013-07-25 00:00:...|         1406|       COMPLETE|\n",
    "|      85|2013-07-25 00:00:...|         1485|        PENDING|\n",
    "|      46|2013-07-25 00:00:...|         1549|        ON_HOLD|\n",
    "|   57764|2013-07-25 00:00:...|         1763|       COMPLETE|\n",
    "+--------+--------------------+-------------+---------------+\n",
    "only showing top 20 rows"
   ]
  },
  {
   "cell_type": "code",
   "execution_count": null,
   "metadata": {},
   "outputs": [],
   "source": [
    ">>> orders.sort(['order_date', 'order_cust_id'], ascending=[0, 1]).show()"
   ]
  },
  {
   "cell_type": "raw",
   "metadata": {},
   "source": [
    "+--------+--------------------+-------------+---------------+\n",
    "|order_id|          order_date|order_cust_id|   order_status|\n",
    "+--------+--------------------+-------------+---------------+\n",
    "|   57617|2014-07-24 00:00:...|            3|       COMPLETE|\n",
    "|   57733|2014-07-24 00:00:...|           17|         CLOSED|\n",
    "|   57684|2014-07-24 00:00:...|           98|       COMPLETE|\n",
    "|   57695|2014-07-24 00:00:...|          112|       COMPLETE|\n",
    "|   57598|2014-07-24 00:00:...|          138|        PENDING|\n",
    "|   57715|2014-07-24 00:00:...|          243|PENDING_PAYMENT|\n",
    "|   67396|2014-07-24 00:00:...|          282|PENDING_PAYMENT|\n",
    "|   67406|2014-07-24 00:00:...|          476|       COMPLETE|\n",
    "|   67393|2014-07-24 00:00:...|          585|     PROCESSING|\n",
    "|   57675|2014-07-24 00:00:...|          595|PENDING_PAYMENT|\n",
    "|   57729|2014-07-24 00:00:...|          611|PENDING_PAYMENT|\n",
    "|   57658|2014-07-24 00:00:...|          629|PENDING_PAYMENT|\n",
    "|   57696|2014-07-24 00:00:...|          656|PENDING_PAYMENT|\n",
    "|   57749|2014-07-24 00:00:...|          666|         CLOSED|\n",
    "|   57728|2014-07-24 00:00:...|          822|         CLOSED|\n",
    "|   57680|2014-07-24 00:00:...|         1000|         CLOSED|\n",
    "|   57601|2014-07-24 00:00:...|         1046|        ON_HOLD|\n",
    "|   67408|2014-07-24 00:00:...|         1150|     PROCESSING|\n",
    "|   57748|2014-07-24 00:00:...|         1167|       COMPLETE|\n",
    "|   57636|2014-07-24 00:00:...|         1211|        PENDING|\n",
    "+--------+--------------------+-------------+---------------+\n",
    "only showing top 20 rows"
   ]
  },
  {
   "cell_type": "code",
   "execution_count": null,
   "metadata": {},
   "outputs": [],
   "source": [
    ">>> orders.sort(['order_date', 'order_cust_id'], ascending=[1, 0]).show()"
   ]
  },
  {
   "cell_type": "raw",
   "metadata": {},
   "source": [
    "+--------+--------------------+-------------+---------------+\n",
    "|order_id|          order_date|order_cust_id|   order_status|\n",
    "+--------+--------------------+-------------+---------------+\n",
    "|   57785|2013-07-25 00:00:...|        12347|     PROCESSING|\n",
    "|   57787|2013-07-25 00:00:...|        12294|PENDING_PAYMENT|\n",
    "|      51|2013-07-25 00:00:...|        12271|         CLOSED|\n",
    "|     103|2013-07-25 00:00:...|        12256|     PROCESSING|\n",
    "|      48|2013-07-25 00:00:...|        12186|     PROCESSING|\n",
    "|     100|2013-07-25 00:00:...|        12131|     PROCESSING|\n",
    "|       3|2013-07-25 00:00:...|        12111|       COMPLETE|\n",
    "|      40|2013-07-25 00:00:...|        12092|PENDING_PAYMENT|\n",
    "|   57779|2013-07-25 00:00:...|        11941|       COMPLETE|\n",
    "|      70|2013-07-25 00:00:...|        11809|PENDING_PAYMENT|\n",
    "|      59|2013-07-25 00:00:...|        11644|PENDING_PAYMENT|\n",
    "|       1|2013-07-25 00:00:...|        11599|         CLOSED|\n",
    "|      94|2013-07-25 00:00:...|        11589|     PROCESSING|\n",
    "|      38|2013-07-25 00:00:...|        11586|     PROCESSING|\n",
    "|      99|2013-07-25 00:00:...|        11542|PENDING_PAYMENT|\n",
    "|      24|2013-07-25 00:00:...|        11441|         CLOSED|\n",
    "|       5|2013-07-25 00:00:...|        11318|       COMPLETE|\n",
    "|   57774|2013-07-25 00:00:...|        11196|PENDING_PAYMENT|\n",
    "|   67416|2013-07-25 00:00:...|        10920|         CLOSED|\n",
    "|      97|2013-07-25 00:00:...|        10784|        PENDING|\n",
    "+--------+--------------------+-------------+---------------+\n",
    "only showing top 20 rows"
   ]
  },
  {
   "cell_type": "code",
   "execution_count": null,
   "metadata": {},
   "outputs": [],
   "source": [
    ">>> orders.sort('order_date', orders.order_cust_id.desc()).show()"
   ]
  },
  {
   "cell_type": "raw",
   "metadata": {},
   "source": [
    "+--------+--------------------+-------------+---------------+\n",
    "|order_id|          order_date|order_cust_id|   order_status|\n",
    "+--------+--------------------+-------------+---------------+\n",
    "|   57785|2013-07-25 00:00:...|        12347|     PROCESSING|\n",
    "|   57787|2013-07-25 00:00:...|        12294|PENDING_PAYMENT|\n",
    "|      51|2013-07-25 00:00:...|        12271|         CLOSED|\n",
    "|     103|2013-07-25 00:00:...|        12256|     PROCESSING|\n",
    "|      48|2013-07-25 00:00:...|        12186|     PROCESSING|\n",
    "|     100|2013-07-25 00:00:...|        12131|     PROCESSING|\n",
    "|       3|2013-07-25 00:00:...|        12111|       COMPLETE|\n",
    "|      40|2013-07-25 00:00:...|        12092|PENDING_PAYMENT|"
   ]
  },
  {
   "cell_type": "code",
   "execution_count": null,
   "metadata": {},
   "outputs": [],
   "source": [
    ">>> orders.sort(orders.order_date.asc(), orders.order_cust_id.desc()).show()"
   ]
  },
  {
   "cell_type": "raw",
   "metadata": {},
   "source": [
    "+--------+--------------------+-------------+---------------+\n",
    "|order_id|          order_date|order_cust_id|   order_status|\n",
    "+--------+--------------------+-------------+---------------+\n",
    "|   57785|2013-07-25 00:00:...|        12347|     PROCESSING|\n",
    "|   57787|2013-07-25 00:00:...|        12294|PENDING_PAYMENT|\n",
    "|      51|2013-07-25 00:00:...|        12271|         CLOSED|\n",
    "|     103|2013-07-25 00:00:...|        12256|     PROCESSING|\n",
    "|      48|2013-07-25 00:00:...|        12186|     PROCESSING|\n",
    "|     100|2013-07-25 00:00:...|        12131|     PROCESSING|"
   ]
  },
  {
   "cell_type": "markdown",
   "metadata": {},
   "source": [
    "<p style=\"background:#F1C40F\">Sort orders by order status.</p>"
   ]
  },
  {
   "cell_type": "code",
   "execution_count": null,
   "metadata": {},
   "outputs": [],
   "source": [
    ">>> orders.sort('order_status').show()"
   ]
  },
  {
   "cell_type": "raw",
   "metadata": {},
   "source": [
    "+--------+--------------------+-------------+------------+                      \n",
    "|order_id|          order_date|order_cust_id|order_status|\n",
    "+--------+--------------------+-------------+------------+\n",
    "|     527|2013-07-28 00:00:...|         5426|    CANCELED|\n",
    "|    1435|2013-08-01 00:00:...|         1879|    CANCELED|\n",
    "|     552|2013-07-28 00:00:...|         1445|    CANCELED|\n",
    "|     112|2013-07-26 00:00:...|         5375|    CANCELED|\n",
    "|     564|2013-07-28 00:00:...|         2216|    CANCELED|\n",
    "|     955|2013-07-30 00:00:...|         8117|    CANCELED|\n",
    "|    1383|2013-08-01 00:00:...|         1753|    CANCELED|\n",
    "|     962|2013-07-30 00:00:...|         9492|    CANCELED|\n",
    "|     607|2013-07-28 00:00:...|         6376|    CANCELED|\n",
    "|    1013|2013-07-30 00:00:...|         1903|    CANCELED|\n",
    "|     667|2013-07-28 00:00:...|         4726|    CANCELED|\n",
    "|    1169|2013-07-31 00:00:...|         3971|    CANCELED|\n",
    "|     717|2013-07-29 00:00:...|         8208|    CANCELED|\n",
    "|    1186|2013-07-31 00:00:...|        11947|    CANCELED|\n",
    "|     753|2013-07-29 00:00:...|         5094|    CANCELED|\n",
    "|    1190|2013-07-31 00:00:...|        12360|    CANCELED|\n",
    "|      50|2013-07-25 00:00:...|         5225|    CANCELED|\n",
    "|    1313|2013-08-01 00:00:...|         3471|    CANCELED|\n",
    "|     716|2013-07-29 00:00:...|         2581|    CANCELED|\n",
    "|    1365|2013-08-01 00:00:...|         8567|    CANCELED|\n",
    "+--------+--------------------+-------------+------------+\n",
    "only showing top 20 rows"
   ]
  },
  {
   "cell_type": "code",
   "execution_count": null,
   "metadata": {},
   "outputs": [],
   "source": []
  },
  {
   "cell_type": "markdown",
   "metadata": {},
   "source": [
    "<p style=\"background:#F1C40F\">Sort orders by date and then status.</p>"
   ]
  },
  {
   "cell_type": "code",
   "execution_count": null,
   "metadata": {},
   "outputs": [],
   "source": [
    ">>> orders.sort('order_date', 'order_status').show()"
   ]
  },
  {
   "cell_type": "raw",
   "metadata": {},
   "source": [
    "+--------+--------------------+-------------+------------+\n",
    "|order_id|          order_date|order_cust_id|order_status|\n",
    "+--------+--------------------+-------------+------------+\n",
    "|      50|2013-07-25 00:00:...|         5225|    CANCELED|\n",
    "|       1|2013-07-25 00:00:...|        11599|      CLOSED|\n",
    "|      12|2013-07-25 00:00:...|         1837|      CLOSED|\n",
    "|       4|2013-07-25 00:00:...|         8827|      CLOSED|\n",
    "|      37|2013-07-25 00:00:...|         5863|      CLOSED|\n",
    "|      18|2013-07-25 00:00:...|         1205|      CLOSED|\n",
    "|      24|2013-07-25 00:00:...|        11441|      CLOSED|\n",
    "|      25|2013-07-25 00:00:...|         9503|      CLOSED|\n",
    "|   57754|2013-07-25 00:00:...|         4648|      CLOSED|\n",
    "|      90|2013-07-25 00:00:...|         9131|      CLOSED|\n",
    "|      51|2013-07-25 00:00:...|        12271|      CLOSED|\n",
    "|      57|2013-07-25 00:00:...|         7073|      CLOSED|\n",
    "|      61|2013-07-25 00:00:...|         4791|      CLOSED|\n",
    "|      62|2013-07-25 00:00:...|         9111|      CLOSED|\n",
    "|      87|2013-07-25 00:00:...|         3065|      CLOSED|\n",
    "|     101|2013-07-25 00:00:...|         5116|      CLOSED|\n",
    "|   57766|2013-07-25 00:00:...|         2376|      CLOSED|\n",
    "|   57781|2013-07-25 00:00:...|         6143|      CLOSED|\n",
    "|   57782|2013-07-25 00:00:...|          284|      CLOSED|\n",
    "|   67416|2013-07-25 00:00:...|        10920|      CLOSED|\n",
    "+--------+--------------------+-------------+------------+\n",
    "only showing top 20 rows"
   ]
  },
  {
   "cell_type": "code",
   "execution_count": null,
   "metadata": {},
   "outputs": [],
   "source": []
  },
  {
   "cell_type": "markdown",
   "metadata": {},
   "source": [
    "<p style=\"background:#F1C40F\">Sort order items by order id and subtotal in descending order.</p>"
   ]
  },
  {
   "cell_type": "code",
   "execution_count": null,
   "metadata": {},
   "outputs": [],
   "source": [
    ">>> orderItems.sort(['oi_order_id', 'oi_subtotal'], ascending=[1,0]).show()"
   ]
  },
  {
   "cell_type": "raw",
   "metadata": {},
   "source": [
    "+-------------+-----------+-------------+------+-----------+----------------+\n",
    "|order_item_id|oi_order_id|oi_product_id|oi_qty|oi_subtotal|oi_product_price|\n",
    "+-------------+-----------+-------------+------+-----------+----------------+\n",
    "|            1|          1|          957|     1|     299.98|          299.98|\n",
    "|            3|          2|          502|     5|      250.0|            50.0|\n",
    "|            2|          2|         1073|     1|     199.99|          199.99|\n",
    "|            4|          2|          403|     1|     129.99|          129.99|\n",
    "|            6|          4|          365|     5|     299.95|           59.99|\n",
    "|            8|          4|         1014|     4|     199.92|           49.98|\n",
    "|            7|          4|          502|     3|      150.0|            50.0|\n",
    "|            5|          4|          897|     2|      49.98|           24.99|\n",
    "|            9|          5|          957|     1|     299.98|          299.98|\n",
    "|           12|          5|          957|     1|     299.98|          299.98|\n",
    "|           10|          5|          365|     5|     299.95|           59.99|\n",
    "|           13|          5|          403|     1|     129.99|          129.99|\n",
    "|           11|          5|         1014|     2|      99.96|           49.98|\n",
    "|           15|          7|          957|     1|     299.98|          299.98|\n",
    "|           14|          7|         1073|     1|     199.99|          199.99|\n",
    "|           16|          7|          926|     5|      79.95|           15.99|\n",
    "|           18|          8|          365|     5|     299.95|           59.99|\n",
    "|           19|          8|         1014|     4|     199.92|           49.98|\n",
    "|           17|          8|          365|     3|     179.97|           59.99|\n",
    "|           20|          8|          502|     1|       50.0|            50.0|\n",
    "+-------------+-----------+-------------+------+-----------+----------------+\n",
    "only showing top 20 rows"
   ]
  },
  {
   "cell_type": "code",
   "execution_count": null,
   "metadata": {},
   "outputs": [],
   "source": [
    ">>> orderItems.sort('oi_order_id', orderItems.oi_subtotal.desc()).show()"
   ]
  },
  {
   "cell_type": "raw",
   "metadata": {},
   "source": [
    "+-------------+-----------+-------------+------+-----------+----------------+\n",
    "|order_item_id|oi_order_id|oi_product_id|oi_qty|oi_subtotal|oi_product_price|\n",
    "+-------------+-----------+-------------+------+-----------+----------------+\n",
    "|            1|          1|          957|     1|     299.98|          299.98|\n",
    "|            3|          2|          502|     5|      250.0|            50.0|\n",
    "|            2|          2|         1073|     1|     199.99|          199.99|\n",
    "|            4|          2|          403|     1|     129.99|          129.99|\n",
    "|            6|          4|          365|     5|     299.95|           59.99|\n",
    "|            8|          4|         1014|     4|     199.92|           49.98|\n",
    "|            7|          4|          502|     3|      150.0|            50.0|\n",
    "|            5|          4|          897|     2|      49.98|           24.99|\n",
    "|            9|          5|          957|     1|     299.98|          299.98|\n",
    "|           12|          5|          957|     1|     299.98|          299.98|\n",
    "|           10|          5|          365|     5|     299.95|           59.99|\n",
    "|           13|          5|          403|     1|     129.99|          129.99|\n",
    "|           11|          5|         1014|     2|      99.96|           49.98|\n",
    "|           15|          7|          957|     1|     299.98|          299.98|\n",
    "|           14|          7|         1073|     1|     199.99|          199.99|\n",
    "|           16|          7|          926|     5|      79.95|           15.99|\n",
    "|           18|          8|          365|     5|     299.95|           59.99|\n",
    "|           19|          8|         1014|     4|     199.92|           49.98|\n",
    "|           17|          8|          365|     3|     179.97|           59.99|\n",
    "|           20|          8|          502|     1|       50.0|            50.0|\n",
    "+-------------+-----------+-------------+------+-----------+----------------+\n",
    "only showing top 20 rows"
   ]
  },
  {
   "cell_type": "code",
   "execution_count": null,
   "metadata": {},
   "outputs": [],
   "source": []
  },
  {
   "cell_type": "markdown",
   "metadata": {},
   "source": [
    "<p style=\"background:#AED6F1\"><b>Development Life Cycle using Data Frames</p>"
   ]
  },
  {
   "cell_type": "code",
   "execution_count": null,
   "metadata": {},
   "outputs": [],
   "source": []
  },
  {
   "cell_type": "markdown",
   "metadata": {},
   "source": [
    "<p style=\"background:#FA8072;border-style:solid;\"><b>WILL DO LATER</b></p>"
   ]
  },
  {
   "cell_type": "code",
   "execution_count": null,
   "metadata": {},
   "outputs": [],
   "source": []
  },
  {
   "cell_type": "code",
   "execution_count": null,
   "metadata": {},
   "outputs": [],
   "source": []
  },
  {
   "cell_type": "markdown",
   "metadata": {},
   "source": [
    "<p style=\"background:#AED6F1\"><b>Run Applications using Spark Submit</p>"
   ]
  },
  {
   "cell_type": "code",
   "execution_count": null,
   "metadata": {},
   "outputs": [],
   "source": []
  },
  {
   "cell_type": "markdown",
   "metadata": {},
   "source": [
    "<p style=\"background:#FA8072;border-style:solid;\"><b>WILL DO LATER</b></p>"
   ]
  },
  {
   "cell_type": "code",
   "execution_count": null,
   "metadata": {},
   "outputs": [],
   "source": []
  },
  {
   "cell_type": "code",
   "execution_count": null,
   "metadata": {},
   "outputs": [],
   "source": []
  },
  {
   "cell_type": "markdown",
   "metadata": {},
   "source": [
    "<p style=\"background:#F1C40F\"><b>NOTE : </b> Example below shows all the above DF Operations and Transformations used in a scenario based problem which is to Get Daily Product Revenue with highest revenue being displayed first.</p>"
   ]
  },
  {
   "cell_type": "markdown",
   "metadata": {},
   "source": [
    "<p style=\"background:#AED6F1\"><b> Problem statement - Get Daily Product Revenue</p>"
   ]
  },
  {
   "cell_type": "markdown",
   "metadata": {},
   "source": [
    "We need to develop code, where in we will calculate the revenue for each product on a daily basis. \n",
    "The datasets required for this problem are - \n",
    "* Orders Data File (orders.csv)\n",
    "* Order Items Data File (orderItems.csv)\n",
    "* Products Data File (products.csv)"
   ]
  },
  {
   "cell_type": "markdown",
   "metadata": {},
   "source": [
    "<p style=\"background:#AED6F1\"><b> Design - Get Daily Product Revenue</p>"
   ]
  },
  {
   "cell_type": "markdown",
   "metadata": {},
   "source": [
    "The design of the problem is as follows -\n",
    "\n",
    "1. orders.csv read in orders data frame.\n",
    "2. order_items.csv read in orderItems data frame.\n",
    "3. products.csv read in products data frame.\n",
    "4. orders DF and orderItems DF joined into ordersJoin DF, on order_id as key column.\n",
    "5. ordersJoin DF grouped by product_id column and then order_item_subtotal column aggregated using sum function.\n",
    "6. ordersJoin DF and products DF joined on product_id as key column and a result data frame  created to show product_name and sum(subtotals)\n"
   ]
  },
  {
   "cell_type": "markdown",
   "metadata": {},
   "source": [
    "<p style=\"background :#d0d5db\"><b>Creating DF</b> </p>"
   ]
  },
  {
   "cell_type": "code",
   "execution_count": null,
   "metadata": {},
   "outputs": [],
   "source": [
    ">>> orders = spark.read.csv('/public/retail_db/orders', schema='order_id int, order_date string, order_cust_id int, order_status string')"
   ]
  },
  {
   "cell_type": "code",
   "execution_count": null,
   "metadata": {},
   "outputs": [],
   "source": [
    ">>> orders.printSchema()"
   ]
  },
  {
   "cell_type": "raw",
   "metadata": {},
   "source": [
    "root\n",
    " |-- order_id: integer (nullable = true)\n",
    " |-- order_date: string (nullable = true)\n",
    " |-- order_cust_id: integer (nullable = true)\n",
    " |-- order_status: string (nullable = true)\n"
   ]
  },
  {
   "cell_type": "code",
   "execution_count": null,
   "metadata": {},
   "outputs": [],
   "source": [
    ">>> orders.show(5)"
   ]
  },
  {
   "cell_type": "raw",
   "metadata": {},
   "source": [
    "+--------+--------------------+-------------+---------------+              \n",
    "|order_id|          order_date|order_cust_id|   order_status|\n",
    "+--------+--------------------+-------------+---------------+\n",
    "|       1|2013-07-25 00:00:...|        11599|         CLOSED|\n",
    "|       2|2013-07-25 00:00:...|          256|PENDING_PAYMENT|\n",
    "|       3|2013-07-25 00:00:...|        12111|       COMPLETE|\n",
    "|       4|2013-07-25 00:00:...|         8827|         CLOSED|\n",
    "|       5|2013-07-25 00:00:...|        11318|       COMPLETE|\n",
    "+--------+--------------------+-------------+---------------+\n",
    "only showing top 5 rows"
   ]
  },
  {
   "cell_type": "code",
   "execution_count": null,
   "metadata": {},
   "outputs": [],
   "source": [
    ">>> orderItems = spark.read. \\\n",
    "... format('csv'). \\\n",
    "... schema('''order_item_id int,\n",
    "... order_id int,\n",
    "... product_id int,\n",
    "... qty int,\n",
    "... subtotal float,\n",
    "... product_price float'''). \\\n",
    "... load('/public/retail_db/order_items')"
   ]
  },
  {
   "cell_type": "code",
   "execution_count": null,
   "metadata": {},
   "outputs": [],
   "source": [
    ">>> orderItems.printSchema()\n"
   ]
  },
  {
   "cell_type": "raw",
   "metadata": {},
   "source": [
    "root\n",
    " |-- order_item_id: integer (nullable = true)\n",
    " |-- order_id: integer (nullable = true)\n",
    " |-- product_id: integer (nullable = true)\n",
    " |-- qty: integer (nullable = true)\n",
    " |-- subtotal: float (nullable = true)\n",
    " |-- product_price: float (nullable = true)"
   ]
  },
  {
   "cell_type": "code",
   "execution_count": null,
   "metadata": {},
   "outputs": [],
   "source": [
    ">>> orderItems.show(10)\n"
   ]
  },
  {
   "cell_type": "raw",
   "metadata": {},
   "source": [
    "+-------------+--------+----------+---+--------+-------------+               \n",
    "|order_item_id|order_id|product_id|qty|subtotal|product_price|\n",
    "+-------------+--------+----------+---+--------+-------------+\n",
    "|            1|       1|       957|  1|  299.98|       299.98|\n",
    "|            2|       2|      1073|  1|  199.99|       199.99|\n",
    "|            3|       2|       502|  5|   250.0|         50.0|\n",
    "|            4|       2|       403|  1|  129.99|       129.99|\n",
    "|            5|       4|       897|  2|   49.98|        24.99|\n",
    "|            6|       4|       365|  5|  299.95|        59.99|\n",
    "|            7|       4|       502|  3|   150.0|         50.0|\n",
    "|            8|       4|      1014|  4|  199.92|        49.98|\n",
    "|            9|       5|       957|  1|  299.98|       299.98|\n",
    "|           10|       5|       365|  5|  299.95|        59.99|\n",
    "+-------------+--------+----------+---+--------+-------------+\n",
    "only showing top 10 rows"
   ]
  },
  {
   "cell_type": "code",
   "execution_count": null,
   "metadata": {},
   "outputs": [],
   "source": [
    ">>> products = spark.read. \\\n",
    "...              format('csv'). \\\n",
    "...              schema('product_id int, product_cat_id int, product_name string, product_description string, product_price float, product_img string'). \\\n",
    "...              load('/public/retail_db/products')"
   ]
  },
  {
   "cell_type": "code",
   "execution_count": null,
   "metadata": {},
   "outputs": [],
   "source": [
    ">>> products.printSchema()"
   ]
  },
  {
   "cell_type": "raw",
   "metadata": {},
   "source": [
    "root\n",
    " |-- product_id: integer (nullable = true)\n",
    " |-- product_cat_id: integer (nullable = true)\n",
    " |-- product_name: string (nullable = true)\n",
    " |-- product_description: string (nullable = true)\n",
    " |-- product_price: float (nullable = true)\n",
    " |-- product_img: string (nullable = true)"
   ]
  },
  {
   "cell_type": "code",
   "execution_count": null,
   "metadata": {},
   "outputs": [],
   "source": [
    ">>> productsDF = products.select('product_id', 'product_name')"
   ]
  },
  {
   "cell_type": "code",
   "execution_count": null,
   "metadata": {},
   "outputs": [],
   "source": [
    ">>> productsDF.show()"
   ]
  },
  {
   "cell_type": "raw",
   "metadata": {},
   "source": [
    "+----------+--------------------+\n",
    "|product_id|        product_name|\n",
    "+----------+--------------------+\n",
    "|         1|Quest Q64 10 FT. ...|\n",
    "|         2|Under Armour Men'...|\n",
    "|         3|Under Armour Men'...|\n",
    "|         4|Under Armour Men'...|\n",
    "|         5|Riddell Youth Rev...|\n",
    "|         6|Jordan Men's VI R...|\n",
    "|         7|Schutt Youth Recr...|\n",
    "|         8|Nike Men's Vapor ...|\n",
    "|         9|Nike Adult Vapor ...|\n",
    "|        10|Under Armour Men'...|\n",
    "|        11|Fitness Gear 300 ...|\n",
    "|        12|Under Armour Men'...|\n",
    "|        13|Under Armour Men'...|\n",
    "|        14|Quik Shade Summit...|\n",
    "|        15|Under Armour Kids...|\n",
    "|        16|Riddell Youth 360...|\n",
    "|        17|Under Armour Men'...|\n",
    "|        18|Reebok Men's Full...|\n",
    "|        19|Nike Men's Finger...|\n",
    "|        20|Under Armour Men'...|\n",
    "+----------+--------------------+\n",
    "only showing top 20 rows"
   ]
  },
  {
   "cell_type": "markdown",
   "metadata": {},
   "source": [
    "<p style=\"background :#d0d5db\"><b>Filtering, Joining and Aggregating Orders DFs</b> </p>"
   ]
  },
  {
   "cell_type": "code",
   "execution_count": null,
   "metadata": {},
   "outputs": [],
   "source": [
    ">>> from pyspark.sql.functions import sum, round"
   ]
  },
  {
   "cell_type": "code",
   "execution_count": null,
   "metadata": {},
   "outputs": [],
   "source": [
    ">>> ordersJoin = orders.where('order_status in(\"CLOSED\", \"COMPLETE\")'). \\\n",
    "...  join(orderItems, orders.order_id == orderItems.oi_order_id). \\\n",
    "...  groupBy('order_date', 'oi_product_id'). \\\n",
    "...  agg(round(sum('oi_subtotal'), 2).alias('product_revenue'))"
   ]
  },
  {
   "cell_type": "code",
   "execution_count": null,
   "metadata": {},
   "outputs": [],
   "source": [
    ">>> ordersJoin.show()"
   ]
  },
  {
   "cell_type": "raw",
   "metadata": {},
   "source": [
    "+--------------------+-------------+---------------+\n",
    "|          order_date|oi_product_id|product_revenue|\n",
    "+--------------------+-------------+---------------+\n",
    "|2013-07-27 00:00:...|          703|          39.98|\n",
    "|2013-07-29 00:00:...|          793|          44.97|\n",
    "|2013-08-12 00:00:...|          627|         3199.2|\n",
    "|2013-08-15 00:00:...|          926|          15.99|\n",
    "|2013-09-04 00:00:...|          957|        3599.76|\n",
    "|2013-09-07 00:00:...|          235|         104.97|\n",
    "|2013-09-17 00:00:...|          792|          14.99|\n",
    "|2013-09-25 00:00:...|           44|         239.96|\n",
    "|2013-09-27 00:00:...|          276|          31.99|\n",
    "|2013-10-04 00:00:...|          792|          44.97|\n",
    "|2013-10-14 00:00:...|          835|          31.99|\n",
    "|2013-10-19 00:00:...|         1004|        5599.72|\n",
    "|2013-11-06 00:00:...|          502|         3800.0|\n",
    "|2013-11-12 00:00:...|          282|          63.98|\n",
    "|2013-11-19 00:00:...|          792|          59.96|\n",
    "|2013-11-29 00:00:...|          235|         174.95|\n",
    "|2013-11-30 00:00:...|          278|          44.99|\n",
    "|2013-12-03 00:00:...|          778|          99.96|\n",
    "|2013-12-09 00:00:...|          564|          180.0|\n",
    "|2013-12-11 00:00:...|          775|          49.95|\n",
    "+--------------------+-------------+---------------+\n",
    "only showing top 20 rows"
   ]
  },
  {
   "cell_type": "markdown",
   "metadata": {},
   "source": [
    "<p style=\"background :#d0d5db\"><b>Joining Order and Product DFs and Sorting Revenue DF</b> </p>"
   ]
  },
  {
   "cell_type": "code",
   "execution_count": null,
   "metadata": {},
   "outputs": [],
   "source": [
    ">>> revenueDF = ordersJoin. \\\n",
    "...              join(productsDF, ordersJoin.oi_product_id == productsDF.product_id). \\\n",
    "...              select('order_date', 'product_name', 'product_revenue'). \\\n",
    "...              sort(['order_date', 'product_revenue'], ascending=[1,0])"
   ]
  },
  {
   "cell_type": "code",
   "execution_count": null,
   "metadata": {},
   "outputs": [],
   "source": [
    ">>> revenueDF.show()"
   ]
  },
  {
   "cell_type": "raw",
   "metadata": {},
   "source": [
    "+--------------------+--------------------+---------------+\n",
    "|          order_date|        product_name|product_revenue|\n",
    "+--------------------+--------------------+---------------+\n",
    "|2013-07-25 00:00:...|Field & Stream Sp...|        5599.72|\n",
    "|2013-07-25 00:00:...|Nike Men's Free 5...|        5099.49|\n",
    "|2013-07-25 00:00:...|Diamondback Women...|         4499.7|\n",
    "|2013-07-25 00:00:...|Perfect Fitness P...|        3359.44|\n",
    "|2013-07-25 00:00:...|Pelican Sunstream...|        2999.85|\n",
    "|2013-07-25 00:00:...|O'Brien Men's Neo...|        2798.88|\n",
    "|2013-07-25 00:00:...|Nike Men's CJ Eli...|        1949.85|\n",
    "|2013-07-25 00:00:...|Nike Men's Dri-FI...|         1650.0|\n",
    "|2013-07-25 00:00:...|Under Armour Girl...|        1079.73|\n",
    "|2013-07-25 00:00:...|Bowflex SelectTec...|         599.99|\n",
    "|2013-07-25 00:00:...|Elevation Trainin...|         319.96|\n",
    "|2013-07-25 00:00:...|Titleist Pro V1 H...|         207.96|\n",
    "|2013-07-25 00:00:...|Nike Men's Kobe I...|         199.99|\n",
    "|2013-07-25 00:00:...|Cleveland Golf Wo...|         119.99|\n",
    "|2013-07-25 00:00:...|TYR Boys' Team Di...|         119.97|\n",
    "|2013-07-25 00:00:...|Merrell Men's All...|         109.99|\n",
    "|2013-07-25 00:00:...|LIJA Women's Butt...|          108.0|\n",
    "|2013-07-25 00:00:...|Nike Women's Lege...|          100.0|\n",
    "|2013-07-25 00:00:...|Team Golf Tenness...|          99.96|\n",
    "|2013-07-25 00:00:...|Bridgestone e6 St...|          95.97|\n",
    "+--------------------+--------------------+---------------+\n",
    "only showing top 20 rows"
   ]
  },
  {
   "cell_type": "markdown",
   "metadata": {},
   "source": [
    "<p style=\"background:#AED6F1\"><b>Exercises</p>"
   ]
  },
  {
   "cell_type": "markdown",
   "metadata": {},
   "source": [
    "<p style=\"background:#F1C40F\">Get number of CLOSED or COMPLETE orders placed by each customer.</p>"
   ]
  },
  {
   "cell_type": "code",
   "execution_count": null,
   "metadata": {},
   "outputs": [],
   "source": [
    ">>> orders = spark.read. \\\n",
    "...     format('csv'). \\\n",
    "...     schema('order_id int, order_date string, order_customer_id int, order_status string'). \\\n",
    "...     load('/public/retail_db/orders')"
   ]
  },
  {
   "cell_type": "code",
   "execution_count": null,
   "metadata": {},
   "outputs": [],
   "source": [
    ">>> orders.printSchema()"
   ]
  },
  {
   "cell_type": "raw",
   "metadata": {},
   "source": [
    "root\n",
    " |-- order_id: integer (nullable = true)\n",
    " |-- order_date: string (nullable = true)\n",
    " |-- order_customer_id: integer (nullable = true)\n",
    " |-- order_status: string (nullable = true)"
   ]
  },
  {
   "cell_type": "code",
   "execution_count": null,
   "metadata": {},
   "outputs": [],
   "source": [
    ">>> from pyspark.sql.functions import *"
   ]
  },
  {
   "cell_type": "code",
   "execution_count": null,
   "metadata": {},
   "outputs": [],
   "source": [
    ">>> orderByCustomer = orders. \\\n",
    "...                     where('order_status in (\"CLOSED\", \"COMPLETE\")'). \\\n",
    "...                     groupBy('order_customer_id', 'order_status'). \\\n",
    "...                     agg(count('order_id').alias('order_count'))"
   ]
  },
  {
   "cell_type": "code",
   "execution_count": null,
   "metadata": {},
   "outputs": [],
   "source": [
    ">>> orderByCustomer.show()"
   ]
  },
  {
   "cell_type": "raw",
   "metadata": {},
   "source": [
    "+-----------------+------------+-----------+\n",
    "|order_customer_id|order_status|order_count|\n",
    "+-----------------+------------+-----------+\n",
    "|            11267|      CLOSED|          2|\n",
    "|             8416|    COMPLETE|          5|\n",
    "|             4427|    COMPLETE|          1|\n",
    "|             2118|    COMPLETE|          5|\n",
    "|             6688|    COMPLETE|          2|\n",
    "|             4267|      CLOSED|          1|\n",
    "|            10228|    COMPLETE|          2|\n",
    "|            11392|    COMPLETE|          2|\n",
    "|             3472|    COMPLETE|          2|\n",
    "|             6273|      CLOSED|          1|\n",
    "|             6592|      CLOSED|          2|\n",
    "|             1771|    COMPLETE|          2|\n",
    "|             1565|    COMPLETE|          2|\n",
    "|             8781|    COMPLETE|          1|\n",
    "|            11083|    COMPLETE|          3|\n",
    "|             9515|    COMPLETE|          3|\n",
    "|            12287|    COMPLETE|          2|\n",
    "|             5008|    COMPLETE|          2|\n",
    "|             3242|    COMPLETE|          2|\n",
    "|              356|    COMPLETE|          2|\n",
    "+-----------------+------------+-----------+\n",
    "only showing top 20 rows"
   ]
  },
  {
   "cell_type": "code",
   "execution_count": null,
   "metadata": {},
   "outputs": [],
   "source": [
    ">>> orderByCustomer.sort('order_customer_id').show()"
   ]
  },
  {
   "cell_type": "raw",
   "metadata": {},
   "source": [
    "+-----------------+------------+-----------+\n",
    "|order_customer_id|order_status|order_count|\n",
    "+-----------------+------------+-----------+\n",
    "|                1|    COMPLETE|          1|\n",
    "|                2|    COMPLETE|          2|\n",
    "|                3|    COMPLETE|          5|\n",
    "|                4|    COMPLETE|          4|\n",
    "|                4|      CLOSED|          1|\n",
    "|                5|    COMPLETE|          2|\n",
    "|                7|    COMPLETE|          1|\n",
    "|                8|    COMPLETE|          2|\n",
    "|                8|      CLOSED|          1|\n",
    "|                9|      CLOSED|          1|\n",
    "|                9|    COMPLETE|          2|\n",
    "|               10|    COMPLETE|          2|\n",
    "|               11|      CLOSED|          1|\n",
    "|               11|    COMPLETE|          2|\n",
    "|               12|      CLOSED|          1|\n",
    "|               13|    COMPLETE|          3|\n",
    "|               14|    COMPLETE|          4|\n",
    "|               14|      CLOSED|          1|\n",
    "|               15|    COMPLETE|          3|\n",
    "|               16|    COMPLETE|          4|\n",
    "+-----------------+------------+-----------+\n",
    "only showing top 20 rows"
   ]
  },
  {
   "cell_type": "markdown",
   "metadata": {},
   "source": [
    "<p style=\"background:#F1C40F\">Get revenue generated by each customer for the month of 2014 January (consider only CLOSED or COMPLETE orders).</p>"
   ]
  },
  {
   "cell_type": "code",
   "execution_count": null,
   "metadata": {},
   "outputs": [],
   "source": [
    ">>> orders = spark.read. \\\n",
    "...     format('csv'). \\\n",
    "...     schema('order_id int, order_date string, order_customer_id int, order_status string'). \\\n",
    "...     load('/public/retail_db/orders')"
   ]
  },
  {
   "cell_type": "code",
   "execution_count": null,
   "metadata": {},
   "outputs": [],
   "source": [
    ">>> orderItems = spark.read. \\\n",
    "...  format('csv'). \\\n",
    "...  schema('''order_item_id int,\n",
    "...  oi_order_id int,\n",
    "...  oi_product_id int,\n",
    "...  oi_qty int,\n",
    "...  oi_subtotal float,\n",
    "...  oi_product_price float'''). \\\n",
    "...  load('/public/retail_db/order_items')"
   ]
  },
  {
   "cell_type": "code",
   "execution_count": null,
   "metadata": {},
   "outputs": [],
   "source": [
    ">>> orders.where('order_status in (\"COMPLETE\", \"CLOSED\") and substring(order_date, 1, 7) = \"2014-01\"').show()"
   ]
  },
  {
   "cell_type": "raw",
   "metadata": {},
   "source": [
    "+--------+--------------------+-----------------+------------+\n",
    "|order_id|          order_date|order_customer_id|order_status|\n",
    "+--------+--------------------+-----------------+------------+\n",
    "|   25882|2014-01-01 00:00:...|             4598|    COMPLETE|\n",
    "|   25888|2014-01-01 00:00:...|             6735|    COMPLETE|\n",
    "|   25889|2014-01-01 00:00:...|            10045|    COMPLETE|\n",
    "|   25891|2014-01-01 00:00:...|             3037|      CLOSED|\n",
    "|   25895|2014-01-01 00:00:...|             1044|    COMPLETE|\n",
    "|   25897|2014-01-01 00:00:...|             6405|    COMPLETE|\n",
    "|   25898|2014-01-01 00:00:...|             3950|    COMPLETE|\n",
    "|   25899|2014-01-01 00:00:...|             8068|      CLOSED|"
   ]
  },
  {
   "cell_type": "code",
   "execution_count": null,
   "metadata": {},
   "outputs": [],
   "source": [
    ">>> revenueDF = orders.select('order_id', substring(orders.order_date, 1, 7).alias('order_month'), 'order_customer_id', 'order_status')"
   ]
  },
  {
   "cell_type": "code",
   "execution_count": null,
   "metadata": {},
   "outputs": [],
   "source": [
    ">>> revenueDF.show()"
   ]
  },
  {
   "cell_type": "raw",
   "metadata": {},
   "source": [
    "+--------+-----------+-----------------+---------------+\n",
    "|order_id|order_month|order_customer_id|   order_status|\n",
    "+--------+-----------+-----------------+---------------+\n",
    "|       1|    2013-07|            11599|         CLOSED|\n",
    "|       2|    2013-07|              256|PENDING_PAYMENT|\n",
    "|       3|    2013-07|            12111|       COMPLETE|\n",
    "|       4|    2013-07|             8827|         CLOSED|\n",
    "|       5|    2013-07|            11318|       COMPLETE|\n",
    "|       6|    2013-07|             7130|       COMPLETE|\n",
    "|       7|    2013-07|             4530|       COMPLETE|\n",
    "|       8|    2013-07|             2911|     PROCESSING|\n",
    "|       9|    2013-07|             5657|PENDING_PAYMENT|\n",
    "|      10|    2013-07|             5648|PENDING_PAYMENT|\n",
    "|      11|    2013-07|              918| PAYMENT_REVIEW|\n",
    "|      12|    2013-07|             1837|         CLOSED|\n",
    "|      13|    2013-07|             9149|PENDING_PAYMENT|\n",
    "|      14|    2013-07|             9842|     PROCESSING|\n",
    "|      15|    2013-07|             2568|       COMPLETE|\n",
    "|      16|    2013-07|             7276|PENDING_PAYMENT|\n",
    "|      17|    2013-07|             2667|       COMPLETE|\n",
    "|      18|    2013-07|             1205|         CLOSED|\n",
    "|      19|    2013-07|             9488|PENDING_PAYMENT|\n",
    "|      20|    2013-07|             9198|     PROCESSING|\n",
    "+--------+-----------+-----------------+---------------+\n",
    "only showing top 20 rows"
   ]
  },
  {
   "cell_type": "code",
   "execution_count": null,
   "metadata": {},
   "outputs": [],
   "source": [
    ">>> revenueDF = orders.select('order_id', substring(orders.order_date, 1, 7).alias('order_month'), 'order_customer_id', 'order_status'). \\\n",
    "...             where('order_status in (\"COMPLETE\", \"CLOSED\") and order_month = \"2014-01\"')\n"
   ]
  },
  {
   "cell_type": "code",
   "execution_count": null,
   "metadata": {},
   "outputs": [],
   "source": [
    ">>> revenueDF.show()"
   ]
  },
  {
   "cell_type": "raw",
   "metadata": {},
   "source": [
    "+--------+-----------+-----------------+------------+\n",
    "|order_id|order_month|order_customer_id|order_status|\n",
    "+--------+-----------+-----------------+------------+\n",
    "|   25882|    2014-01|             4598|    COMPLETE|\n",
    "|   25888|    2014-01|             6735|    COMPLETE|\n",
    "|   25889|    2014-01|            10045|    COMPLETE|\n",
    "|   25891|    2014-01|             3037|      CLOSED|\n",
    "|   25895|    2014-01|             1044|    COMPLETE|\n",
    "|   25897|    2014-01|             6405|    COMPLETE|\n",
    "|   25898|    2014-01|             3950|    COMPLETE|\n",
    "|   25899|    2014-01|             8068|      CLOSED|\n",
    "|   25900|    2014-01|             2382|      CLOSED|\n",
    "|   25901|    2014-01|             3099|    COMPLETE|\n",
    "|   25902|    2014-01|             6083|    COMPLETE|\n",
    "|   25907|    2014-01|             3603|    COMPLETE|\n",
    "|   25913|    2014-01|             9382|    COMPLETE|\n",
    "|   25914|    2014-01|             9288|    COMPLETE|\n",
    "|   25915|    2014-01|             2963|    COMPLETE|\n",
    "|   25916|    2014-01|             3219|    COMPLETE|\n",
    "|   25918|    2014-01|              279|    COMPLETE|\n",
    "|   25919|    2014-01|             3052|    COMPLETE|\n",
    "|   25920|    2014-01|            12232|    COMPLETE|\n",
    "|   25921|    2014-01|            12373|    COMPLETE|\n",
    "+--------+-----------+-----------------+------------+\n",
    "only showing top 20 rows"
   ]
  },
  {
   "cell_type": "code",
   "execution_count": null,
   "metadata": {},
   "outputs": [],
   "source": [
    ">>> revenueDF = orders.select('order_id', substring(orders.order_date, 1, 7).alias('order_month'), 'order_customer_id', 'order_status'). \\\n",
    "...             where('order_status in (\"COMPLETE\", \"CLOSED\") and order_month = \"2014-01\"'). \\\n",
    "...             join(orderItems, orders.order_id == orderItems.oi_order_id)"
   ]
  },
  {
   "cell_type": "code",
   "execution_count": null,
   "metadata": {},
   "outputs": [],
   "source": [
    ">>> revenueDF.show()"
   ]
  },
  {
   "cell_type": "raw",
   "metadata": {},
   "source": [
    "+--------+-----------+-----------------+------------+----------+-----------+-------------+------+----------+----------------+\n",
    "|order_id|order_month|order_customer_id|order_status|oi_item_id|oi_order_id|oi_product_id|oi_qty|oi_subtota|oi_product_price|\n",
    "+--------+-----------+-----------------+------------+----------+-----------+-------------+------+----------+----------------+\n",
    "|   25882|    2014-01|             4598|    COMPLETE|     64785|      25882|          191|     3|    299.97|           99.99|\n",
    "|   25882|    2014-01|             4598|    COMPLETE|     64786|      25882|          502|     2|     100.0|            50.0|\n",
    "|   25882|    2014-01|             4598|    COMPLETE|     64787|      25882|          627|     2|     79.98|           39.99|\n",
    "|   25882|    2014-01|             4598|    COMPLETE|     64788|      25882|         1004|     1|    399.98|          399.98|\n",
    "|   25888|    2014-01|             6735|    COMPLETE|     64799|      25888|          957|     1|    299.98|          299.98|\n",
    "|   25889|    2014-01|            10045|    COMPLETE|     64800|      25889|         1014|     2|     99.96|           49.98|\n",
    "|   25889|    2014-01|            10045|    COMPLETE|     64801|      25889|          804|     1|     19.99|           19.99|\n",
    "|   25891|    2014-01|             3037|      CLOSED|     64806|      25891|          502|     3|     150.0|            50.0|\n",
    "|   25891|    2014-01|             3037|      CLOSED|     64807|      25891|          502|     1|      50.0|            50.0|\n",
    "|   25891|    2014-01|             3037|      CLOSED|     64808|      25891|          627|     3|    119.97|           39.99|\n",
    "|   25895|    2014-01|             1044|    COMPLETE|     64813|      25895|         1004|     1|    399.98|          399.98|\n",
    "|   25895|    2014-01|             1044|    COMPLETE|     64814|      25895|         1073|     1|    199.99|          199.99|\n",
    "|   25897|    2014-01|             6405|    COMPLETE|     64819|      25897|          135|     3|      66.0|            22.0|\n",
    "|   25897|    2014-01|             6405|    COMPLETE|     64820|      25897|          502|     5|     250.0|            50.0|\n",
    "|   25897|    2014-01|             6405|    COMPLETE|     64821|      25897|          957|     1|    299.98|          299.98|\n",
    "|   25898|    2014-01|             3950|    COMPLETE|     64822|      25898|          403|     1|    129.99|          129.99|\n",
    "|   25900|    2014-01|             2382|      CLOSED|     64823|      25900|         1004|     1|    399.98|          399.98|\n",
    "|   25900|    2014-01|             2382|      CLOSED|     64824|      25900|          365|     2|    119.98|           59.99|\n",
    "|   25900|    2014-01|             2382|      CLOSED|     64825|      25900|          191|     2|    199.98|           99.99|\n",
    "|   25901|    2014-01|             3099|    COMPLETE|     64826|      25901|          191|     3|    299.97|           99.99|\n",
    "+--------+-----------+-----------------+------------+----------+-----------+-------------+------+----------+----------------+\n",
    "only showing top 20 rows"
   ]
  },
  {
   "cell_type": "code",
   "execution_count": null,
   "metadata": {},
   "outputs": [],
   "source": [
    ">>> revenueDF = orders.select('order_id', substring(orders.order_date, 1, 7).alias('order_month'), 'order_customer_id', 'order_status'). \\\n",
    "...             where('order_status in (\"COMPLETE\", \"CLOSED\") and order_month = \"2014-01\"'). \\\n",
    "...             join(orderItems, orders.order_id == orderItems.oi_order_id). \\\n",
    "...             groupBy('order_month', 'order_customer_id'). \\\n",
    "...             agg(round(sum('oi_subtotal'), 2).alias('revenue'))"
   ]
  },
  {
   "cell_type": "code",
   "execution_count": null,
   "metadata": {},
   "outputs": [],
   "source": [
    ">>> revenueDF.show()"
   ]
  },
  {
   "cell_type": "raw",
   "metadata": {},
   "source": [
    "+-----------+-----------------+-------+\n",
    "|order_month|order_customer_id|revenue|\n",
    "+-----------+-----------------+-------+\n",
    "|    2014-01|            11884| 1519.9|\n",
    "|    2014-01|            12389| 249.97|\n",
    "|    2014-01|            12126| 399.96|\n",
    "|    2014-01|            11829|1289.78|\n",
    "|    2014-01|             1340|  100.0|\n",
    "|    2014-01|             6106|1289.89|\n",
    "|    2014-01|            11370| 849.97|\n",
    "|    2014-01|             3161| 654.82|\n",
    "|    2014-01|             3283| 119.98|\n",
    "|    2014-01|            10747| 649.88|\n",
    "|    2014-01|            11789|1359.92|\n",
    "|    2014-01|             7371|  389.9|\n",
    "|    2014-01|             5920| 399.98|\n",
    "|    2014-01|             1145| 429.93|\n",
    "|    2014-01|             9559| 839.88|\n",
    "|    2014-01|             5980|1161.82|\n",
    "|    2014-01|             6552| 369.86|\n",
    "|    2014-01|             4936| 849.85|\n",
    "|    2014-01|             9211|1299.94|\n",
    "|    2014-01|             4109| 579.91|\n",
    "+-----------+-----------------+-------+\n",
    "only showing top 20 rows"
   ]
  },
  {
   "cell_type": "markdown",
   "metadata": {},
   "source": [
    "<p style=\"background:#F1C40F\">Get revenue generated by each product on monthly basis – get product name, month and revenue generated by each product (round off revenue to 2 decimals).</p>"
   ]
  },
  {
   "cell_type": "code",
   "execution_count": null,
   "metadata": {},
   "outputs": [],
   "source": [
    ">>> orders = spark.read. \\\n",
    "...      format('csv'). \\\n",
    "...      schema('order_id int, order_date string, order_customer_id int, order_status string'). \\\n",
    "...      load('/public/retail_db/orders')"
   ]
  },
  {
   "cell_type": "code",
   "execution_count": null,
   "metadata": {},
   "outputs": [],
   "source": [
    ">>> orderItems = spark.read. \\\n",
    "...  format('csv'). \\\n",
    "...  schema('''order_item_id int,\n",
    "...  oi_order_id int,\n",
    "...  oi_product_id int,\n",
    "...  oi_qty int,\n",
    "...  oi_subtotal float,\n",
    "...  oi_product_price float'''). \\\n",
    "...  load('/public/retail_db/order_items')"
   ]
  },
  {
   "cell_type": "code",
   "execution_count": null,
   "metadata": {},
   "outputs": [],
   "source": [
    ">>> products = spark.read. \\\n",
    "...              format('csv'). \\\n",
    "...              schema('product_id int, product_cat_id int, product_name string, product_description string, product_price float, product_img string'). \\\n",
    "...              load('/public/retail_db/products')"
   ]
  },
  {
   "cell_type": "code",
   "execution_count": null,
   "metadata": {},
   "outputs": [],
   "source": [
    ">>> from pyspark.sql.functions import *"
   ]
  },
  {
   "cell_type": "code",
   "execution_count": null,
   "metadata": {},
   "outputs": [],
   "source": [
    ">>> revenueDF = orders.select('order_id', substring(orders.order_date, 1, 7).alias('order_month'), 'order_status')"
   ]
  },
  {
   "cell_type": "code",
   "execution_count": null,
   "metadata": {},
   "outputs": [],
   "source": [
    ">>> revenueDF.show()"
   ]
  },
  {
   "cell_type": "raw",
   "metadata": {},
   "source": [
    "+--------+-----------+---------------+\n",
    "|order_id|order_month|   order_status|\n",
    "+--------+-----------+---------------+\n",
    "|       1|    2013-07|         CLOSED|\n",
    "|       2|    2013-07|PENDING_PAYMENT|\n",
    "|       3|    2013-07|       COMPLETE|\n",
    "|       4|    2013-07|         CLOSED|\n",
    "|       5|    2013-07|       COMPLETE|\n",
    "|       6|    2013-07|       COMPLETE|\n",
    "|       7|    2013-07|       COMPLETE|\n",
    "|       8|    2013-07|     PROCESSING|\n",
    "|       9|    2013-07|PENDING_PAYMENT|\n",
    "|      10|    2013-07|PENDING_PAYMENT|\n",
    "|      11|    2013-07| PAYMENT_REVIEW|\n",
    "|      12|    2013-07|         CLOSED|\n",
    "|      13|    2013-07|PENDING_PAYMENT|\n",
    "|      14|    2013-07|     PROCESSING|\n",
    "|      15|    2013-07|       COMPLETE|\n",
    "|      16|    2013-07|PENDING_PAYMENT|\n",
    "|      17|    2013-07|       COMPLETE|\n",
    "|      18|    2013-07|         CLOSED|\n",
    "|      19|    2013-07|PENDING_PAYMENT|\n",
    "|      20|    2013-07|     PROCESSING|\n",
    "+--------+-----------+---------------+\n",
    "only showing top 20 rows"
   ]
  },
  {
   "cell_type": "code",
   "execution_count": null,
   "metadata": {},
   "outputs": [],
   "source": [
    ">>> revenueDF = orders.select('order_id', substring(orders.order_date, 1, 7).alias('order_month'), 'order_status'). \\\n",
    "...             join(orderItems, orders.order_id == orderItems.oi_order_id). \\\n",
    "...             groupBy('order_month', 'oi_product_id'). \\\n",
    "...             agg(round(sum('oi_subtotal'), 2).alias('product_revenue'))"
   ]
  },
  {
   "cell_type": "code",
   "execution_count": null,
   "metadata": {},
   "outputs": [],
   "source": [
    ">>> revenueDF.show()"
   ]
  },
  {
   "cell_type": "raw",
   "metadata": {},
   "source": [
    "+-----------+-------------+---------------+\n",
    "|order_month|oi_product_id|product_revenue|\n",
    "+-----------+-------------+---------------+\n",
    "|    2013-09|         1014|      243552.54|\n",
    "|    2013-07|          216|          567.0|\n",
    "|    2013-11|           24|        1519.81|\n",
    "|    2013-11|          564|         2100.0|\n",
    "|    2013-12|         1073|      262786.87|\n",
    "|    2014-07|          792|         719.52|\n",
    "|    2013-08|          258|        1234.87|\n",
    "|    2013-12|          671|         839.96|\n",
    "|    2014-02|          730|         1520.0|\n",
    "|    2014-05|          677|        2699.73|\n",
    "|    2014-06|          666|         659.94|\n",
    "|    2013-07|         1014|        67722.9|\n",
    "|    2013-10|          403|      219163.15|\n",
    "|    2013-12|          804|        1859.07|\n",
    "|    2013-12|          885|        2274.09|\n",
    "|    2014-02|          276|        2143.33|\n",
    "|    2013-09|          982|        1349.91|\n",
    "|    2014-01|           58|         599.98|\n",
    "|    2014-03|          845|         299.99|\n",
    "|    2014-02|          893|        1874.25|\n",
    "+-----------+-------------+---------------+\n",
    "only showing top 20 rows"
   ]
  },
  {
   "cell_type": "code",
   "execution_count": null,
   "metadata": {},
   "outputs": [],
   "source": [
    ">>> revenueDF = orders.select('order_id', substring(orders.order_date, 1, 7).alias('order_month'), 'order_status'). \\\n",
    "...             join(orderItems, orders.order_id == orderItems.oi_order_id). \\\n",
    "...             groupBy('order_month', 'oi_product_id'). \\\n",
    "...             agg(round(sum('oi_subtotal'), 2).alias('product_revenue')). \\\n",
    "...             join(products, orderItems.oi_product_id == products.product_id). \\\n",
    "...             select('order_month', 'product_name', 'product_revenue')"
   ]
  },
  {
   "cell_type": "code",
   "execution_count": null,
   "metadata": {},
   "outputs": [],
   "source": [
    ">>> revenueDF.show()"
   ]
  },
  {
   "cell_type": "raw",
   "metadata": {},
   "source": [
    "+-----------+--------------------+---------------+\n",
    "|order_month|        product_name|product_revenue|\n",
    "+-----------+--------------------+---------------+\n",
    "|    2013-09|O'Brien Men's Neo...|      243552.54|\n",
    "|    2013-07|Yakima DoubleDown...|          567.0|\n",
    "|    2013-11|Elevation Trainin...|        1519.81|\n",
    "|    2013-11|Nike Men's Deutsc...|         2100.0|\n",
    "|    2013-12|Pelican Sunstream...|      262786.87|\n",
    "|    2014-07|Hirzl Men's Hybri...|         719.52|\n",
    "|    2013-08|Nike Women's Free...|        1234.87|\n",
    "|    2013-12|Cleveland Golf Co...|         839.96|\n",
    "|    2014-02|LIJA Women's Argy...|         1520.0|\n",
    "|    2014-05|TaylorMade White ...|        2699.73|\n",
    "|    2014-06|Merrell Men's All...|         659.94|\n",
    "|    2013-07|O'Brien Men's Neo...|        67722.9|\n",
    "|    2013-10|Nike Men's CJ Eli...|      219163.15|\n",
    "|    2013-12|Glove It Women's ...|        1859.07|\n",
    "|    2013-12|Team Golf St. Lou...|        2274.09|\n",
    "|    2014-02|Under Armour Wome...|        2143.33|\n",
    "|    2013-09|insta-bed Neverfl...|        1349.91|\n",
    "|    2014-01|Diamondback Boys'...|         599.98|\n",
    "|    2014-03|Garmin Approach S...|         299.99|\n",
    "|    2014-02|Team Golf Pittsbu...|        1874.25|\n",
    "+-----------+--------------------+---------------+\n",
    "only showing top 20 rows"
   ]
  },
  {
   "cell_type": "markdown",
   "metadata": {},
   "source": [
    "<p style=\"background:#F1C40F\">Get revenue generated by each product category on daily basis – get category name, date and revenue generated by each category (round off revenue to 2 decimals).</p>"
   ]
  },
  {
   "cell_type": "code",
   "execution_count": null,
   "metadata": {},
   "outputs": [],
   "source": [
    ">>> from pyspark.sql.functions import *"
   ]
  },
  {
   "cell_type": "code",
   "execution_count": null,
   "metadata": {},
   "outputs": [],
   "source": [
    ">>> orders = spark.read. \\\n",
    "...             format('csv'). \\\n",
    "...             schema('order_id int, order_date string, order_customer_id int, order_status string'). \\\n",
    "...             load('/public/retail_db/orders')"
   ]
  },
  {
   "cell_type": "code",
   "execution_count": null,
   "metadata": {},
   "outputs": [],
   "source": [
    ">>> orderItems = spark.read. \\\n",
    "...                     format('csv'). \\\n",
    "...                     schema('oi_item_id int, oi_order_id int, oi_product_id int, oi_qty int, oi_subtotal float, oi_product_price float'). \\\n",
    "...                     load('/public/retail_db/order_items')"
   ]
  },
  {
   "cell_type": "code",
   "execution_count": null,
   "metadata": {},
   "outputs": [],
   "source": [
    ">>> products = spark.read. \\\n",
    "...                     format('csv'). \\\n",
    "...                     schema('product_id int, product_category_id int, product_name string, product_description string, product_price float, product_image string'). \\\n",
    "...                     load('/public/retail_db/products')"
   ]
  },
  {
   "cell_type": "code",
   "execution_count": null,
   "metadata": {},
   "outputs": [],
   "source": [
    ">>> categories = spark.read. \\\n",
    "...                     format('csv'). \\\n",
    "...                     schema('category_id int, category_department_id int, category_name string'). \\\n",
    "...                     load('/public/retail_db/categories')"
   ]
  },
  {
   "cell_type": "code",
   "execution_count": null,
   "metadata": {},
   "outputs": [],
   "source": [
    ">>> categories.show()"
   ]
  },
  {
   "cell_type": "raw",
   "metadata": {},
   "source": [
    "+-----------+----------------------+-------------------+\n",
    "|category_id|category_department_id|      category_name|\n",
    "+-----------+----------------------+-------------------+\n",
    "|          1|                     2|           Football|\n",
    "|          2|                     2|             Soccer|\n",
    "|          3|                     2|Baseball & Softball|\n",
    "|          4|                     2|         Basketball|\n",
    "|          5|                     2|           Lacrosse|\n",
    "|          6|                     2|   Tennis & Racquet|\n",
    "|          7|                     2|             Hockey|\n",
    "|          8|                     2|        More Sports|\n",
    "|          9|                     3|   Cardio Equipment|\n",
    "|         10|                     3|  Strength Training|\n",
    "|         11|                     3|Fitness Accessories|\n",
    "|         12|                     3|       Boxing & MMA|\n",
    "|         13|                     3|        Electronics|\n",
    "|         14|                     3|     Yoga & Pilates|\n",
    "|         15|                     3|  Training by Sport|\n",
    "|         16|                     3|    As Seen on  TV!|\n",
    "|         17|                     4|             Cleats|\n",
    "|         18|                     4|     Men's Footwear|\n",
    "|         19|                     4|   Women's Footwear|\n",
    "|         20|                     4|     Kids' Footwear|\n",
    "+-----------+----------------------+-------------------+\n",
    "only showing top 20 rows"
   ]
  },
  {
   "cell_type": "code",
   "execution_count": null,
   "metadata": {},
   "outputs": [],
   "source": [
    ">>> ordersJoin = orders.where('order_status in (\"CLOSED\",\"COMPLETE\")'). \\\n",
    "...                     join(orderItems, orders.order_id == orderItems.oi_order_id)"
   ]
  },
  {
   "cell_type": "code",
   "execution_count": null,
   "metadata": {},
   "outputs": [],
   "source": [
    ">>> prodcatJoin = products.select('product_id', 'product_category_id'). \\\n",
    "...                             join(categories, products.product_category_id == categories.category_id). \\\n",
    "...                             select('product_id', 'category_name')"
   ]
  },
  {
   "cell_type": "code",
   "execution_count": null,
   "metadata": {},
   "outputs": [],
   "source": [
    ">>> prodcatJoin.show(5)"
   ]
  },
  {
   "cell_type": "raw",
   "metadata": {},
   "source": [
    "+----------+-------------------+-------------+\n",
    "|product_id|product_category_id|category_name|\n",
    "+----------+-------------------+-------------+\n",
    "|         1|                  2|       Soccer|\n",
    "|         2|                  2|       Soccer|\n",
    "|         3|                  2|       Soccer|\n",
    "|         4|                  2|       Soccer|\n",
    "|         5|                  2|       Soccer|\n",
    "+----------+-------------------+-------------+\n",
    "only showing top 5 rows"
   ]
  },
  {
   "cell_type": "code",
   "execution_count": null,
   "metadata": {},
   "outputs": [],
   "source": [
    ">>> ordersJoin.show(5)"
   ]
  },
  {
   "cell_type": "raw",
   "metadata": {},
   "source": [
    "+--------+--------------------+-----------------+------------+----------+-----------+-------------+------+-----------+----------------+\n",
    "|order_id|          order_date|order_customer_id|order_status|oi_item_id|oi_order_id|oi_product_id|oi_qty|oi_subtotal|oi_product_price|\n",
    "+--------+--------------------+-----------------+------------+----------+-----------+-------------+------+-----------+----------------+\n",
    "|       1|2013-07-25 00:00:...|            11599|      CLOSED|         1|          1|          957|     1|     299.98|          299.98|\n",
    "|       4|2013-07-25 00:00:...|             8827|      CLOSED|         5|          4|          897|     2|      49.98|           24.99|\n",
    "|       4|2013-07-25 00:00:...|             8827|      CLOSED|         6|          4|          365|     5|     299.95|           59.99|\n",
    "|       4|2013-07-25 00:00:...|             8827|      CLOSED|         7|          4|          502|     3|      150.0|            50.0|\n",
    "|       4|2013-07-25 00:00:...|             8827|      CLOSED|         8|          4|         1014|     4|     199.92|           49.98|\n",
    "+--------+--------------------+-----------------+------------+----------+-----------+-------------+------+-----------+----------------+\n",
    "only showing top 5 rows"
   ]
  },
  {
   "cell_type": "code",
   "execution_count": null,
   "metadata": {},
   "outputs": [],
   "source": [
    ">>> categoryRevenueDF = ordersJoin. \\\n",
    "...                             join(prodcatJoin, ordersJoin.oi_product_id == prodcatJoin.product_id). \\\n",
    "...                             groupBy('order_date', 'product_category_id', 'category_name'). \\\n",
    "...                             agg(round(sum('oi_subtotal'), 2).alias('revenue')). \\\n",
    "...                             select('order_date', 'category_name', 'revenue')"
   ]
  },
  {
   "cell_type": "code",
   "execution_count": null,
   "metadata": {},
   "outputs": [],
   "source": [
    ">>> categoryRevenueDF.show()"
   ]
  },
  {
   "cell_type": "raw",
   "metadata": {},
   "source": [
    "+--------------------+-------------------+-------+\n",
    "|          order_date|      category_name|revenue|\n",
    "+--------------------+-------------------+-------+\n",
    "|2013-09-10 00:00:...|         Golf Balls|  189.9|\n",
    "|2014-02-25 00:00:...|         Golf Balls|  59.97|\n",
    "|2013-11-16 00:00:...|   Kids' Golf Clubs|  399.8|\n",
    "|2014-04-08 00:00:...|Fitness Accessories|  34.99|\n",
    "|2014-07-04 00:00:...|Fitness Accessories| 139.96|\n",
    "|2013-08-04 00:00:...|             Soccer| 124.99|\n",
    "|2013-10-14 00:00:...|             Soccer| 124.99|\n",
    "|2013-08-04 00:00:...|       Water Sports|5399.73|\n",
    "|2013-08-24 00:00:...|       Water Sports|4599.77|\n",
    "|2014-05-15 00:00:...|    Women's Apparel| 4400.0|\n",
    "|2013-08-07 00:00:...|      Shop By Sport|2439.39|\n",
    "|2014-05-18 00:00:...|        Electronics| 231.94|\n",
    "|2013-11-02 00:00:...|        Golf Gloves| 124.95|\n",
    "|2013-09-21 00:00:...|   Cardio Equipment| 2089.8|\n",
    "|2014-03-03 00:00:...|        Electronics| 431.88|\n",
    "|2014-02-26 00:00:...|    As Seen on  TV!| 399.96|\n",
    "|2013-09-26 00:00:...|   Men's Golf Clubs| 134.99|\n",
    "|2014-03-29 00:00:...|   Cardio Equipment| 3999.6|\n",
    "|2013-09-11 00:00:...|   Cardio Equipment| 899.91|\n",
    "|2014-03-10 00:00:...|     Girls' Apparel|  250.0|\n",
    "+--------------------+-------------------+-------+\n",
    "only showing top 20 rows"
   ]
  },
  {
   "cell_type": "code",
   "execution_count": null,
   "metadata": {},
   "outputs": [],
   "source": [
    ">>> categoryRevenueDF.where(\"category_name == 'Golf Balls'\").sort('order_date').show()"
   ]
  },
  {
   "cell_type": "raw",
   "metadata": {},
   "source": [
    "+--------------------+-------------+-------+\n",
    "|          order_date|category_name|revenue|\n",
    "+--------------------+-------------+-------+\n",
    "|2013-07-25 00:00:...|   Golf Balls|  79.96|\n",
    "|2013-07-26 00:00:...|   Golf Balls| 249.86|\n",
    "|2013-07-27 00:00:...|   Golf Balls| 116.93|\n",
    "|2013-07-28 00:00:...|   Golf Balls|  37.98|\n",
    "|2013-07-29 00:00:...|   Golf Balls| 278.85|\n",
    "|2013-07-30 00:00:...|   Golf Balls|  95.94|\n",
    "|2013-07-31 00:00:...|   Golf Balls| 175.89|\n",
    "|2013-08-01 00:00:...|   Golf Balls|  17.99|\n",
    "|2013-08-02 00:00:...|   Golf Balls| 236.86|\n",
    "|2013-08-03 00:00:...|   Golf Balls|  69.96|\n",
    "|2013-08-04 00:00:...|   Golf Balls|  17.99|\n",
    "|2013-08-05 00:00:...|   Golf Balls| 299.85|\n",
    "|2013-08-06 00:00:...|   Golf Balls|  87.95|\n",
    "|2013-08-07 00:00:...|   Golf Balls|  57.97|\n",
    "|2013-08-08 00:00:...|   Golf Balls|  44.97|\n",
    "|2013-08-10 00:00:...|   Golf Balls| 309.82|\n",
    "|2013-08-11 00:00:...|   Golf Balls|  59.97|\n",
    "|2013-08-12 00:00:...|   Golf Balls|  68.96|\n",
    "|2013-08-13 00:00:...|   Golf Balls|  29.98|\n",
    "|2013-08-14 00:00:...|   Golf Balls|  59.96|\n",
    "+--------------------+-------------+-------+\n",
    "only showing top 20 rows"
   ]
  },
  {
   "cell_type": "code",
   "execution_count": null,
   "metadata": {},
   "outputs": [],
   "source": [
    ">>> categoryRevenueDF.where(\"category_name == 'Golf Balls'\").sort('order_date').count()"
   ]
  },
  {
   "cell_type": "raw",
   "metadata": {},
   "source": [
    "296"
   ]
  },
  {
   "cell_type": "markdown",
   "metadata": {},
   "source": [
    "<p style=\"background :#d0d5db\"><b>Validation Through Hive Query</b> </p>"
   ]
  },
  {
   "cell_type": "code",
   "execution_count": null,
   "metadata": {},
   "outputs": [],
   "source": [
    "hive (monahadoop_final)> select order_date, cat_name, round(sum(item_subtotal), 2)\n",
    "                       > from \n",
    "                       > orders, order_items, products, categories\n",
    "                       > where\n",
    "                       > orders.order_id = order_items.item_order_id and\n",
    "                       > order_items.item_product_id = products.product_id and\n",
    "                       > products.product_category_id = categories.cat_id\n",
    "                       > and order_status in (\"CLOSED\", \"COMPLETE\")\n",
    "                       > group by order_date, product_category_id, cat_name;"
   ]
  },
  {
   "cell_type": "code",
   "execution_count": null,
   "metadata": {},
   "outputs": [],
   "source": [
    "hive (monahadoop_final)> select order_date, cat_name, round(sum(item_subtotal), 2)\n",
    "                       > from \n",
    "                       > orders, order_items, products, categories\n",
    "                       > where\n",
    "                       > orders.order_id = order_items.item_order_id and\n",
    "                       > order_items.item_product_id = products.product_id and\n",
    "                       > products.product_category_id = categories.cat_id\n",
    "                       > and order_status in (\"CLOSED\", \"COMPLETE\")\n",
    "                       > group by order_date, product_category_id, cat_name\n",
    "                       > having cat_name = 'Golf Balls';"
   ]
  },
  {
   "cell_type": "code",
   "execution_count": null,
   "metadata": {},
   "outputs": [],
   "source": [
    "2013-07-25 00:00:00.0\tGolf Balls\t79.96\n",
    "2013-07-26 00:00:00.0\tGolf Balls\t249.86\n",
    "2013-07-27 00:00:00.0\tGolf Balls\t116.93\n",
    "2013-07-28 00:00:00.0\tGolf Balls\t37.98\n",
    "2013-07-29 00:00:00.0\tGolf Balls\t278.85\n",
    "2013-07-30 00:00:00.0\tGolf Balls\t95.94\n",
    "2013-07-31 00:00:00.0\tGolf Balls\t175.89\n",
    "\n",
    "Time taken: 42.673 seconds, Fetched: 296 row(s)"
   ]
  },
  {
   "cell_type": "markdown",
   "metadata": {},
   "source": [
    "<p style=\"background:#F1C40F\">Get the details of the customers who never placed any order.</p>"
   ]
  },
  {
   "cell_type": "code",
   "execution_count": null,
   "metadata": {},
   "outputs": [],
   "source": [
    ">>> customers = spark.read. \\\n",
    "...                     format('csv'). \\\n",
    "...                     schema('customer_id int, customer_fname string, customer_lname string, customer_email string, customer_password string, customer_street string, customer_city string, customer_state string, customer_zipcode string'). \\\n",
    "...                     load('/public/retail_db/customers')"
   ]
  },
  {
   "cell_type": "code",
   "execution_count": null,
   "metadata": {},
   "outputs": [],
   "source": [
    ">>> customers.printSchema()"
   ]
  },
  {
   "cell_type": "raw",
   "metadata": {},
   "source": [
    "root\n",
    " |-- customer_id: integer (nullable = true)\n",
    " |-- customer_fname: string (nullable = true)\n",
    " |-- customer_lname: string (nullable = true)\n",
    " |-- customer_email: string (nullable = true)\n",
    " |-- customer_password: string (nullable = true)\n",
    " |-- customer_street: string (nullable = true)\n",
    " |-- customer_city: string (nullable = true)\n",
    " |-- customer_state: string (nullable = true)\n",
    " |-- customer_zipcode: string (nullable = true)"
   ]
  },
  {
   "cell_type": "code",
   "execution_count": null,
   "metadata": {},
   "outputs": [],
   "source": [
    ">>> orders = spark.read. \\\n",
    "...      format('csv'). \\\n",
    "...      schema('order_id int, order_date string, order_customer_id int, order_status string'). \\\n",
    "...      load('/public/retail_db/orders')"
   ]
  },
  {
   "cell_type": "code",
   "execution_count": null,
   "metadata": {},
   "outputs": [],
   "source": [
    ">>> CustomerWithNoOrdersDF = customers. \\\n",
    "...                             join(orders, customers.customer_id == orders.order_customer_id, \"left\"). \\\n",
    "...                             where('order_status is NULL'). \\\n",
    "...                             select('customer_fname', 'customer_lname'). \\\n",
    "...                             sort('customer_lname', 'customer_fname')"
   ]
  },
  {
   "cell_type": "raw",
   "metadata": {},
   "source": [
    ">>> CustomerWithNoOrdersDF.show(50)\n",
    "+--------------+--------------+\n",
    "|customer_fname|customer_lname|\n",
    "+--------------+--------------+\n",
    "|          Mary|        Bolton|\n",
    "|        Albert|       Ellison|\n",
    "|       Carolyn|         Green|\n",
    "|          Mary|        Greene|\n",
    "|          Mary|       Harrell|\n",
    "|          Mary|         Lewis|\n",
    "|          Mary|       Mueller|\n",
    "|       Matthew|         Patel|\n",
    "|          Mary|          Shaw|\n",
    "|        Amanda|         Smith|\n",
    "|        Ashley|         Smith|\n",
    "|          Carl|         Smith|\n",
    "|          Emma|         Smith|\n",
    "|         Grace|         Smith|\n",
    "|         James|         Smith|\n",
    "|          Joan|         Smith|\n",
    "|       Kenneth|         Smith|\n",
    "|         Kevin|         Smith|\n",
    "|          Mary|         Smith|\n",
    "|          Mary|         Smith|\n",
    "|          Mary|         Smith|\n",
    "|          Mary|         Smith|\n",
    "|         Randy|         Smith|\n",
    "|       Stephen|         Smith|\n",
    "|         Donna|      Stephens|\n",
    "|          Jose|        Tanner|\n",
    "|       Dorothy|       Vazquez|\n",
    "|          Gary|        Walker|\n",
    "|          Mary|      Williams|\n",
    "|          Alan|          Wolf|\n",
    "+--------------+--------------+"
   ]
  },
  {
   "cell_type": "markdown",
   "metadata": {},
   "source": [
    "<p style=\"background :#d0d5db\"><b>END</b> </p>"
   ]
  }
 ],
 "metadata": {
  "kernelspec": {
   "display_name": "Python 3",
   "language": "python",
   "name": "python3"
  },
  "language_info": {
   "codemirror_mode": {
    "name": "ipython",
    "version": 3
   },
   "file_extension": ".py",
   "mimetype": "text/x-python",
   "name": "python",
   "nbconvert_exporter": "python",
   "pygments_lexer": "ipython3",
   "version": "3.8.5"
  }
 },
 "nbformat": 4,
 "nbformat_minor": 4
}
